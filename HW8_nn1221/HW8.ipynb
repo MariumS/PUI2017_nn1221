{
 "cells": [
  {
   "cell_type": "markdown",
   "metadata": {},
   "source": [
    "# Homework 8\n",
    "Nina Nurrahmawati / nn1221"
   ]
  },
  {
   "cell_type": "code",
   "execution_count": 1,
   "metadata": {
    "scrolled": true
   },
   "outputs": [
    {
     "name": "stdout",
     "output_type": "stream",
     "text": [
      "Populating the interactive namespace from numpy and matplotlib\n"
     ]
    }
   ],
   "source": [
    "import pylab as pl\n",
    "import pandas as pd\n",
    "import numpy as np\n",
    "import datetime as dt\n",
    "import seaborn as sns\n",
    "%pylab inline"
   ]
  },
  {
   "cell_type": "markdown",
   "metadata": {},
   "source": [
    "I use 311 data that I downloaded from [NYC Open Data](https://nycopendata.socrata.com/Social-Services/311-Service-Requests-from-2010-to-Present/erm2-nwe9/data). The data have been filtered by complaint type of heating and heat/hot water between October 1 and May 31, from 2010 - 2017. New York City allows complaint regarding residential building that does not have enough heat only between October 1 and May 31 [(source)](http://www1.nyc.gov/site/hpd/owners/heat-hot-water.page), therefore this assignment will use data from October 1 to May 31."
   ]
  },
  {
   "cell_type": "code",
   "execution_count": 2,
   "metadata": {
    "collapsed": true
   },
   "outputs": [],
   "source": [
    "url = 'https://www.dropbox.com/s/obk0nbwtvhcu6gm/311_HEAT.csv?dl=1'"
   ]
  },
  {
   "cell_type": "code",
   "execution_count": 3,
   "metadata": {},
   "outputs": [
    {
     "data": {
      "text/html": [
       "<div>\n",
       "<style>\n",
       "    .dataframe thead tr:only-child th {\n",
       "        text-align: right;\n",
       "    }\n",
       "\n",
       "    .dataframe thead th {\n",
       "        text-align: left;\n",
       "    }\n",
       "\n",
       "    .dataframe tbody tr th {\n",
       "        vertical-align: top;\n",
       "    }\n",
       "</style>\n",
       "<table border=\"1\" class=\"dataframe\">\n",
       "  <thead>\n",
       "    <tr style=\"text-align: right;\">\n",
       "      <th></th>\n",
       "      <th>Created Date</th>\n",
       "      <th>Complaint Type</th>\n",
       "      <th>Incident Zip</th>\n",
       "      <th>Borough</th>\n",
       "      <th>Latitude</th>\n",
       "      <th>Longitude</th>\n",
       "      <th>Location</th>\n",
       "    </tr>\n",
       "  </thead>\n",
       "  <tbody>\n",
       "    <tr>\n",
       "      <th>0</th>\n",
       "      <td>10/01/2015 10:01:05 PM</td>\n",
       "      <td>HEAT/HOT WATER</td>\n",
       "      <td>10467.0</td>\n",
       "      <td>BRONX</td>\n",
       "      <td>40.876181</td>\n",
       "      <td>-73.866978</td>\n",
       "      <td>(40.87618083436069, -73.86697786061319)</td>\n",
       "    </tr>\n",
       "    <tr>\n",
       "      <th>1</th>\n",
       "      <td>10/01/2015 11:55:22 AM</td>\n",
       "      <td>HEAT/HOT WATER</td>\n",
       "      <td>10314.0</td>\n",
       "      <td>STATEN ISLAND</td>\n",
       "      <td>40.594191</td>\n",
       "      <td>-74.190990</td>\n",
       "      <td>(40.59419093569641, -74.19099045799757)</td>\n",
       "    </tr>\n",
       "  </tbody>\n",
       "</table>\n",
       "</div>"
      ],
      "text/plain": [
       "             Created Date  Complaint Type  Incident Zip        Borough  \\\n",
       "0  10/01/2015 10:01:05 PM  HEAT/HOT WATER       10467.0          BRONX   \n",
       "1  10/01/2015 11:55:22 AM  HEAT/HOT WATER       10314.0  STATEN ISLAND   \n",
       "\n",
       "    Latitude  Longitude                                 Location  \n",
       "0  40.876181 -73.866978  (40.87618083436069, -73.86697786061319)  \n",
       "1  40.594191 -74.190990  (40.59419093569641, -74.19099045799757)  "
      ]
     },
     "execution_count": 3,
     "metadata": {},
     "output_type": "execute_result"
    }
   ],
   "source": [
    "# import data\n",
    "data = pd.read_csv(url)\n",
    "data.head(2)"
   ]
  },
  {
   "cell_type": "code",
   "execution_count": 4,
   "metadata": {
    "collapsed": true
   },
   "outputs": [],
   "source": [
    "# data cleaning \n",
    "data.columns = ['Date', 'Frequency', 'Zipcode', 'Borough', 'Latitude', 'Longitude', 'Location']\n",
    "\n",
    "# eliminate all zip code outside NYC and change to integer\n",
    "data = data[data['Zipcode'] < 12000 ]\n",
    "data['Zipcode'] = data.Zipcode.astype(int)"
   ]
  },
  {
   "cell_type": "code",
   "execution_count": 5,
   "metadata": {
    "collapsed": true
   },
   "outputs": [],
   "source": [
    "# set datetime\n",
    "data['Date'] = data['Date'].str[:19]\n",
    "data['Date'] = pd.to_datetime(data.Date)\n",
    "data['Year'] = data['Date'].dt.strftime('%Y')\n",
    "data['YearMonth'] = data['Date'].dt.strftime('%Y/%m')\n",
    "data['Month'] = data['Date'].dt.strftime('%b')"
   ]
  },
  {
   "cell_type": "code",
   "execution_count": 6,
   "metadata": {
    "collapsed": true
   },
   "outputs": [],
   "source": [
    "# create new dataframe\n",
    "winter2016 = data[(data['Date']>dt.date(2016,10,1)) & (data['Date']<dt.date(2017,5,31))]\n",
    "winter2015 = data[(data['Date']>dt.date(2015,10,1)) & (data['Date']<dt.date(2016,5,31))]\n",
    "winter2014 = data[(data['Date']>dt.date(2014,10,1)) & (data['Date']<dt.date(2015,5,31))] \n",
    "winter2013 = data[(data['Date']>dt.date(2013,10,1)) & (data['Date']<dt.date(2014,5,31))] \n",
    "winter2012 = data[(data['Date']>dt.date(2012,10,1)) & (data['Date']<dt.date(2013,5,31))] \n",
    "winter2011 = data[(data['Date']>dt.date(2011,10,1)) & (data['Date']<dt.date(2012,5,31))] \n",
    "winter2010 = data[(data['Date']>dt.date(2010,10,1)) & (data['Date']<dt.date(2011,5,31))] \n",
    "\n",
    "df16 = winter2016.groupby(['Zipcode']).size().reset_index()\n",
    "df15 = winter2015.groupby(['Zipcode']).size().reset_index()\n",
    "df14 = winter2014.groupby(['Zipcode']).size().reset_index()\n",
    "df13 = winter2013.groupby(['Zipcode']).size().reset_index()\n",
    "df12 = winter2012.groupby(['Zipcode']).size().reset_index()\n",
    "df11 = winter2011.groupby(['Zipcode']).size().reset_index()\n",
    "df10 = winter2010.groupby(['Zipcode']).size().reset_index()\n",
    "\n",
    "m1 = pd.merge(df10, df11, on='Zipcode', how='inner') \n",
    "m2 = pd.merge(df12, df13, on='Zipcode', how='inner') \n",
    "m3 = pd.merge(df14, df15, on='Zipcode', how='inner') \n",
    "m4 = pd.merge(m1, m2, on='Zipcode', how='inner') \n",
    "m5 = pd.merge(m3, df16, on='Zipcode', how='inner') \n",
    "\n",
    "df = pd.merge(m4, m5, on='Zipcode', how='inner') \n",
    "df.columns = ['Zipcode', '2010', '2011', '2012', '2013', '2014', '2015', '2016']"
   ]
  },
  {
   "cell_type": "code",
   "execution_count": 7,
   "metadata": {
    "collapsed": true
   },
   "outputs": [],
   "source": [
    "w2010 = winter2010.groupby(['YearMonth']).count()\n",
    "w2011 = winter2011.groupby(['YearMonth']).count()\n",
    "w2012 = winter2012.groupby(['YearMonth']).count()\n",
    "w2013 = winter2013.groupby(['YearMonth']).count()\n",
    "w2014 = winter2014.groupby(['YearMonth']).count()\n",
    "w2015 = winter2015.groupby(['YearMonth']).count()\n",
    "w2016 = winter2016.groupby(['YearMonth']).count()"
   ]
  },
  {
   "cell_type": "code",
   "execution_count": 8,
   "metadata": {},
   "outputs": [],
   "source": [
    "w2010['Date'] = ['October', 'November', 'December', 'January', 'February', 'March', 'April', 'May']\n",
    "w2010['Year'] = ['2010'] * 8\n",
    "w2010 = w2010.drop(['Zipcode', 'Borough', 'Latitude', 'Longitude',\n",
    "       'Location', 'Month'], axis=1)\n",
    "w2011['Date'] = ['October', 'November', 'December', 'January', 'February', \n",
    "                 'March', 'April', 'May']\n",
    "w2011['Year'] = ['2011'] * 8\n",
    "w2011 = w2011.drop(['Zipcode', 'Borough', 'Latitude', 'Longitude',\n",
    "       'Location', 'Month'], axis=1)\n",
    "w2012['Date'] = ['October', 'November', 'December', 'January', 'February', \n",
    "                 'March', 'April', 'May']\n",
    "w2012['Year'] = ['2012'] * 8\n",
    "w2012 = w2012.drop(['Zipcode', 'Borough', 'Latitude', 'Longitude',\n",
    "       'Location', 'Month'], axis=1)\n",
    "w2013['Date'] = ['October', 'November', 'December', 'January', 'February', \n",
    "                 'March', 'April', 'May']\n",
    "w2013['Year'] = ['2013'] * 8\n",
    "w2013 = w2013.drop(['Zipcode', 'Borough', 'Latitude', 'Longitude',\n",
    "       'Location', 'Month'], axis=1)\n",
    "w2014['Date'] = ['October', 'November', 'December', 'January', 'February', \n",
    "                 'March', 'April', 'May']\n",
    "w2014['Year'] = ['2014'] * 8\n",
    "w2014 = w2014.drop(['Zipcode', 'Borough', 'Latitude', 'Longitude',\n",
    "       'Location', 'Month'], axis=1)\n",
    "w2015['Date'] = ['October', 'November', 'December', 'January', 'February', \n",
    "                 'March', 'April', 'May']\n",
    "w2015['Year'] = ['2015'] * 8\n",
    "w2015 = w2015.drop(['Zipcode', 'Borough', 'Latitude', 'Longitude',\n",
    "       'Location', 'Month'], axis=1)\n",
    "w2016['Date'] = ['October', 'November', 'December', 'January', 'February', \n",
    "                 'March', 'April', 'May']\n",
    "w2016['Year'] = ['2016'] * 8\n",
    "w2016 = w2016.drop(['Zipcode', 'Borough', 'Latitude', 'Longitude',\n",
    "       'Location', 'Month'], axis=1)"
   ]
  },
  {
   "cell_type": "code",
   "execution_count": 9,
   "metadata": {
    "collapsed": true
   },
   "outputs": [],
   "source": [
    "# Concatenating\n",
    "frames = [w2010, w2011, w2012, w2013, w2014, w2015, w2016]\n",
    "df = pd.concat(frames)"
   ]
  },
  {
   "cell_type": "code",
   "execution_count": 10,
   "metadata": {},
   "outputs": [
    {
     "data": {
      "text/html": [
       "<div>\n",
       "<style>\n",
       "    .dataframe thead tr:only-child th {\n",
       "        text-align: right;\n",
       "    }\n",
       "\n",
       "    .dataframe thead th {\n",
       "        text-align: left;\n",
       "    }\n",
       "\n",
       "    .dataframe tbody tr th {\n",
       "        vertical-align: top;\n",
       "    }\n",
       "</style>\n",
       "<table border=\"1\" class=\"dataframe\">\n",
       "  <thead>\n",
       "    <tr style=\"text-align: right;\">\n",
       "      <th></th>\n",
       "      <th>Months</th>\n",
       "      <th>Frequency</th>\n",
       "      <th>Winter Term</th>\n",
       "    </tr>\n",
       "    <tr>\n",
       "      <th>YearMonth</th>\n",
       "      <th></th>\n",
       "      <th></th>\n",
       "      <th></th>\n",
       "    </tr>\n",
       "  </thead>\n",
       "  <tbody>\n",
       "    <tr>\n",
       "      <th>2010/10</th>\n",
       "      <td>October</td>\n",
       "      <td>19511</td>\n",
       "      <td>2010</td>\n",
       "    </tr>\n",
       "    <tr>\n",
       "      <th>2010/11</th>\n",
       "      <td>November</td>\n",
       "      <td>37269</td>\n",
       "      <td>2010</td>\n",
       "    </tr>\n",
       "    <tr>\n",
       "      <th>2010/12</th>\n",
       "      <td>December</td>\n",
       "      <td>51361</td>\n",
       "      <td>2010</td>\n",
       "    </tr>\n",
       "    <tr>\n",
       "      <th>2011/01</th>\n",
       "      <td>January</td>\n",
       "      <td>39616</td>\n",
       "      <td>2010</td>\n",
       "    </tr>\n",
       "    <tr>\n",
       "      <th>2011/02</th>\n",
       "      <td>February</td>\n",
       "      <td>24652</td>\n",
       "      <td>2010</td>\n",
       "    </tr>\n",
       "  </tbody>\n",
       "</table>\n",
       "</div>"
      ],
      "text/plain": [
       "             Months  Frequency Winter Term\n",
       "YearMonth                                 \n",
       "2010/10     October      19511        2010\n",
       "2010/11    November      37269        2010\n",
       "2010/12    December      51361        2010\n",
       "2011/01     January      39616        2010\n",
       "2011/02    February      24652        2010"
      ]
     },
     "execution_count": 10,
     "metadata": {},
     "output_type": "execute_result"
    }
   ],
   "source": [
    "df.columns = ['Months', 'Frequency', 'Winter Term']\n",
    "df.head()"
   ]
  },
  {
   "cell_type": "code",
   "execution_count": 11,
   "metadata": {},
   "outputs": [
    {
     "data": {
      "text/html": [
       "<div>\n",
       "<style>\n",
       "    .dataframe thead tr:only-child th {\n",
       "        text-align: right;\n",
       "    }\n",
       "\n",
       "    .dataframe thead th {\n",
       "        text-align: left;\n",
       "    }\n",
       "\n",
       "    .dataframe tbody tr th {\n",
       "        vertical-align: top;\n",
       "    }\n",
       "</style>\n",
       "<table border=\"1\" class=\"dataframe\">\n",
       "  <thead>\n",
       "    <tr style=\"text-align: right;\">\n",
       "      <th>Months</th>\n",
       "      <th>April</th>\n",
       "      <th>December</th>\n",
       "      <th>February</th>\n",
       "      <th>January</th>\n",
       "      <th>March</th>\n",
       "      <th>May</th>\n",
       "      <th>November</th>\n",
       "      <th>October</th>\n",
       "    </tr>\n",
       "    <tr>\n",
       "      <th>Winter Term</th>\n",
       "      <th></th>\n",
       "      <th></th>\n",
       "      <th></th>\n",
       "      <th></th>\n",
       "      <th></th>\n",
       "      <th></th>\n",
       "      <th></th>\n",
       "      <th></th>\n",
       "    </tr>\n",
       "  </thead>\n",
       "  <tbody>\n",
       "    <tr>\n",
       "      <th>2010</th>\n",
       "      <td>11783</td>\n",
       "      <td>51361</td>\n",
       "      <td>24652</td>\n",
       "      <td>39616</td>\n",
       "      <td>21740</td>\n",
       "      <td>4258</td>\n",
       "      <td>37269</td>\n",
       "      <td>19511</td>\n",
       "    </tr>\n",
       "    <tr>\n",
       "      <th>2011</th>\n",
       "      <td>11189</td>\n",
       "      <td>32444</td>\n",
       "      <td>21443</td>\n",
       "      <td>37770</td>\n",
       "      <td>15283</td>\n",
       "      <td>3999</td>\n",
       "      <td>25301</td>\n",
       "      <td>22059</td>\n",
       "    </tr>\n",
       "    <tr>\n",
       "      <th>2012</th>\n",
       "      <td>11477</td>\n",
       "      <td>29861</td>\n",
       "      <td>19305</td>\n",
       "      <td>43511</td>\n",
       "      <td>20525</td>\n",
       "      <td>5457</td>\n",
       "      <td>40309</td>\n",
       "      <td>12987</td>\n",
       "    </tr>\n",
       "    <tr>\n",
       "      <th>2013</th>\n",
       "      <td>13381</td>\n",
       "      <td>32741</td>\n",
       "      <td>28938</td>\n",
       "      <td>59859</td>\n",
       "      <td>23241</td>\n",
       "      <td>4195</td>\n",
       "      <td>35280</td>\n",
       "      <td>14913</td>\n",
       "    </tr>\n",
       "    <tr>\n",
       "      <th>2014</th>\n",
       "      <td>13525</td>\n",
       "      <td>31701</td>\n",
       "      <td>49582</td>\n",
       "      <td>49101</td>\n",
       "      <td>22958</td>\n",
       "      <td>4538</td>\n",
       "      <td>42455</td>\n",
       "      <td>16730</td>\n",
       "    </tr>\n",
       "    <tr>\n",
       "      <th>2015</th>\n",
       "      <td>12885</td>\n",
       "      <td>22360</td>\n",
       "      <td>38162</td>\n",
       "      <td>48405</td>\n",
       "      <td>17741</td>\n",
       "      <td>7637</td>\n",
       "      <td>27566</td>\n",
       "      <td>25486</td>\n",
       "    </tr>\n",
       "    <tr>\n",
       "      <th>2016</th>\n",
       "      <td>10727</td>\n",
       "      <td>41963</td>\n",
       "      <td>23296</td>\n",
       "      <td>33996</td>\n",
       "      <td>31102</td>\n",
       "      <td>7356</td>\n",
       "      <td>28484</td>\n",
       "      <td>22488</td>\n",
       "    </tr>\n",
       "  </tbody>\n",
       "</table>\n",
       "</div>"
      ],
      "text/plain": [
       "Months       April  December  February  January  March   May  November  \\\n",
       "Winter Term                                                              \n",
       "2010         11783     51361     24652    39616  21740  4258     37269   \n",
       "2011         11189     32444     21443    37770  15283  3999     25301   \n",
       "2012         11477     29861     19305    43511  20525  5457     40309   \n",
       "2013         13381     32741     28938    59859  23241  4195     35280   \n",
       "2014         13525     31701     49582    49101  22958  4538     42455   \n",
       "2015         12885     22360     38162    48405  17741  7637     27566   \n",
       "2016         10727     41963     23296    33996  31102  7356     28484   \n",
       "\n",
       "Months       October  \n",
       "Winter Term           \n",
       "2010           19511  \n",
       "2011           22059  \n",
       "2012           12987  \n",
       "2013           14913  \n",
       "2014           16730  \n",
       "2015           25486  \n",
       "2016           22488  "
      ]
     },
     "execution_count": 11,
     "metadata": {},
     "output_type": "execute_result"
    }
   ],
   "source": [
    "# pivot table\n",
    "table = df.pivot_table(index='Winter Term',columns='Months',values='Frequency')\n",
    "table"
   ]
  },
  {
   "cell_type": "code",
   "execution_count": 12,
   "metadata": {},
   "outputs": [
    {
     "data": {
      "text/html": [
       "<div>\n",
       "<style>\n",
       "    .dataframe thead tr:only-child th {\n",
       "        text-align: right;\n",
       "    }\n",
       "\n",
       "    .dataframe thead th {\n",
       "        text-align: left;\n",
       "    }\n",
       "\n",
       "    .dataframe tbody tr th {\n",
       "        vertical-align: top;\n",
       "    }\n",
       "</style>\n",
       "<table border=\"1\" class=\"dataframe\">\n",
       "  <thead>\n",
       "    <tr style=\"text-align: right;\">\n",
       "      <th>Months</th>\n",
       "      <th>October</th>\n",
       "      <th>November</th>\n",
       "      <th>December</th>\n",
       "      <th>January</th>\n",
       "      <th>February</th>\n",
       "      <th>March</th>\n",
       "      <th>April</th>\n",
       "      <th>May</th>\n",
       "    </tr>\n",
       "    <tr>\n",
       "      <th>Winter Term</th>\n",
       "      <th></th>\n",
       "      <th></th>\n",
       "      <th></th>\n",
       "      <th></th>\n",
       "      <th></th>\n",
       "      <th></th>\n",
       "      <th></th>\n",
       "      <th></th>\n",
       "    </tr>\n",
       "  </thead>\n",
       "  <tbody>\n",
       "    <tr>\n",
       "      <th>2010</th>\n",
       "      <td>19511</td>\n",
       "      <td>37269</td>\n",
       "      <td>51361</td>\n",
       "      <td>39616</td>\n",
       "      <td>24652</td>\n",
       "      <td>21740</td>\n",
       "      <td>11783</td>\n",
       "      <td>4258</td>\n",
       "    </tr>\n",
       "    <tr>\n",
       "      <th>2011</th>\n",
       "      <td>22059</td>\n",
       "      <td>25301</td>\n",
       "      <td>32444</td>\n",
       "      <td>37770</td>\n",
       "      <td>21443</td>\n",
       "      <td>15283</td>\n",
       "      <td>11189</td>\n",
       "      <td>3999</td>\n",
       "    </tr>\n",
       "    <tr>\n",
       "      <th>2012</th>\n",
       "      <td>12987</td>\n",
       "      <td>40309</td>\n",
       "      <td>29861</td>\n",
       "      <td>43511</td>\n",
       "      <td>19305</td>\n",
       "      <td>20525</td>\n",
       "      <td>11477</td>\n",
       "      <td>5457</td>\n",
       "    </tr>\n",
       "    <tr>\n",
       "      <th>2013</th>\n",
       "      <td>14913</td>\n",
       "      <td>35280</td>\n",
       "      <td>32741</td>\n",
       "      <td>59859</td>\n",
       "      <td>28938</td>\n",
       "      <td>23241</td>\n",
       "      <td>13381</td>\n",
       "      <td>4195</td>\n",
       "    </tr>\n",
       "    <tr>\n",
       "      <th>2014</th>\n",
       "      <td>16730</td>\n",
       "      <td>42455</td>\n",
       "      <td>31701</td>\n",
       "      <td>49101</td>\n",
       "      <td>49582</td>\n",
       "      <td>22958</td>\n",
       "      <td>13525</td>\n",
       "      <td>4538</td>\n",
       "    </tr>\n",
       "    <tr>\n",
       "      <th>2015</th>\n",
       "      <td>25486</td>\n",
       "      <td>27566</td>\n",
       "      <td>22360</td>\n",
       "      <td>48405</td>\n",
       "      <td>38162</td>\n",
       "      <td>17741</td>\n",
       "      <td>12885</td>\n",
       "      <td>7637</td>\n",
       "    </tr>\n",
       "    <tr>\n",
       "      <th>2016</th>\n",
       "      <td>22488</td>\n",
       "      <td>28484</td>\n",
       "      <td>41963</td>\n",
       "      <td>33996</td>\n",
       "      <td>23296</td>\n",
       "      <td>31102</td>\n",
       "      <td>10727</td>\n",
       "      <td>7356</td>\n",
       "    </tr>\n",
       "  </tbody>\n",
       "</table>\n",
       "</div>"
      ],
      "text/plain": [
       "Months       October  November  December  January  February  March  April  \\\n",
       "Winter Term                                                                 \n",
       "2010           19511     37269     51361    39616     24652  21740  11783   \n",
       "2011           22059     25301     32444    37770     21443  15283  11189   \n",
       "2012           12987     40309     29861    43511     19305  20525  11477   \n",
       "2013           14913     35280     32741    59859     28938  23241  13381   \n",
       "2014           16730     42455     31701    49101     49582  22958  13525   \n",
       "2015           25486     27566     22360    48405     38162  17741  12885   \n",
       "2016           22488     28484     41963    33996     23296  31102  10727   \n",
       "\n",
       "Months        May  \n",
       "Winter Term        \n",
       "2010         4258  \n",
       "2011         3999  \n",
       "2012         5457  \n",
       "2013         4195  \n",
       "2014         4538  \n",
       "2015         7637  \n",
       "2016         7356  "
      ]
     },
     "execution_count": 12,
     "metadata": {},
     "output_type": "execute_result"
    }
   ],
   "source": [
    "table = table[['October', 'November', 'December', 'January', 'February', 'March', 'April', 'May']]\n",
    "table"
   ]
  },
  {
   "cell_type": "code",
   "execution_count": 22,
   "metadata": {},
   "outputs": [
    {
     "data": {
      "image/png": "[encoded data removed]",
      "text/plain": [
       "<matplotlib.figure.Figure at 0x13d12aeb8>"
      ]
     },
     "metadata": {},
     "output_type": "display_data"
    }
   ],
   "source": [
    "pl.figure(figsize=(11,5))\n",
    "pl.suptitle('Frequency of Heating Complaints in New York City',fontsize=18,fontweight='bold',y=1.02, x=0.435)\n",
    "pl.title('Winter 2010-2016',fontsize=15,y=1.02)\n",
    "sns.heatmap(table, linewidths=0.5, cmap='YlGnBu')\n",
    "pl.xlabel('Months', fontsize=14, fontweight='bold')\n",
    "pl.ylabel('Winter Term', fontsize=14, fontweight='bold')\n",
    "pl.xticks(rotation=30, fontsize=13)\n",
    "pl.yticks(fontsize=13, rotation=0)\n",
    "pl.show()"
   ]
  },
  {
   "cell_type": "markdown",
   "metadata": {},
   "source": [
    "**Figure 1.** Heating complaints frequencies through 311 calls data in New York City during Winter period of 2010-2016."
   ]
  },
  {
   "cell_type": "code",
   "execution_count": null,
   "metadata": {
    "collapsed": true
   },
   "outputs": [],
   "source": []
  },
  {
   "cell_type": "code",
   "execution_count": null,
   "metadata": {
    "collapsed": true
   },
   "outputs": [],
   "source": []
  }
 ],
 "metadata": {
  "kernelspec": {
   "display_name": "Python 3",
   "language": "python",
   "name": "python3"
  },
  "language_info": {
   "codemirror_mode": {
    "name": "ipython",
    "version": 3
   },
   "file_extension": ".py",
   "mimetype": "text/x-python",
   "name": "python",
   "nbconvert_exporter": "python",
   "pygments_lexer": "ipython3",
   "version": "3.6.1"
  }
 },
 "nbformat": 4,
 "nbformat_minor": 2
}
