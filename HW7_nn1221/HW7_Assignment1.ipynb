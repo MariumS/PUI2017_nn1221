{
 "cells": [
  {
   "cell_type": "markdown",
   "metadata": {},
   "source": [
    "# Written by Nina Nurrahmawati\n",
    "# for NYU CUSP PUI"
   ]
  },
  {
   "cell_type": "code",
   "execution_count": 1,
   "metadata": {
    "scrolled": false
   },
   "outputs": [
    {
     "name": "stdout",
     "output_type": "stream",
     "text": [
      "Populating the interactive namespace from numpy and matplotlib\n"
     ]
    },
    {
     "name": "stderr",
     "output_type": "stream",
     "text": [
      "/Applications/anaconda/lib/python3.6/site-packages/IPython/core/magics/pylab.py:161: UserWarning: pylab import has clobbered these variables: ['plt']\n",
      "`%matplotlib` prevents importing * from pylab and numpy\n",
      "  \"\\n`%matplotlib` prevents importing * from pylab and numpy\"\n"
     ]
    }
   ],
   "source": [
    "from __future__  import print_function, division\n",
    "import pylab as pl\n",
    "import pandas as pd\n",
    "import numpy as np\n",
    "from urllib.request import urlopen\n",
    "import matplotlib.pylab as plt\n",
    "import io\n",
    "%pylab inline\n",
    "import scipy.stats as st\n",
    "import datetime as dt\n",
    "import seaborn"
   ]
  },
  {
   "cell_type": "markdown",
   "metadata": {},
   "source": [
    "## IDEA:\n",
    "People usually have daily routine and tighter schedule in the weekdays, therefore they tend to commute in the weekdays. On the weekend, people do not have occasional trip distribution pattern. I assume that people will go to further place during weekend. Therefore, shorter distance trips are less likely to happens on weekend than longer distance trips."
   ]
  },
  {
   "cell_type": "markdown",
   "metadata": {},
   "source": [
    "### NULL HYPOTHESIS:\n",
    "The ratio of long distance trips in the weekend is less than or equal to the short distance trips on the weekdays.\n",
    "\n",
    "_$H_0$_ : $\\frac{L_{\\mathrm{weekend}}}{L_{\\mathrm{total}}} <= \\frac{S_{\\mathrm{weekend}}}{S_{\\mathrm{total}}}$\n",
    "\n",
    "_$H_1$_ : $\\frac{L_{\\mathrm{weekend}}}{L_{\\mathrm{total}}} > \\frac{S_{\\mathrm{weekend}}}{S_{\\mathrm{total}}}$\n",
    "\n",
    "\n",
    "#### Significance level  $\\alpha=0.05$\n",
    "\n"
   ]
  },
  {
   "cell_type": "code",
   "execution_count": 2,
   "metadata": {
    "collapsed": true
   },
   "outputs": [],
   "source": [
    "# download data\n",
    "url = urlopen('https://s3.amazonaws.com/tripdata/201501-citibike-tripdata.zip')\n",
    "df = pd.read_csv(io.BytesIO(url.read()), compression='zip', sep=',')"
   ]
  },
  {
   "cell_type": "code",
   "execution_count": 3,
   "metadata": {},
   "outputs": [
    {
     "data": {
      "text/html": [
       "<div>\n",
       "<style>\n",
       "    .dataframe thead tr:only-child th {\n",
       "        text-align: right;\n",
       "    }\n",
       "\n",
       "    .dataframe thead th {\n",
       "        text-align: left;\n",
       "    }\n",
       "\n",
       "    .dataframe tbody tr th {\n",
       "        vertical-align: top;\n",
       "    }\n",
       "</style>\n",
       "<table border=\"1\" class=\"dataframe\">\n",
       "  <thead>\n",
       "    <tr style=\"text-align: right;\">\n",
       "      <th></th>\n",
       "      <th>tripduration</th>\n",
       "      <th>starttime</th>\n",
       "      <th>stoptime</th>\n",
       "      <th>start station id</th>\n",
       "      <th>start station name</th>\n",
       "      <th>start station latitude</th>\n",
       "      <th>start station longitude</th>\n",
       "      <th>end station id</th>\n",
       "      <th>end station name</th>\n",
       "      <th>end station latitude</th>\n",
       "      <th>end station longitude</th>\n",
       "      <th>bikeid</th>\n",
       "      <th>usertype</th>\n",
       "      <th>birth year</th>\n",
       "      <th>gender</th>\n",
       "      <th>date</th>\n",
       "    </tr>\n",
       "  </thead>\n",
       "  <tbody>\n",
       "    <tr>\n",
       "      <th>0</th>\n",
       "      <td>1346</td>\n",
       "      <td>1/1/2015 0:01</td>\n",
       "      <td>1/1/2015 0:24</td>\n",
       "      <td>455</td>\n",
       "      <td>1 Ave &amp; E 44 St</td>\n",
       "      <td>40.750020</td>\n",
       "      <td>-73.969053</td>\n",
       "      <td>265</td>\n",
       "      <td>Stanton St &amp; Chrystie St</td>\n",
       "      <td>40.722293</td>\n",
       "      <td>-73.991475</td>\n",
       "      <td>18660</td>\n",
       "      <td>Subscriber</td>\n",
       "      <td>1960.0</td>\n",
       "      <td>2</td>\n",
       "      <td>2015-01-01 00:01:00</td>\n",
       "    </tr>\n",
       "    <tr>\n",
       "      <th>1</th>\n",
       "      <td>363</td>\n",
       "      <td>1/1/2015 0:02</td>\n",
       "      <td>1/1/2015 0:08</td>\n",
       "      <td>434</td>\n",
       "      <td>9 Ave &amp; W 18 St</td>\n",
       "      <td>40.743174</td>\n",
       "      <td>-74.003664</td>\n",
       "      <td>482</td>\n",
       "      <td>W 15 St &amp; 7 Ave</td>\n",
       "      <td>40.739355</td>\n",
       "      <td>-73.999318</td>\n",
       "      <td>16085</td>\n",
       "      <td>Subscriber</td>\n",
       "      <td>1963.0</td>\n",
       "      <td>1</td>\n",
       "      <td>2015-01-01 00:02:00</td>\n",
       "    </tr>\n",
       "  </tbody>\n",
       "</table>\n",
       "</div>"
      ],
      "text/plain": [
       "   tripduration      starttime       stoptime  start station id  \\\n",
       "0          1346  1/1/2015 0:01  1/1/2015 0:24               455   \n",
       "1           363  1/1/2015 0:02  1/1/2015 0:08               434   \n",
       "\n",
       "  start station name  start station latitude  start station longitude  \\\n",
       "0    1 Ave & E 44 St               40.750020               -73.969053   \n",
       "1    9 Ave & W 18 St               40.743174               -74.003664   \n",
       "\n",
       "   end station id          end station name  end station latitude  \\\n",
       "0             265  Stanton St & Chrystie St             40.722293   \n",
       "1             482           W 15 St & 7 Ave             40.739355   \n",
       "\n",
       "   end station longitude  bikeid    usertype  birth year  gender  \\\n",
       "0             -73.991475   18660  Subscriber      1960.0       2   \n",
       "1             -73.999318   16085  Subscriber      1963.0       1   \n",
       "\n",
       "                 date  \n",
       "0 2015-01-01 00:01:00  \n",
       "1 2015-01-01 00:02:00  "
      ]
     },
     "execution_count": 3,
     "metadata": {},
     "output_type": "execute_result"
    }
   ],
   "source": [
    "# set date\n",
    "df['date'] = pd.to_datetime(df['starttime'])\n",
    "df.head(2)"
   ]
  },
  {
   "cell_type": "code",
   "execution_count": 4,
   "metadata": {},
   "outputs": [
    {
     "data": {
      "text/plain": [
       "Index(['tripduration', 'starttime', 'stoptime', 'start station id',\n",
       "       'start station name', 'start station latitude',\n",
       "       'start station longitude', 'end station id', 'end station name',\n",
       "       'end station latitude', 'end station longitude', 'bikeid', 'usertype',\n",
       "       'birth year', 'gender', 'date'],\n",
       "      dtype='object')"
      ]
     },
     "execution_count": 4,
     "metadata": {},
     "output_type": "execute_result"
    }
   ],
   "source": [
    "df.columns"
   ]
  },
  {
   "cell_type": "code",
   "execution_count": 5,
   "metadata": {
    "collapsed": true
   },
   "outputs": [],
   "source": [
    "df.drop(['tripduration', 'starttime', 'stoptime', 'start station id',\n",
    "       'start station name', 'end station id', 'end station name', 'bikeid', 'usertype',\n",
    "       'birth year'], axis=1, inplace=True)"
   ]
  },
  {
   "cell_type": "code",
   "execution_count": 6,
   "metadata": {
    "scrolled": true
   },
   "outputs": [
    {
     "data": {
      "text/html": [
       "<div>\n",
       "<style>\n",
       "    .dataframe thead tr:only-child th {\n",
       "        text-align: right;\n",
       "    }\n",
       "\n",
       "    .dataframe thead th {\n",
       "        text-align: left;\n",
       "    }\n",
       "\n",
       "    .dataframe tbody tr th {\n",
       "        vertical-align: top;\n",
       "    }\n",
       "</style>\n",
       "<table border=\"1\" class=\"dataframe\">\n",
       "  <thead>\n",
       "    <tr style=\"text-align: right;\">\n",
       "      <th></th>\n",
       "      <th>start station latitude</th>\n",
       "      <th>start station longitude</th>\n",
       "      <th>end station latitude</th>\n",
       "      <th>end station longitude</th>\n",
       "      <th>gender</th>\n",
       "      <th>date</th>\n",
       "    </tr>\n",
       "  </thead>\n",
       "  <tbody>\n",
       "    <tr>\n",
       "      <th>0</th>\n",
       "      <td>40.750020</td>\n",
       "      <td>-73.969053</td>\n",
       "      <td>40.722293</td>\n",
       "      <td>-73.991475</td>\n",
       "      <td>2</td>\n",
       "      <td>2015-01-01 00:01:00</td>\n",
       "    </tr>\n",
       "    <tr>\n",
       "      <th>1</th>\n",
       "      <td>40.743174</td>\n",
       "      <td>-74.003664</td>\n",
       "      <td>40.739355</td>\n",
       "      <td>-73.999318</td>\n",
       "      <td>1</td>\n",
       "      <td>2015-01-01 00:02:00</td>\n",
       "    </tr>\n",
       "  </tbody>\n",
       "</table>\n",
       "</div>"
      ],
      "text/plain": [
       "   start station latitude  start station longitude  end station latitude  \\\n",
       "0               40.750020               -73.969053             40.722293   \n",
       "1               40.743174               -74.003664             40.739355   \n",
       "\n",
       "   end station longitude  gender                date  \n",
       "0             -73.991475       2 2015-01-01 00:01:00  \n",
       "1             -73.999318       1 2015-01-01 00:02:00  "
      ]
     },
     "execution_count": 6,
     "metadata": {},
     "output_type": "execute_result"
    }
   ],
   "source": [
    "df.head(2)"
   ]
  },
  {
   "cell_type": "code",
   "execution_count": 7,
   "metadata": {
    "scrolled": true
   },
   "outputs": [
    {
     "data": {
      "text/html": [
       "<div>\n",
       "<style>\n",
       "    .dataframe thead tr:only-child th {\n",
       "        text-align: right;\n",
       "    }\n",
       "\n",
       "    .dataframe thead th {\n",
       "        text-align: left;\n",
       "    }\n",
       "\n",
       "    .dataframe tbody tr th {\n",
       "        vertical-align: top;\n",
       "    }\n",
       "</style>\n",
       "<table border=\"1\" class=\"dataframe\">\n",
       "  <thead>\n",
       "    <tr style=\"text-align: right;\">\n",
       "      <th></th>\n",
       "      <th>gender</th>\n",
       "      <th>date</th>\n",
       "      <th>start_location</th>\n",
       "      <th>stop_location</th>\n",
       "    </tr>\n",
       "  </thead>\n",
       "  <tbody>\n",
       "    <tr>\n",
       "      <th>0</th>\n",
       "      <td>2</td>\n",
       "      <td>2015-01-01 00:01:00</td>\n",
       "      <td>(40.75001986, -73.96905301)</td>\n",
       "      <td>(40.72229346, -73.99147535)</td>\n",
       "    </tr>\n",
       "    <tr>\n",
       "      <th>1</th>\n",
       "      <td>1</td>\n",
       "      <td>2015-01-01 00:02:00</td>\n",
       "      <td>(40.74317449, -74.00366443)</td>\n",
       "      <td>(40.73935542, -73.99931783)</td>\n",
       "    </tr>\n",
       "  </tbody>\n",
       "</table>\n",
       "</div>"
      ],
      "text/plain": [
       "   gender                date               start_location  \\\n",
       "0       2 2015-01-01 00:01:00  (40.75001986, -73.96905301)   \n",
       "1       1 2015-01-01 00:02:00  (40.74317449, -74.00366443)   \n",
       "\n",
       "                 stop_location  \n",
       "0  (40.72229346, -73.99147535)  \n",
       "1  (40.73935542, -73.99931783)  "
      ]
     },
     "execution_count": 7,
     "metadata": {},
     "output_type": "execute_result"
    }
   ],
   "source": [
    "# merge and drop location data\n",
    "df.loc[:,\"start_location\"] = \"(\" + df[\"start station latitude\"].map(str) + \",\" + \" \" + df[\"start station longitude\"].map(str) + \")\"\n",
    "df.loc[:,\"stop_location\"] = \"(\" + df[\"end station latitude\"].map(str) + \",\" + \" \" + df[\"end station longitude\"].map(str) + \")\"\n",
    "df.loc[:,\"start_location\"] = df.loc[:,\"start_location\"].map(eval)\n",
    "df.loc[:,\"stop_location\"] = df.loc[:,\"stop_location\"].map(eval)\n",
    "df.drop(['start station latitude', 'start station longitude',\n",
    "       'end station latitude', 'end station longitude'], axis=1, inplace=True)\n",
    "df.head(2)"
   ]
  },
  {
   "cell_type": "code",
   "execution_count": 8,
   "metadata": {
    "collapsed": true
   },
   "outputs": [],
   "source": [
    "# need to install geopy, I'm using this to measure distance\n",
    "import geopy\n",
    "from geopy.distance import vincenty\n",
    "def distance(df):\n",
    "    return vincenty(df[\"start_location\"],df[\"stop_location\"]).miles\n",
    "\n",
    "df[\"distance\"] = df.apply(distance, axis=1)"
   ]
  },
  {
   "cell_type": "code",
   "execution_count": 9,
   "metadata": {
    "scrolled": true
   },
   "outputs": [
    {
     "data": {
      "text/html": [
       "<div>\n",
       "<style>\n",
       "    .dataframe thead tr:only-child th {\n",
       "        text-align: right;\n",
       "    }\n",
       "\n",
       "    .dataframe thead th {\n",
       "        text-align: left;\n",
       "    }\n",
       "\n",
       "    .dataframe tbody tr th {\n",
       "        vertical-align: top;\n",
       "    }\n",
       "</style>\n",
       "<table border=\"1\" class=\"dataframe\">\n",
       "  <thead>\n",
       "    <tr style=\"text-align: right;\">\n",
       "      <th></th>\n",
       "      <th>gender</th>\n",
       "      <th>date</th>\n",
       "      <th>start_location</th>\n",
       "      <th>stop_location</th>\n",
       "      <th>distance</th>\n",
       "    </tr>\n",
       "  </thead>\n",
       "  <tbody>\n",
       "    <tr>\n",
       "      <th>0</th>\n",
       "      <td>2</td>\n",
       "      <td>2015-01-01 00:01:00</td>\n",
       "      <td>(40.75001986, -73.96905301)</td>\n",
       "      <td>(40.72229346, -73.99147535)</td>\n",
       "      <td>2.246187</td>\n",
       "    </tr>\n",
       "    <tr>\n",
       "      <th>1</th>\n",
       "      <td>1</td>\n",
       "      <td>2015-01-01 00:02:00</td>\n",
       "      <td>(40.74317449, -74.00366443)</td>\n",
       "      <td>(40.73935542, -73.99931783)</td>\n",
       "      <td>0.348548</td>\n",
       "    </tr>\n",
       "  </tbody>\n",
       "</table>\n",
       "</div>"
      ],
      "text/plain": [
       "   gender                date               start_location  \\\n",
       "0       2 2015-01-01 00:01:00  (40.75001986, -73.96905301)   \n",
       "1       1 2015-01-01 00:02:00  (40.74317449, -74.00366443)   \n",
       "\n",
       "                 stop_location  distance  \n",
       "0  (40.72229346, -73.99147535)  2.246187  \n",
       "1  (40.73935542, -73.99931783)  0.348548  "
      ]
     },
     "execution_count": 9,
     "metadata": {},
     "output_type": "execute_result"
    }
   ],
   "source": [
    "df.head(2)"
   ]
  },
  {
   "cell_type": "code",
   "execution_count": 10,
   "metadata": {},
   "outputs": [
    {
     "data": {
      "text/plain": [
       "count    285552.000000\n",
       "mean          0.907267\n",
       "std           0.633454\n",
       "min           0.000000\n",
       "25%           0.487272\n",
       "50%           0.745605\n",
       "75%           1.134095\n",
       "max           5.882993\n",
       "Name: distance, dtype: float64"
      ]
     },
     "execution_count": 10,
     "metadata": {},
     "output_type": "execute_result"
    }
   ],
   "source": [
    "# check the distance statistics\n",
    "df.distance.describe()"
   ]
  },
  {
   "cell_type": "code",
   "execution_count": 11,
   "metadata": {
    "scrolled": true
   },
   "outputs": [
    {
     "data": {
      "text/html": [
       "<div>\n",
       "<style>\n",
       "    .dataframe thead tr:only-child th {\n",
       "        text-align: right;\n",
       "    }\n",
       "\n",
       "    .dataframe thead th {\n",
       "        text-align: left;\n",
       "    }\n",
       "\n",
       "    .dataframe tbody tr th {\n",
       "        vertical-align: top;\n",
       "    }\n",
       "</style>\n",
       "<table border=\"1\" class=\"dataframe\">\n",
       "  <thead>\n",
       "    <tr style=\"text-align: right;\">\n",
       "      <th></th>\n",
       "      <th>gender</th>\n",
       "      <th>date</th>\n",
       "      <th>start_location</th>\n",
       "      <th>stop_location</th>\n",
       "      <th>distance</th>\n",
       "    </tr>\n",
       "  </thead>\n",
       "  <tbody>\n",
       "    <tr>\n",
       "      <th>1</th>\n",
       "      <td>1</td>\n",
       "      <td>2015-01-01 00:02:00</td>\n",
       "      <td>(40.74317449, -74.00366443)</td>\n",
       "      <td>(40.73935542, -73.99931783)</td>\n",
       "      <td>0.348548</td>\n",
       "    </tr>\n",
       "    <tr>\n",
       "      <th>2</th>\n",
       "      <td>1</td>\n",
       "      <td>2015-01-01 00:04:00</td>\n",
       "      <td>(40.74096374, -73.98602213)</td>\n",
       "      <td>(40.74901271, -73.98848395)</td>\n",
       "      <td>0.570229</td>\n",
       "    </tr>\n",
       "  </tbody>\n",
       "</table>\n",
       "</div>"
      ],
      "text/plain": [
       "   gender                date               start_location  \\\n",
       "1       1 2015-01-01 00:02:00  (40.74317449, -74.00366443)   \n",
       "2       1 2015-01-01 00:04:00  (40.74096374, -73.98602213)   \n",
       "\n",
       "                 stop_location  distance  \n",
       "1  (40.73935542, -73.99931783)  0.348548  \n",
       "2  (40.74901271, -73.98848395)  0.570229  "
      ]
     },
     "execution_count": 11,
     "metadata": {},
     "output_type": "execute_result"
    }
   ],
   "source": [
    "# set long distance threshold, in this case I choose trip that below the mean of the trip (0.90 miles)\n",
    "avg = df.distance.mean()\n",
    "# separate short distance and long distance\n",
    "# long distance trip = above distance mean\n",
    "# short distance trip = below distance mean\n",
    "\n",
    "short = df[df[\"distance\"] < avg]\n",
    "long = df[df[\"distance\"] > avg]\n",
    "short.head(2)"
   ]
  },
  {
   "cell_type": "code",
   "execution_count": 12,
   "metadata": {},
   "outputs": [
    {
     "data": {
      "image/png": "[encoded data removed]",
      "text/plain": [
       "<matplotlib.figure.Figure at 0x111e6cd30>"
      ]
     },
     "metadata": {},
     "output_type": "display_data"
    }
   ],
   "source": [
    "import pylab as pl\n",
    "import seaborn as sns\n",
    "fig = pl.figure(figsize(10,5))\n",
    "\n",
    "norm_s = 1\n",
    "((df['date'][df['distance'] < avg].groupby([df['date'].dt.weekday]).count()) / norm_s).plot(kind=\"bar\", alpha=0.75,\n",
    "                                                                                         color='IndianRed', \n",
    "                                                                                         label='short distance trip')\n",
    "\n",
    "norm_l = 1\n",
    "ax = ((df['date'][df['distance'] > avg].groupby([df['date'].dt.weekday]).count()) / norm_l).plot(kind=\"bar\", \n",
    "                                                                                              color='c', \n",
    "                                                                                              alpha=0.75,\n",
    "                                                                                              label='long distance trip')\n",
    "\n",
    "tmp = ax.xaxis.set_ticklabels(['Mon', 'Tue', 'Wed', 'Thu', 'Fri', 'Sat', 'Sun'], fontsize=12)\n",
    "pl.xlabel('Day of the week')\n",
    "pl.ylabel('Number of rides')\n",
    "pl.title('Distribution of Citibike Users by Distance in January 2015', fontsize=17)\n",
    "pl.legend()\n",
    "pl.show()"
   ]
  },
  {
   "cell_type": "markdown",
   "metadata": {},
   "source": [
    "> #### Figure 1a: Distribution of Citibike bikers by distance in January 2015, absolute counts"
   ]
  },
  {
   "cell_type": "markdown",
   "metadata": {},
   "source": [
    "Note: the counts have errors of course. what is the error on the count statistics? \n",
    "\n",
    "for N counts the error is sqrt(N) - this is because counts follow a Poisson statistic"
   ]
  },
  {
   "cell_type": "code",
   "execution_count": 13,
   "metadata": {},
   "outputs": [
    {
     "data": {
      "image/png": "[encoded data removed]",
      "text/plain": [
       "<matplotlib.figure.Figure at 0x115b84d68>"
      ]
     },
     "metadata": {},
     "output_type": "display_data"
    }
   ],
   "source": [
    "fig=pl.figure(figsize(10,5))\n",
    "\n",
    "counts_s = df.date[df.distance < avg].groupby([df.date.dt.weekday]).count()\n",
    "norm_s = 1\n",
    "error_s = np.sqrt(counts_s)\n",
    "ax=((counts_s) / norm_s).plot(kind=\"bar\",color='IndianRed', alpha=0.75, yerr=[\n",
    "            ((error_s) / norm_s, (error_s) / norm_s)], label='short distance')\n",
    "\n",
    "\n",
    "counts_l = df.date[df.distance > avg].groupby([df.date.dt.weekday]).count()\n",
    "norm_l = 1\n",
    "error_l=np.sqrt(counts_l)\n",
    "((counts_l) / norm_l).plot(kind=\"bar\", alpha=0.75, yerr=[((error_l) / norm_l, (error_l) / norm_l)], \n",
    "                           color='c', label='long distance')\n",
    "ax.xaxis.set_ticklabels(['Mon','Tue','Wed','Thu','Fri','Sat','Sun'], fontsize=12)\n",
    "ax.set_ylabel (\"Number of rides\", fontsize=15)\n",
    "ax.set_xlabel (\"Day of the week\", fontsize=15)\n",
    "pl.legend(['short distance','long distance'],fontsize=10)\n",
    "pl.title('Distribution of Citibike bikers by distance in January 2015, \\nabsolute counts, with statistical errors', fontsize=17)\n",
    "pl.show()"
   ]
  },
  {
   "cell_type": "markdown",
   "metadata": {},
   "source": [
    "> #### Figure 1b: Distribution of Citibike bikers by gender in January 2015, absolute counts, with statistical errors"
   ]
  },
  {
   "cell_type": "markdown",
   "metadata": {},
   "source": [
    "Note: These are absolute numbers. It is very hard to compare absolute numbers. Ratios (or proportions) are more ameable to comparison, so let's _normalize_ the distribution of short distance, and that of longs distance, i.e. devide them by the total number of rides for that days. \n",
    "(Notice that i have to normalize the errorbars too!)\n",
    "\n"
   ]
  },
  {
   "cell_type": "code",
   "execution_count": 14,
   "metadata": {},
   "outputs": [
    {
     "data": {
      "image/png": "[encoded data removed]",
      "text/plain": [
       "<matplotlib.figure.Figure at 0x111e6c978>"
      ]
     },
     "metadata": {},
     "output_type": "display_data"
    }
   ],
   "source": [
    "fig = pl.figure(figsize(10,5))\n",
    "\n",
    "norm_s = counts_s.sum()\n",
    "error_s = np.sqrt(counts_s)\n",
    "((counts_s) / norm_s).plot(kind=\"bar\", color='IndianRed', alpha=0.75, \n",
    "                           yerr=[((error_s) / norm_s, (error_s) / norm_s)], \n",
    "                           label='short distance')\n",
    "\n",
    "norm_l = counts_l.sum()\n",
    "ax = ((counts_l) / norm_l).plot(kind=\"bar\", alpha=0.75, \n",
    "                                yerr=[((error_l) / norm_l, (error_l) / norm_l)], \n",
    "                                color='c', label='long distance')\n",
    "\n",
    "ax.xaxis.set_ticklabels(['Mon', 'Tue', 'Wed', 'Thu', 'Fri', 'Sat', 'Sun'], fontsize=12)\n",
    "ax.set_ylabel (\"Fraction of rides\", fontsize=15)\n",
    "ax.set_xlabel (\"Day of the week\", fontsize=15)\n",
    "pl.title('Distribution of Citibike bikers by distance in January 2015, \\nnormalized', fontsize=17)\n",
    "pl.legend(fontsize=12)\n",
    "pl.show()"
   ]
  },
  {
   "cell_type": "markdown",
   "metadata": {},
   "source": [
    "> #### Figure 2: Distribution of Citibike bikers by distance in January 2015, normalized"
   ]
  },
  {
   "cell_type": "code",
   "execution_count": 15,
   "metadata": {
    "scrolled": false
   },
   "outputs": [
    {
     "name": "stdout",
     "output_type": "stream",
     "text": [
      "Long Distance: week:0.82, weekend:0.18, weekend error:0.00, weekend error:0.00\n",
      "Short Distance: week:0.80, weekend:0.20, weekend error:0.00, weekend error:0.00\n"
     ]
    },
    {
     "data": {
      "text/plain": [
       "<matplotlib.legend.Legend at 0x111be8d30>"
      ]
     },
     "execution_count": 15,
     "metadata": {},
     "output_type": "execute_result"
    },
    {
     "data": {
      "image/png": "[encoded data removed]",
      "text/plain": [
       "<matplotlib.figure.Figure at 0x10586dba8>"
      ]
     },
     "metadata": {},
     "output_type": "display_data"
    }
   ],
   "source": [
    "fig = pl.figure(figsize(15,5))\n",
    "ax1 = fig.add_subplot(121)\n",
    "ax2 = fig.add_subplot(122)\n",
    "ax1.set_xticks([])\n",
    "ax2.set_xticks([])\n",
    "\n",
    "# short distance\n",
    "week_s = sum(counts_s[:-2]) * 1.0 / norm_s  #fraction of short distance trips on week days\n",
    "weekend_s = sum(counts_s[-2:]) * 1.0 / norm_s  #fraction of short distance trips on weekends\n",
    "eweek_s = np.sqrt(sum(error_s[:-2]**2)) / norm_s  #error on fraction number of short distance trips on week days\n",
    "eweekend_s = np.sqrt(sum(error_s[-2:]**2)) / norm_s #error on fraction number of short distance trips on weekends\n",
    "\n",
    "# long distance\n",
    "week_l = sum(counts_l[:-2]) * 1.0 / norm_l\n",
    "weekend_l = sum(counts_l[-2:]) * 1.0 / norm_l\n",
    "eweek_l = np.sqrt(sum(error_l[:-2]**2)) / norm_l\n",
    "eweekend_l = np.sqrt(sum(error_l[-2:]**2)) / norm_l\n",
    "\n",
    "print(\"Long Distance: week:{0:.2f}, weekend:{1:.2f}, weekend error:{2:.2f}, weekend error:{3:.2f}\"\\\n",
    "      .format(week_l, weekend_l, eweek_l, eweekend_l))\n",
    "print(\"Short Distance: week:{0:.2f}, weekend:{1:.2f}, weekend error:{2:.2f}, weekend error:{3:.2f}\"\\\n",
    "      .format(week_s, weekend_s, eweek_s, eweekend_s))\n",
    "\n",
    "ax1.errorbar([0.4], [week_l], yerr=[eweek_l], fmt='o', label='long distance')\n",
    "ax1.errorbar([0.2], [week_s], yerr=[eweek_s], fmt='o', label='short distance')\n",
    "ax1.set_xlim(0, 0.5)\n",
    "ax2.errorbar([0.4], [weekend_l], yerr=[eweekend_l], fmt='o', label='long distance')\n",
    "ax2.errorbar([0.2], [weekend_s], yerr=[eweekend_s], fmt='o', label='short distance')\n",
    "ax1.set_xlim(0, 0.5)\n",
    "ax1.set_title(\"Weekdays\")\n",
    "ax2.set_title(\"Weekends\")\n",
    "ax2.set_ylabel(\"Fraction of normalized rides by distance\")\n",
    "ax1.set_ylabel(\"Fraction of normalized rides by distance\")\n",
    "\n",
    "pl.xlim(-0.5, 1.5)\n",
    "pl.legend(fontsize = 14)"
   ]
  },
  {
   "cell_type": "markdown",
   "metadata": {},
   "source": [
    "> #### Figure 3: Fraction of Citibike bikers per distance in January 2015 for weekdays (left) and weekends (right)"
   ]
  },
  {
   "cell_type": "markdown",
   "metadata": {},
   "source": [
    "**Question :** Is the percentage of short distance trip on weekends lower or equal to that of long distance trip?\n",
    "\n",
    "The statistics is: \n",
    "\n",
    "$z = \\frac{(p_0 - p_1)}{SE} $\n",
    "\n",
    "$p =\\frac{p_0  n_0 + p_1  n_1}{n_0+n_1}$\n",
    "\n",
    "$SE = \\sqrt{ p  ( 1 - p )  (\\frac{1}{n_0} + \\frac{1}{n_1}) }$\n",
    "\n",
    "and in this notation \n",
    "\n",
    "$p_0 = \\frac{S_{\\mathrm{weekend}}}{S_{\\mathrm{total}}}$ and $p_1 = \\frac{L_{\\mathrm{weekend}}}{L_{\\mathrm{total}}}$"
   ]
  },
  {
   "cell_type": "code",
   "execution_count": 16,
   "metadata": {},
   "outputs": [
    {
     "name": "stdout",
     "output_type": "stream",
     "text": [
      "difference between long distance trip and short distance trip on weekend: 0.021\n",
      "We must check the significance before we reject the Null Hypothesis\n"
     ]
    }
   ],
   "source": [
    "P0mP1 = weekend_s - weekend_l\n",
    "print (\"difference between long distance trip and short distance trip on weekend: {:.3f}\".format(P0mP1))\n",
    "if P0mP1 <= 0:\n",
    "    # we are done...\n",
    "    print(\"In accordance with Null Hypothesis\")\n",
    "else:\n",
    "    # morework to do\n",
    "    print (\"We must check the significance before we reject the Null Hypothesis\")"
   ]
  },
  {
   "cell_type": "code",
   "execution_count": 17,
   "metadata": {},
   "outputs": [],
   "source": [
    "# variable\n",
    "p0 = weekend_s\n",
    "p1 = weekend_l\n",
    "n0 = norm_s\n",
    "n1 = norm_l\n",
    "# calculation\n",
    "p = (p0 * n0 + p1 * n1) / (n0 + n1)\n",
    "s = (p * (1 - p) * (1.0 / n0 + 1.0 / n1)) #standard error\n",
    "se = np.sqrt(s)\n",
    "zscore = (p0 - p1) / se"
   ]
  },
  {
   "cell_type": "code",
   "execution_count": 18,
   "metadata": {},
   "outputs": [
    {
     "name": "stdout",
     "output_type": "stream",
     "text": [
      "The z statistics is 13.90\n"
     ]
    }
   ],
   "source": [
    "print (\"The z statistics is %.2f\"%zscore) "
   ]
  },
  {
   "cell_type": "code",
   "execution_count": 21,
   "metadata": {
    "collapsed": true
   },
   "outputs": [],
   "source": [
    "def ztest1tail(pvalue, z):\n",
    "    \"One tail: p value is 1 - alpha\"\n",
    "    zcritical = st.norm.ppf(pvalue)\n",
    "    print (\"Z critical value when P ({}) = {:.3f}\".format(pvalue, zcritical))\n",
    "    print (\"Z-statistics is {:.3f}\".format(z))\n",
    "    if z >= zcritical:\n",
    "        print (\"Null hypothesis is rejected\")\n",
    "    else:\n",
    "        print (\"Null hypothesis is accepted\")"
   ]
  },
  {
   "cell_type": "code",
   "execution_count": 22,
   "metadata": {},
   "outputs": [
    {
     "name": "stdout",
     "output_type": "stream",
     "text": [
      "Z critical value when P (0.95) = 1.645\n",
      "Z-statistics is 13.902\n",
      "Null hypothesis is rejected\n"
     ]
    }
   ],
   "source": [
    "ztest1tail(0.95,zscore)"
   ]
  },
  {
   "cell_type": "markdown",
   "metadata": {},
   "source": [
    "### Crosscheck\n",
    "Because I use dataset in January, which is winter season (extreme weather, where the chance of citibike usage will be lower than any other season), I need to crosscheck the result with the summer season. In this part, I will check with dataset from July 2015."
   ]
  },
  {
   "cell_type": "code",
   "execution_count": 23,
   "metadata": {
    "scrolled": false
   },
   "outputs": [
    {
     "data": {
      "text/html": [
       "<div>\n",
       "<style>\n",
       "    .dataframe thead tr:only-child th {\n",
       "        text-align: right;\n",
       "    }\n",
       "\n",
       "    .dataframe thead th {\n",
       "        text-align: left;\n",
       "    }\n",
       "\n",
       "    .dataframe tbody tr th {\n",
       "        vertical-align: top;\n",
       "    }\n",
       "</style>\n",
       "<table border=\"1\" class=\"dataframe\">\n",
       "  <thead>\n",
       "    <tr style=\"text-align: right;\">\n",
       "      <th></th>\n",
       "      <th>gender</th>\n",
       "      <th>date</th>\n",
       "      <th>start_location</th>\n",
       "      <th>stop_location</th>\n",
       "      <th>distance</th>\n",
       "    </tr>\n",
       "  </thead>\n",
       "  <tbody>\n",
       "    <tr>\n",
       "      <th>0</th>\n",
       "      <td>1</td>\n",
       "      <td>2015-07-01 00:00:03</td>\n",
       "      <td>(40.75066386, -74.00176802)</td>\n",
       "      <td>(40.73038599, -74.00214988)</td>\n",
       "      <td>1.399369</td>\n",
       "    </tr>\n",
       "    <tr>\n",
       "      <th>1</th>\n",
       "      <td>1</td>\n",
       "      <td>2015-07-01 00:00:06</td>\n",
       "      <td>(40.70463334, -74.01361706)</td>\n",
       "      <td>(40.711512, -74.01575600000001)</td>\n",
       "      <td>0.487750</td>\n",
       "    </tr>\n",
       "  </tbody>\n",
       "</table>\n",
       "</div>"
      ],
      "text/plain": [
       "   gender                date               start_location  \\\n",
       "0       1 2015-07-01 00:00:03  (40.75066386, -74.00176802)   \n",
       "1       1 2015-07-01 00:00:06  (40.70463334, -74.01361706)   \n",
       "\n",
       "                     stop_location  distance  \n",
       "0      (40.73038599, -74.00214988)  1.399369  \n",
       "1  (40.711512, -74.01575600000001)  0.487750  "
      ]
     },
     "execution_count": 23,
     "metadata": {},
     "output_type": "execute_result"
    }
   ],
   "source": [
    "# download data\n",
    "url2 = urlopen('https://s3.amazonaws.com/tripdata/201507-citibike-tripdata.zip')\n",
    "df2 = pd.read_csv(io.BytesIO(url2.read()), compression='zip', sep=',')\n",
    "# set date\n",
    "df2['date'] = pd.to_datetime(df2['starttime'])\n",
    "# drop unnecessary columns\n",
    "df2.drop(['tripduration', 'starttime', 'stoptime', 'start station id',\n",
    "       'start station name', 'end station id', 'end station name', 'bikeid', 'usertype',\n",
    "       'birth year'], axis=1, inplace=True)\n",
    "# merge and drop location data\n",
    "df2.loc[:,\"start_location\"] = \"(\" + df2[\"start station latitude\"].map(str) + \",\" + \" \" + df2[\"start station longitude\"].map(str) + \")\"\n",
    "df2.loc[:,\"stop_location\"] = \"(\" + df2[\"end station latitude\"].map(str) + \",\" + \" \" + df2[\"end station longitude\"].map(str) + \")\"\n",
    "df2.loc[:,\"start_location\"] = df2.loc[:,\"start_location\"].map(eval)\n",
    "df2.loc[:,\"stop_location\"] = df2.loc[:,\"stop_location\"].map(eval)\n",
    "df2.drop(['start station latitude', 'start station longitude',\n",
    "       'end station latitude', 'end station longitude'], axis=1, inplace=True)\n",
    "def distance(df2):\n",
    "    return vincenty(df2[\"start_location\"],df2[\"stop_location\"]).miles\n",
    "df2[\"distance\"] = df2.apply(distance, axis=1)\n",
    "df2.head(2)"
   ]
  },
  {
   "cell_type": "code",
   "execution_count": 24,
   "metadata": {},
   "outputs": [
    {
     "data": {
      "text/plain": [
       "count    1.085676e+06\n",
       "mean     1.078495e+00\n",
       "std      7.766540e-01\n",
       "min      0.000000e+00\n",
       "25%      5.413206e-01\n",
       "50%      8.764121e-01\n",
       "75%      1.403145e+00\n",
       "max      6.309904e+00\n",
       "Name: distance, dtype: float64"
      ]
     },
     "execution_count": 24,
     "metadata": {},
     "output_type": "execute_result"
    }
   ],
   "source": [
    "df2.distance.describe()"
   ]
  },
  {
   "cell_type": "code",
   "execution_count": 25,
   "metadata": {
    "collapsed": true
   },
   "outputs": [],
   "source": [
    "# set threshold\n",
    "avg2 = df2.distance.mean()"
   ]
  },
  {
   "cell_type": "code",
   "execution_count": 26,
   "metadata": {
    "scrolled": false
   },
   "outputs": [
    {
     "data": {
      "text/plain": [
       "<matplotlib.legend.Legend at 0x10589d080>"
      ]
     },
     "execution_count": 26,
     "metadata": {},
     "output_type": "execute_result"
    },
    {
     "data": {
      "image/png": "[encoded data removed]",
      "text/plain": [
       "<matplotlib.figure.Figure at 0x1058a1208>"
      ]
     },
     "metadata": {},
     "output_type": "display_data"
    }
   ],
   "source": [
    "fig=pl.figure(figsize(10,7))\n",
    "\n",
    "counts_s07 = df2.date[df2.distance < avg2].groupby([df2.date.dt.weekday]).count()\n",
    "norm_s07 = counts_s07.sum()\n",
    "error_s07 = np.sqrt(counts_s07)\n",
    "\n",
    "((counts_s07) / norm_s07).plot(kind=\"bar\",color='IndianRed', alpha=0.75,  yerr=[\n",
    "((error_s07) / norm_s07, (error_s07) / norm_s07)], label='Shorter Distance, July')\n",
    "\n",
    "counts_l07 = df2.date[df2.distance > avg2].groupby([df2.date.dt.weekday]).count()\n",
    "norm_l07 = counts_l07.sum()\n",
    "error_l07 = np.sqrt(counts_l07)\n",
    "ax=((counts_l07) / norm_l07).plot(kind=\"bar\", alpha=0.75, \n",
    "                                  yerr=[((error_l07) / norm_l07, (error_l07) / norm_l07)], \n",
    "                                  color=\"c\", label='Longer Distance, July')\n",
    "ax.xaxis.set_ticklabels(['Mon','Tue','Wed','Thu','Fri','Sat','Sun'], fontsize=12)\n",
    "ax.set_ylabel (\"Fraction of rides\", fontsize=15)\n",
    "ax.set_xlabel (\"Day of the week\", fontsize=15)\n",
    "\n",
    "pl.legend(fontsize=12)"
   ]
  },
  {
   "cell_type": "markdown",
   "metadata": {},
   "source": [
    "> #### Figure 4. Distribution of Citibike bikers by distance in July 2015, normalized"
   ]
  },
  {
   "cell_type": "code",
   "execution_count": 27,
   "metadata": {
    "scrolled": false
   },
   "outputs": [
    {
     "name": "stdout",
     "output_type": "stream",
     "text": [
      "Longer distance: \n",
      "week:0.782, \n",
      "weekend:0.218, \n",
      "weekdays error:0.001, \n",
      "weekend error:0.001\n",
      "\n",
      "Shorter distance: \n",
      "week:0.792, \n",
      "weekend:0.208, \n",
      "weekdays error:0.001, \n",
      "weekend error:0.001\n"
     ]
    },
    {
     "data": {
      "text/plain": [
       "<matplotlib.legend.Legend at 0x12aabc518>"
      ]
     },
     "execution_count": 27,
     "metadata": {},
     "output_type": "execute_result"
    },
    {
     "data": {
      "image/png": "[encoded data removed]",
      "text/plain": [
       "<matplotlib.figure.Figure at 0x111d97240>"
      ]
     },
     "metadata": {},
     "output_type": "display_data"
    }
   ],
   "source": [
    "fig=pl.figure(figsize(15,5))\n",
    "ax1=fig.add_subplot(121)\n",
    "ax2=fig.add_subplot(122)\n",
    "ax1.set_xticks([])\n",
    "ax2.set_xticks([])\n",
    "\n",
    "week_s07 = sum(counts_s07[:-2]) * 1.0 / norm_s07\n",
    "weekend_s07 = sum(counts_s07[-2:])*1.0 / norm_s07\n",
    "eweek_s07 = np.sqrt(sum(error_s07[:-2]**2)) / norm_s07\n",
    "eweekend_s07 = np.sqrt(sum(error_s07[-2:]**2)) / norm_s07\n",
    "\n",
    "week_l07 = sum(counts_l07[:-2]) * 1.0 / norm_l07\n",
    "weekend_l07 = sum(counts_l07[-2:]) * 1.0 / norm_l07\n",
    "eweek_l07 = np.sqrt(sum(error_l07[:-2]**2)) / norm_l07\n",
    "eweekend_l07 = np.sqrt(sum(error_l07[-2:]**2)) / norm_l07\n",
    "\n",
    "print(\"Longer distance: \\nweek:{0:.3f}, \\nweekend:{1:.3f}, \\nweekdays error:{2:.3f}, \\nweekend error:{3:.3f}\"\\\n",
    "      .format(week_l07, weekend_l07, eweek_l07, eweekend_l07))\n",
    "print(\"\\nShorter distance: \\nweek:{0:.3f}, \\nweekend:{1:.3f}, \\nweekdays error:{2:.3f}, \\nweekend error:{3:.3f}\"\\\n",
    "      .format(week_s07, weekend_s07, eweek_s07, eweekend_s07))\n",
    "\n",
    "ax1.errorbar([0.2],[week_s07], yerr=[eweek_s07], fmt='o', label='shorter distance')\n",
    "ax1.errorbar([0.4],[week_l07], yerr=[eweek_l07], fmt='o', label='longer distance')\n",
    "ax1.set_xlim(0,0.5)\n",
    "ax2.errorbar([0.2],[weekend_s07], yerr=[eweekend_s07], fmt='o', label='shorter distance')\n",
    "ax2.errorbar([0.4],[weekend_l07], yerr=[eweekend_l07], fmt='o', label='longer distance')\n",
    "ax1.set_xlim(0,0.5)\n",
    "ax1.set_title(\"week days\", fontsize=15)\n",
    "ax2.set_title(\"weekends\", fontsize=15)\n",
    "ax2.set_ylabel(\"Fraction of normalized rides by distance\", fontsize=12)\n",
    "ax1.set_ylabel(\"Fraction of normalized rides by distance\", fontsize=12)\n",
    "\n",
    "pl.xlim(-0.5,1.5)\n",
    "pl.legend(fontsize=12)"
   ]
  },
  {
   "cell_type": "markdown",
   "metadata": {},
   "source": [
    "> #### Figure 5: Fraction of Citibike bikers per distance in July 2015 for weekdays (left) and weekends (right)"
   ]
  },
  {
   "cell_type": "code",
   "execution_count": 28,
   "metadata": {},
   "outputs": [
    {
     "name": "stdout",
     "output_type": "stream",
     "text": [
      "difference between long distance trip and short distance trip on weekend: -0.010\n",
      "In accordance with Null Hypothesis\n",
      "Z critical value when P (0.95) = 1.645\n",
      "Z-statistics is -12.641\n",
      "Null hypothesis is accepted\n"
     ]
    }
   ],
   "source": [
    "# difference\n",
    "P0mP1_07 = weekend_s07 - weekend_l07\n",
    "print (\"difference between long distance trip and short distance trip on weekend: {:.3f}\".format(P0mP1_07))\n",
    "if P0mP1_07 <= 0:\n",
    "    # we are done...\n",
    "    print(\"In accordance with Null Hypothesis\")\n",
    "else:\n",
    "    # morework to do\n",
    "    print (\"We must check the significance before we reject the Null Hypothesis\")\n",
    "\n",
    "# variable\n",
    "p0_07 = weekend_s07\n",
    "p1_07 = weekend_l07\n",
    "n0_07 = norm_s07\n",
    "n1_07 = norm_l07\n",
    "\n",
    "# calculation\n",
    "p_07 = (p0_07 * n0_07 + p1_07 * n1_07) / (n0_07 + n1_07)\n",
    "s_07 = (p_07 * (1 - p_07) * (1.0 / n0_07 + 1.0 / n1_07)) #standard error\n",
    "se_07 = np.sqrt(s_07)\n",
    "zscore_07 = (p0_07 - p1_07) / se_07\n",
    "\n",
    "# Z test\n",
    "ztest1tail(0.95,zscore_07)"
   ]
  },
  {
   "cell_type": "code",
   "execution_count": 29,
   "metadata": {},
   "outputs": [
    {
     "name": "stdout",
     "output_type": "stream",
     "text": [
      "r in January: 0.026\n",
      "r in July: -0.012\n"
     ]
    }
   ],
   "source": [
    "rjanuary = zscore / np.sqrt(n0+n1)\n",
    "rjuly = zscore_07 / np.sqrt(n0_07+n1_07)\n",
    "print (\"r in January: {:.3f}\\nr in July: {:.3f}\".format(rjanuary, rjuly))"
   ]
  },
  {
   "cell_type": "code",
   "execution_count": 30,
   "metadata": {},
   "outputs": [
    {
     "name": "stdout",
     "output_type": "stream",
     "text": [
      "h in January: 0.054\n",
      "h in July: -0.025\n"
     ]
    }
   ],
   "source": [
    "hjanuary = 2 * (np.arcsin(np.sqrt(p0)) - np.arcsin(np.sqrt(p1)))\n",
    "hjuly = 2 * (np.arcsin(np.sqrt(p0_07)) - np.arcsin(np.sqrt(p1_07)))\n",
    "print (\"h in January: {:.3f}\\nh in July: {:.3f}\".format(hjanuary, hjuly))"
   ]
  }
 ],
 "metadata": {
  "anaconda-cloud": {},
  "kernelspec": {
   "display_name": "Python 3",
   "language": "python",
   "name": "python3"
  },
  "language_info": {
   "codemirror_mode": {
    "name": "ipython",
    "version": 3
   },
   "file_extension": ".py",
   "mimetype": "text/x-python",
   "name": "python",
   "nbconvert_exporter": "python",
   "pygments_lexer": "ipython3",
   "version": "3.6.1"
  }
 },
 "nbformat": 4,
 "nbformat_minor": 1
}
