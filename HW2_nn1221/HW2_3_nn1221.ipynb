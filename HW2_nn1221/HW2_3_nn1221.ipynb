{
 "cells": [
  {
   "cell_type": "markdown",
   "metadata": {},
   "source": [
    "Fire off a Jupyter notebook with Jupyter Hub --[here](https://datahub.cusp.nyu.edu/documents/guides/Jupyter_Notebook_from_your_browser_Mac.pdf) for Mac and Linux and [here](https://datahub.cusp.nyu.edu/documents/guides/Jupyter_Notebook_from_your_browser_Windows.pdf) for Windows--\n",
    "and switch to the Kernel PUI2016_Python2 or PUI2016_Python3 from the Jupyter dropdown menu under Kernels -> Change Kernel."
   ]
  },
  {
   "cell_type": "code",
   "execution_count": 98,
   "metadata": {
    "collapsed": false
   },
   "outputs": [
    {
     "name": "stdout",
     "output_type": "stream",
     "text": [
      "Populating the interactive namespace from numpy and matplotlib\n"
     ]
    },
    {
     "name": "stderr",
     "output_type": "stream",
     "text": [
      "/opt/rh/anaconda/root/envs/PUI2016_Python3/lib/python3.5/site-packages/IPython/core/magics/pylab.py:161: UserWarning: pylab import has clobbered these variables: ['colors']\n",
      "`%matplotlib` prevents importing * from pylab and numpy\n",
      "  \"\\n`%matplotlib` prevents importing * from pylab and numpy\"\n"
     ]
    }
   ],
   "source": [
    "from __future__ import print_function\n",
    "import sys\n",
    "import os\n",
    "import numpy as np\n",
    "import pandas as pd\n",
    "import matplotlib.pylab as pl\n",
    "%pylab inline"
   ]
  },
  {
   "cell_type": "markdown",
   "metadata": {},
   "source": [
    "Check that an environmental variable DFDATA exists and that it points to the data facility location /gws/open/NYCOpenData/nycopendata/data/."
   ]
  },
  {
   "cell_type": "code",
   "execution_count": 99,
   "metadata": {
    "collapsed": false
   },
   "outputs": [
    {
     "data": {
      "text/plain": [
       "'/gws/open/NYCOpenData/nycopendata/data'"
      ]
     },
     "execution_count": 99,
     "metadata": {},
     "output_type": "execute_result"
    }
   ],
   "source": [
    "dfdata = os.getenv(\"DFDATA\")\n",
    "dfdata"
   ]
  },
  {
   "cell_type": "markdown",
   "metadata": {},
   "source": [
    "Use pandas to read in the CSV file from the DF into a pandas dataframe. The CSV file must have at least 2 numerical value columns."
   ]
  },
  {
   "cell_type": "code",
   "execution_count": 100,
   "metadata": {
    "collapsed": false
   },
   "outputs": [],
   "source": [
    "df = pd.read_csv(df + '/2iqd-z7vu/1476480727/2iqd-z7vu.csv')"
   ]
  },
  {
   "cell_type": "markdown",
   "metadata": {},
   "source": [
    "Display the top few rows of the DF in your notebook. This table __must be rendered__."
   ]
  },
  {
   "cell_type": "code",
   "execution_count": 101,
   "metadata": {
    "collapsed": false
   },
   "outputs": [
    {
     "data": {
      "text/html": [
       "<div>\n",
       "<table border=\"1\" class=\"dataframe\">\n",
       "  <thead>\n",
       "    <tr style=\"text-align: right;\">\n",
       "      <th></th>\n",
       "      <th>Unique Key</th>\n",
       "      <th>Created Date</th>\n",
       "      <th>Closed Date</th>\n",
       "      <th>Agency</th>\n",
       "      <th>Agency Name</th>\n",
       "      <th>Complaint Type</th>\n",
       "      <th>Descriptor</th>\n",
       "      <th>Location Type</th>\n",
       "      <th>Incident Zip</th>\n",
       "      <th>Incident Address</th>\n",
       "      <th>...</th>\n",
       "      <th>Bridge Highway Name</th>\n",
       "      <th>Bridge Highway Direction</th>\n",
       "      <th>Road Ramp</th>\n",
       "      <th>Bridge Highway Segment</th>\n",
       "      <th>Garage Lot Name</th>\n",
       "      <th>Ferry Direction</th>\n",
       "      <th>Ferry Terminal Name</th>\n",
       "      <th>Latitude</th>\n",
       "      <th>Longitude</th>\n",
       "      <th>Location</th>\n",
       "    </tr>\n",
       "  </thead>\n",
       "  <tbody>\n",
       "    <tr>\n",
       "      <th>0</th>\n",
       "      <td>34165360</td>\n",
       "      <td>08/24/2016 10:52:00 AM</td>\n",
       "      <td>08/24/2016 11:45:49 AM</td>\n",
       "      <td>DHS</td>\n",
       "      <td>Operations Unit - Department of Homeless Services</td>\n",
       "      <td>Homeless Person Assistance</td>\n",
       "      <td>NaN</td>\n",
       "      <td>Street/Sidewalk</td>\n",
       "      <td>10023</td>\n",
       "      <td>1841 BROADWAY</td>\n",
       "      <td>...</td>\n",
       "      <td>NaN</td>\n",
       "      <td>NaN</td>\n",
       "      <td>NaN</td>\n",
       "      <td>NaN</td>\n",
       "      <td>NaN</td>\n",
       "      <td>NaN</td>\n",
       "      <td>NaN</td>\n",
       "      <td>40.769157</td>\n",
       "      <td>-73.982429</td>\n",
       "      <td>(40.76915732305014, -73.98242917087231)</td>\n",
       "    </tr>\n",
       "    <tr>\n",
       "      <th>1</th>\n",
       "      <td>34169350</td>\n",
       "      <td>08/25/2016 11:39:42 AM</td>\n",
       "      <td>08/25/2016 11:45:56 AM</td>\n",
       "      <td>DHS</td>\n",
       "      <td>Operations Unit - Department of Homeless Services</td>\n",
       "      <td>Homeless Person Assistance</td>\n",
       "      <td>NaN</td>\n",
       "      <td>Street/Sidewalk</td>\n",
       "      <td>10024</td>\n",
       "      <td>520 AMSTERDAM AVENUE</td>\n",
       "      <td>...</td>\n",
       "      <td>NaN</td>\n",
       "      <td>NaN</td>\n",
       "      <td>NaN</td>\n",
       "      <td>NaN</td>\n",
       "      <td>NaN</td>\n",
       "      <td>NaN</td>\n",
       "      <td>NaN</td>\n",
       "      <td>40.787109</td>\n",
       "      <td>-73.975448</td>\n",
       "      <td>(40.78710936742024, -73.97544765167478)</td>\n",
       "    </tr>\n",
       "    <tr>\n",
       "      <th>2</th>\n",
       "      <td>34798004</td>\n",
       "      <td>11/17/2016 09:48:11 PM</td>\n",
       "      <td>11/17/2016 10:32:03 PM</td>\n",
       "      <td>DHS</td>\n",
       "      <td>Operations Unit - Department of Homeless Services</td>\n",
       "      <td>Homeless Person Assistance</td>\n",
       "      <td>NaN</td>\n",
       "      <td>Store/Commercial</td>\n",
       "      <td>10023</td>\n",
       "      <td>1841 BROADWAY</td>\n",
       "      <td>...</td>\n",
       "      <td>NaN</td>\n",
       "      <td>NaN</td>\n",
       "      <td>NaN</td>\n",
       "      <td>NaN</td>\n",
       "      <td>NaN</td>\n",
       "      <td>NaN</td>\n",
       "      <td>NaN</td>\n",
       "      <td>40.769157</td>\n",
       "      <td>-73.982429</td>\n",
       "      <td>(40.76915732305014, -73.98242917087231)</td>\n",
       "    </tr>\n",
       "    <tr>\n",
       "      <th>3</th>\n",
       "      <td>34799998</td>\n",
       "      <td>11/17/2016 11:27:18 PM</td>\n",
       "      <td>11/17/2016 11:49:34 PM</td>\n",
       "      <td>DHS</td>\n",
       "      <td>Operations Unit - Department of Homeless Services</td>\n",
       "      <td>Homeless Person Assistance</td>\n",
       "      <td>NaN</td>\n",
       "      <td>Store/Commercial</td>\n",
       "      <td>10023</td>\n",
       "      <td>2069 BROADWAY</td>\n",
       "      <td>...</td>\n",
       "      <td>NaN</td>\n",
       "      <td>NaN</td>\n",
       "      <td>NaN</td>\n",
       "      <td>NaN</td>\n",
       "      <td>NaN</td>\n",
       "      <td>NaN</td>\n",
       "      <td>NaN</td>\n",
       "      <td>40.778404</td>\n",
       "      <td>-73.982095</td>\n",
       "      <td>(40.77840429430354, -73.98209454660395)</td>\n",
       "    </tr>\n",
       "    <tr>\n",
       "      <th>4</th>\n",
       "      <td>34800890</td>\n",
       "      <td>11/17/2016 07:12:18 PM</td>\n",
       "      <td>11/17/2016 10:29:47 PM</td>\n",
       "      <td>DHS</td>\n",
       "      <td>Operations Unit - Department of Homeless Services</td>\n",
       "      <td>Homeless Person Assistance</td>\n",
       "      <td>NaN</td>\n",
       "      <td>Street/Sidewalk</td>\n",
       "      <td>10025</td>\n",
       "      <td>NaN</td>\n",
       "      <td>...</td>\n",
       "      <td>NaN</td>\n",
       "      <td>NaN</td>\n",
       "      <td>NaN</td>\n",
       "      <td>NaN</td>\n",
       "      <td>NaN</td>\n",
       "      <td>NaN</td>\n",
       "      <td>NaN</td>\n",
       "      <td>40.799977</td>\n",
       "      <td>-73.958619</td>\n",
       "      <td>(40.79997733747437, -73.95861882061581)</td>\n",
       "    </tr>\n",
       "  </tbody>\n",
       "</table>\n",
       "<p>5 rows × 52 columns</p>\n",
       "</div>"
      ],
      "text/plain": [
       "   Unique Key            Created Date             Closed Date Agency  \\\n",
       "0    34165360  08/24/2016 10:52:00 AM  08/24/2016 11:45:49 AM    DHS   \n",
       "1    34169350  08/25/2016 11:39:42 AM  08/25/2016 11:45:56 AM    DHS   \n",
       "2    34798004  11/17/2016 09:48:11 PM  11/17/2016 10:32:03 PM    DHS   \n",
       "3    34799998  11/17/2016 11:27:18 PM  11/17/2016 11:49:34 PM    DHS   \n",
       "4    34800890  11/17/2016 07:12:18 PM  11/17/2016 10:29:47 PM    DHS   \n",
       "\n",
       "                                         Agency Name  \\\n",
       "0  Operations Unit - Department of Homeless Services   \n",
       "1  Operations Unit - Department of Homeless Services   \n",
       "2  Operations Unit - Department of Homeless Services   \n",
       "3  Operations Unit - Department of Homeless Services   \n",
       "4  Operations Unit - Department of Homeless Services   \n",
       "\n",
       "               Complaint Type Descriptor     Location Type  Incident Zip  \\\n",
       "0  Homeless Person Assistance        NaN   Street/Sidewalk         10023   \n",
       "1  Homeless Person Assistance        NaN   Street/Sidewalk         10024   \n",
       "2  Homeless Person Assistance        NaN  Store/Commercial         10023   \n",
       "3  Homeless Person Assistance        NaN  Store/Commercial         10023   \n",
       "4  Homeless Person Assistance        NaN   Street/Sidewalk         10025   \n",
       "\n",
       "       Incident Address                   ...                     \\\n",
       "0         1841 BROADWAY                   ...                      \n",
       "1  520 AMSTERDAM AVENUE                   ...                      \n",
       "2         1841 BROADWAY                   ...                      \n",
       "3         2069 BROADWAY                   ...                      \n",
       "4                   NaN                   ...                      \n",
       "\n",
       "  Bridge Highway Name Bridge Highway Direction Road Ramp  \\\n",
       "0                 NaN                      NaN       NaN   \n",
       "1                 NaN                      NaN       NaN   \n",
       "2                 NaN                      NaN       NaN   \n",
       "3                 NaN                      NaN       NaN   \n",
       "4                 NaN                      NaN       NaN   \n",
       "\n",
       "  Bridge Highway Segment Garage Lot Name Ferry Direction Ferry Terminal Name  \\\n",
       "0                    NaN             NaN             NaN                 NaN   \n",
       "1                    NaN             NaN             NaN                 NaN   \n",
       "2                    NaN             NaN             NaN                 NaN   \n",
       "3                    NaN             NaN             NaN                 NaN   \n",
       "4                    NaN             NaN             NaN                 NaN   \n",
       "\n",
       "    Latitude  Longitude                                 Location  \n",
       "0  40.769157 -73.982429  (40.76915732305014, -73.98242917087231)  \n",
       "1  40.787109 -73.975448  (40.78710936742024, -73.97544765167478)  \n",
       "2  40.769157 -73.982429  (40.76915732305014, -73.98242917087231)  \n",
       "3  40.778404 -73.982095  (40.77840429430354, -73.98209454660395)  \n",
       "4  40.799977 -73.958619  (40.79997733747437, -73.95861882061581)  \n",
       "\n",
       "[5 rows x 52 columns]"
      ]
     },
     "execution_count": 101,
     "metadata": {},
     "output_type": "execute_result"
    }
   ],
   "source": [
    "df.head()"
   ]
  },
  {
   "cell_type": "markdown",
   "metadata": {},
   "source": [
    "Remove all but 2 _numerical values_ columns of your choice (you can use the drop method of the dataframe, like in the [lab example](https://github.com/fedhere/PUI2017_fb55/blob/master/Lab2_fb55/FormattingTables.ipynb).) "
   ]
  },
  {
   "cell_type": "code",
   "execution_count": 102,
   "metadata": {
    "collapsed": false
   },
   "outputs": [
    {
     "data": {
      "text/plain": [
       "Index(['Unique Key', 'Created Date', 'Closed Date', 'Agency', 'Agency Name',\n",
       "       'Complaint Type', 'Descriptor', 'Location Type', 'Incident Zip',\n",
       "       'Incident Address', 'Street Name', 'Cross Street 1', 'Cross Street 2',\n",
       "       'Intersection Street 1', 'Intersection Street 2', 'Address Type',\n",
       "       'City', 'Landmark', 'Facility Type', 'Status', 'Due Date',\n",
       "       'Resolution Action Updated Date', 'Community Board', 'Borough',\n",
       "       'X Coordinate (State Plane)', 'Y Coordinate (State Plane)',\n",
       "       'Park Facility Name', 'Park Borough', 'School Name', 'School Number',\n",
       "       'School Region', 'School Code', 'School Phone Number', 'School Address',\n",
       "       'School City', 'School State', 'School Zip', 'School Not Found',\n",
       "       'School or Citywide Complaint', 'Vehicle Type', 'Taxi Company Borough',\n",
       "       'Taxi Pick Up Location', 'Bridge Highway Name',\n",
       "       'Bridge Highway Direction', 'Road Ramp', 'Bridge Highway Segment',\n",
       "       'Garage Lot Name', 'Ferry Direction', 'Ferry Terminal Name', 'Latitude',\n",
       "       'Longitude', 'Location'],\n",
       "      dtype='object')"
      ]
     },
     "execution_count": 102,
     "metadata": {},
     "output_type": "execute_result"
    }
   ],
   "source": [
    "# find the variables\n",
    "df.keys()"
   ]
  },
  {
   "cell_type": "code",
   "execution_count": 103,
   "metadata": {
    "collapsed": true
   },
   "outputs": [],
   "source": [
    "# removing variables\n",
    "df.drop(['Unique Key', 'Created Date', 'Closed Date', 'Agency', 'Agency Name',\n",
    "       'Complaint Type', 'Descriptor', 'Location Type', 'Incident Zip',\n",
    "       'Incident Address', 'Street Name', 'Cross Street 1', 'Cross Street 2',\n",
    "       'Intersection Street 1', 'Intersection Street 2', 'Address Type',\n",
    "       'City', 'Landmark', 'Facility Type', 'Status', 'Due Date',\n",
    "       'Resolution Action Updated Date', 'Community Board', 'Borough',\n",
    "       'X Coordinate (State Plane)', 'Y Coordinate (State Plane)',\n",
    "       'Park Facility Name', 'Park Borough', 'School Name', 'School Number',\n",
    "       'School Region', 'School Code', 'School Phone Number', 'School Address',\n",
    "       'School City', 'School State', 'School Zip', 'School Not Found',\n",
    "       'School or Citywide Complaint', 'Vehicle Type', 'Taxi Company Borough',\n",
    "       'Taxi Pick Up Location', 'Bridge Highway Name',\n",
    "       'Bridge Highway Direction', 'Road Ramp', 'Bridge Highway Segment',\n",
    "       'Garage Lot Name', 'Ferry Direction', 'Ferry Terminal Name', 'Location'], axis=1, inplace=True)"
   ]
  },
  {
   "cell_type": "markdown",
   "metadata": {},
   "source": [
    "Display the reducted dataframe. This table __must be rendered__."
   ]
  },
  {
   "cell_type": "code",
   "execution_count": 104,
   "metadata": {
    "collapsed": false
   },
   "outputs": [
    {
     "data": {
      "text/html": [
       "<div>\n",
       "<table border=\"1\" class=\"dataframe\">\n",
       "  <thead>\n",
       "    <tr style=\"text-align: right;\">\n",
       "      <th></th>\n",
       "      <th>Latitude</th>\n",
       "      <th>Longitude</th>\n",
       "    </tr>\n",
       "  </thead>\n",
       "  <tbody>\n",
       "    <tr>\n",
       "      <th>0</th>\n",
       "      <td>40.769157</td>\n",
       "      <td>-73.982429</td>\n",
       "    </tr>\n",
       "    <tr>\n",
       "      <th>1</th>\n",
       "      <td>40.787109</td>\n",
       "      <td>-73.975448</td>\n",
       "    </tr>\n",
       "    <tr>\n",
       "      <th>2</th>\n",
       "      <td>40.769157</td>\n",
       "      <td>-73.982429</td>\n",
       "    </tr>\n",
       "    <tr>\n",
       "      <th>3</th>\n",
       "      <td>40.778404</td>\n",
       "      <td>-73.982095</td>\n",
       "    </tr>\n",
       "    <tr>\n",
       "      <th>4</th>\n",
       "      <td>40.799977</td>\n",
       "      <td>-73.958619</td>\n",
       "    </tr>\n",
       "  </tbody>\n",
       "</table>\n",
       "</div>"
      ],
      "text/plain": [
       "    Latitude  Longitude\n",
       "0  40.769157 -73.982429\n",
       "1  40.787109 -73.975448\n",
       "2  40.769157 -73.982429\n",
       "3  40.778404 -73.982095\n",
       "4  40.799977 -73.958619"
      ]
     },
     "execution_count": 104,
     "metadata": {},
     "output_type": "execute_result"
    }
   ],
   "source": [
    "df.head()"
   ]
  },
  {
   "cell_type": "markdown",
   "metadata": {},
   "source": [
    "Plot the columns one against the other in a scatter plot using the datafraome plot method, like in the [lab example](https://github.com/fedhere/PUI2017_fb55/blob/master/Lab2_fb55/FormattingTables.ipynb).  (usual rules for plotting apply, see [Grading Guidelines](https://github.com/fedhere/PUI2017_fb55/blob/master/README.md) and the [instruction notebooks for HW1 Extra Credit](https://github.com/fedhere/PUI2017_fb55/blob/master/HW1_fb55/HW1_3_instructions.ipynb), part 3, for more detailed hints on how to display your rendered plots, and the [Lab2](https://github.com/fedhere/PUI2017_fb55/blob/master/Lab2_fb55) and [Class notebooks](http://github.com/fedhere/UInotebooks/blob/master/dataWrangling) examples on how to use the dataframe plot modules. The plot __must be rendered__."
   ]
  },
  {
   "cell_type": "code",
   "execution_count": 108,
   "metadata": {
    "collapsed": false
   },
   "outputs": [
    {
     "data": {
      "text/plain": [
       "<matplotlib.text.Text at 0x7fa87a2adb38>"
      ]
     },
     "execution_count": 108,
     "metadata": {},
     "output_type": "execute_result"
    },
    {
     "data": {
      "image/png": "[encoded data removed]",
      "text/plain": [
       "<matplotlib.figure.Figure at 0x7fa87a217c18>"
      ]
     },
     "metadata": {},
     "output_type": "display_data"
    }
   ],
   "source": [
    "df.plot(kind='scatter', x='Longitude', y='Latitude', c='m', s=20, alpha=0.2, label='complaint counts' )\n",
    "pl.legend(loc=4, fontsize = 'medium')\n",
    "pl.title('Homeless Person Assistance')\n",
    "pl.xlabel('Longitude')\n",
    "pl.ylabel('Latitude')\n",
    "figtext(.2, -.05, \"Figure 1: Homeless Person Assistance Complaints Map\")"
   ]
  },
  {
   "cell_type": "code",
   "execution_count": null,
   "metadata": {
    "collapsed": true
   },
   "outputs": [],
   "source": []
  }
 ],
 "metadata": {
  "kernelspec": {
   "display_name": "PUI2016_Python3",
   "language": "python",
   "name": "pui2016_python3"
  },
  "language_info": {
   "codemirror_mode": {
    "name": "ipython",
    "version": 3
   },
   "file_extension": ".py",
   "mimetype": "text/x-python",
   "name": "python",
   "nbconvert_exporter": "python",
   "pygments_lexer": "ipython3",
   "version": "3.5.2"
  }
 },
 "nbformat": 4,
 "nbformat_minor": 0
}
