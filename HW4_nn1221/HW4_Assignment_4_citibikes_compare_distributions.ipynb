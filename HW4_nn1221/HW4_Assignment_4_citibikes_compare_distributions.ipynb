{
 "cells": [
  {
   "cell_type": "markdown",
   "metadata": {},
   "source": [
    "### Nina Nurrahmawati | nn1221"
   ]
  },
  {
   "cell_type": "markdown",
   "metadata": {
    "collapsed": true,
    "run_control": {
     "frozen": false,
     "read_only": false
    }
   },
   "source": [
    "# Skeleton of Assignment 4:\n",
    "    test if the distribution of \n",
    "    \n",
    "    1) trip duration of bikers that ride during the day vs night\n",
    "    \n",
    "    2) age of bikers for trips originating in Manhattan and in Brooklyn\n",
    "    \n",
    "    are different. Use 3 tests: KS, Pearson's, Spearman's. \n",
    "    \n",
    "    Use the scipy.stats functions scipy.stats.ks_2samp, scipy.stats.pearsonr, scipy.stats.spearmanr. \n",
    "    \n",
    "    For the KS do the test with the entire dataset and with a subset 200 times smaller\n",
    "    \n",
    "    Choose a single significant threshold for the whole exercise. \n",
    "    \n",
    "    For each test phrase the Null Hypothesis in words.\n",
    "    \n",
    "    Describe the return of the scipy function you use in each case.\n",
    "    \n",
    "    State the result in terms of rejection of the Null."
   ]
  },
  {
   "cell_type": "code",
   "execution_count": 1,
   "metadata": {
    "ExecuteTime": {
     "end_time": "2017-10-05T16:48:06.390950",
     "start_time": "2017-10-05T16:48:04.815178"
    },
    "run_control": {
     "frozen": false,
     "read_only": false
    },
    "scrolled": true
   },
   "outputs": [
    {
     "name": "stdout",
     "output_type": "stream",
     "text": [
      "Populating the interactive namespace from numpy and matplotlib\n"
     ]
    },
    {
     "name": "stderr",
     "output_type": "stream",
     "text": [
      "/Applications/anaconda/lib/python3.6/site-packages/IPython/core/magics/pylab.py:161: UserWarning: pylab import has clobbered these variables: ['plt']\n",
      "`%matplotlib` prevents importing * from pylab and numpy\n",
      "  \"\\n`%matplotlib` prevents importing * from pylab and numpy\"\n"
     ]
    }
   ],
   "source": [
    "from __future__  import print_function, division\n",
    "import pylab as pl\n",
    "import pandas as pd\n",
    "import numpy as np\n",
    "import os\n",
    "from urllib.request import urlopen\n",
    "import matplotlib.pylab as plt\n",
    "import io\n",
    "%pylab inline\n",
    "import scipy.stats\n",
    "import datetime as dt\n",
    "import seaborn"
   ]
  },
  {
   "cell_type": "markdown",
   "metadata": {
    "run_control": {
     "frozen": false,
     "read_only": false
    }
   },
   "source": [
    "# Read in data\n",
    "I am reading in data from January 2015 with the function that I created getCitiBikeCSV. You are requested to use 2 months at least. It would be a good idea to use data from a colder and a warmer months, since there are more riders in the warm weather and ridership patterns may change with weather, temperature, etc. You should use data from multiple months, joining multiple datasets (thus addressing some systematic errors as well)"
   ]
  },
  {
   "cell_type": "code",
   "execution_count": 2,
   "metadata": {
    "collapsed": true
   },
   "outputs": [],
   "source": [
    "# download data\n",
    "dataurl1 = urlopen('https://s3.amazonaws.com/tripdata/JC-201707-citibike-tripdata.csv.zip')\n",
    "dataurl2 = urlopen('https://s3.amazonaws.com/tripdata/JC-201701-citibike-tripdata.csv.zip')\n",
    "data1 = pd.read_csv(io.BytesIO(dataurl1.read()), compression='zip', sep=',')\n",
    "data2 = pd.read_csv(io.BytesIO(dataurl2.read()), compression='zip', sep=',')"
   ]
  },
  {
   "cell_type": "code",
   "execution_count": 3,
   "metadata": {
    "scrolled": true
   },
   "outputs": [
    {
     "data": {
      "text/plain": [
       "Index(['tripduration', 'starttime', 'stoptime', 'start station id',\n",
       "       'start station name', 'start station latitude',\n",
       "       'start station longitude', 'end station id', 'end station name',\n",
       "       'end station latitude', 'end station longitude', 'bikeid', 'usertype',\n",
       "       'birth year', 'gender'],\n",
       "      dtype='object')"
      ]
     },
     "execution_count": 3,
     "metadata": {},
     "output_type": "execute_result"
    }
   ],
   "source": [
    "# check keys\n",
    "data1.keys()"
   ]
  },
  {
   "cell_type": "code",
   "execution_count": 4,
   "metadata": {},
   "outputs": [
    {
     "data": {
      "text/plain": [
       "Index(['Trip Duration', 'Start Time', 'Stop Time', 'Start Station ID',\n",
       "       'Start Station Name', 'Start Station Latitude',\n",
       "       'Start Station Longitude', 'End Station ID', 'End Station Name',\n",
       "       'End Station Latitude', 'End Station Longitude', 'Bike ID', 'User Type',\n",
       "       'Birth Year', 'Gender'],\n",
       "      dtype='object')"
      ]
     },
     "execution_count": 4,
     "metadata": {},
     "output_type": "execute_result"
    }
   ],
   "source": [
    "data2.keys()"
   ]
  },
  {
   "cell_type": "code",
   "execution_count": 5,
   "metadata": {},
   "outputs": [
    {
     "data": {
      "text/plain": [
       "Index(['tripduration', 'starttime', 'stoptime', 'start station id',\n",
       "       'start station name', 'start station latitude',\n",
       "       'start station longitude', 'end station id', 'end station name',\n",
       "       'end station latitude', 'end station longitude', 'bikeid', 'usertype',\n",
       "       'birth year', 'gender'],\n",
       "      dtype='object')"
      ]
     },
     "execution_count": 5,
     "metadata": {},
     "output_type": "execute_result"
    }
   ],
   "source": [
    "# change column name so it can be merged\n",
    "data2.columns = (['tripduration', 'starttime', 'stoptime', 'start station id',\n",
    "       'start station name', 'start station latitude',\n",
    "       'start station longitude', 'end station id', 'end station name',\n",
    "       'end station latitude', 'end station longitude', 'bikeid', 'usertype',\n",
    "       'birth year', 'gender'])\n",
    "data2.keys()"
   ]
  },
  {
   "cell_type": "code",
   "execution_count": 6,
   "metadata": {
    "scrolled": true
   },
   "outputs": [
    {
     "data": {
      "text/html": [
       "<div>\n",
       "<style>\n",
       "    .dataframe thead tr:only-child th {\n",
       "        text-align: right;\n",
       "    }\n",
       "\n",
       "    .dataframe thead th {\n",
       "        text-align: left;\n",
       "    }\n",
       "\n",
       "    .dataframe tbody tr th {\n",
       "        vertical-align: top;\n",
       "    }\n",
       "</style>\n",
       "<table border=\"1\" class=\"dataframe\">\n",
       "  <thead>\n",
       "    <tr style=\"text-align: right;\">\n",
       "      <th></th>\n",
       "      <th>index</th>\n",
       "      <th>tripduration</th>\n",
       "      <th>starttime</th>\n",
       "      <th>stoptime</th>\n",
       "      <th>start station id</th>\n",
       "      <th>start station name</th>\n",
       "      <th>start station latitude</th>\n",
       "      <th>start station longitude</th>\n",
       "      <th>end station id</th>\n",
       "      <th>end station name</th>\n",
       "      <th>end station latitude</th>\n",
       "      <th>end station longitude</th>\n",
       "      <th>bikeid</th>\n",
       "      <th>usertype</th>\n",
       "      <th>birth year</th>\n",
       "      <th>gender</th>\n",
       "      <th>date</th>\n",
       "    </tr>\n",
       "  </thead>\n",
       "  <tbody>\n",
       "    <tr>\n",
       "      <th>0</th>\n",
       "      <td>0</td>\n",
       "      <td>340</td>\n",
       "      <td>2017-07-01 00:00:08</td>\n",
       "      <td>2017-07-01 00:05:48</td>\n",
       "      <td>3186</td>\n",
       "      <td>Grove St PATH</td>\n",
       "      <td>40.719586</td>\n",
       "      <td>-74.043117</td>\n",
       "      <td>3267</td>\n",
       "      <td>Morris Canal</td>\n",
       "      <td>40.712419</td>\n",
       "      <td>-74.038526</td>\n",
       "      <td>29643</td>\n",
       "      <td>Subscriber</td>\n",
       "      <td>1994.0</td>\n",
       "      <td>2</td>\n",
       "      <td>2017-07-01 00:00:08</td>\n",
       "    </tr>\n",
       "    <tr>\n",
       "      <th>1</th>\n",
       "      <td>1</td>\n",
       "      <td>439</td>\n",
       "      <td>2017-07-01 00:02:35</td>\n",
       "      <td>2017-07-01 00:09:55</td>\n",
       "      <td>3183</td>\n",
       "      <td>Exchange Place</td>\n",
       "      <td>40.716247</td>\n",
       "      <td>-74.033459</td>\n",
       "      <td>3199</td>\n",
       "      <td>Newport Pkwy</td>\n",
       "      <td>40.728745</td>\n",
       "      <td>-74.032108</td>\n",
       "      <td>29585</td>\n",
       "      <td>Subscriber</td>\n",
       "      <td>1980.0</td>\n",
       "      <td>1</td>\n",
       "      <td>2017-07-01 00:02:35</td>\n",
       "    </tr>\n",
       "    <tr>\n",
       "      <th>2</th>\n",
       "      <td>2</td>\n",
       "      <td>186</td>\n",
       "      <td>2017-07-01 00:04:33</td>\n",
       "      <td>2017-07-01 00:07:40</td>\n",
       "      <td>3186</td>\n",
       "      <td>Grove St PATH</td>\n",
       "      <td>40.719586</td>\n",
       "      <td>-74.043117</td>\n",
       "      <td>3270</td>\n",
       "      <td>Jersey &amp; 6th St</td>\n",
       "      <td>40.725289</td>\n",
       "      <td>-74.045572</td>\n",
       "      <td>29219</td>\n",
       "      <td>Subscriber</td>\n",
       "      <td>1984.0</td>\n",
       "      <td>1</td>\n",
       "      <td>2017-07-01 00:04:33</td>\n",
       "    </tr>\n",
       "  </tbody>\n",
       "</table>\n",
       "</div>"
      ],
      "text/plain": [
       "   index  tripduration            starttime             stoptime  \\\n",
       "0      0           340  2017-07-01 00:00:08  2017-07-01 00:05:48   \n",
       "1      1           439  2017-07-01 00:02:35  2017-07-01 00:09:55   \n",
       "2      2           186  2017-07-01 00:04:33  2017-07-01 00:07:40   \n",
       "\n",
       "   start station id start station name  start station latitude  \\\n",
       "0              3186      Grove St PATH               40.719586   \n",
       "1              3183     Exchange Place               40.716247   \n",
       "2              3186      Grove St PATH               40.719586   \n",
       "\n",
       "   start station longitude  end station id end station name  \\\n",
       "0               -74.043117            3267     Morris Canal   \n",
       "1               -74.033459            3199     Newport Pkwy   \n",
       "2               -74.043117            3270  Jersey & 6th St   \n",
       "\n",
       "   end station latitude  end station longitude  bikeid    usertype  \\\n",
       "0             40.712419             -74.038526   29643  Subscriber   \n",
       "1             40.728745             -74.032108   29585  Subscriber   \n",
       "2             40.725289             -74.045572   29219  Subscriber   \n",
       "\n",
       "   birth year  gender                date  \n",
       "0      1994.0       2 2017-07-01 00:00:08  \n",
       "1      1980.0       1 2017-07-01 00:02:35  \n",
       "2      1984.0       1 2017-07-01 00:04:33  "
      ]
     },
     "execution_count": 6,
     "metadata": {},
     "output_type": "execute_result"
    }
   ],
   "source": [
    "# create merged data frame\n",
    "df = data1.append(data2).reset_index()\n",
    "# convert to datetime\n",
    "df['date'] = pd.to_datetime(df['starttime'])\n",
    "df.head(3)"
   ]
  },
  {
   "cell_type": "code",
   "execution_count": 7,
   "metadata": {
    "scrolled": true
   },
   "outputs": [
    {
     "data": {
      "text/html": [
       "<div>\n",
       "<style>\n",
       "    .dataframe thead tr:only-child th {\n",
       "        text-align: right;\n",
       "    }\n",
       "\n",
       "    .dataframe thead th {\n",
       "        text-align: left;\n",
       "    }\n",
       "\n",
       "    .dataframe tbody tr th {\n",
       "        vertical-align: top;\n",
       "    }\n",
       "</style>\n",
       "<table border=\"1\" class=\"dataframe\">\n",
       "  <thead>\n",
       "    <tr style=\"text-align: right;\">\n",
       "      <th></th>\n",
       "      <th>index</th>\n",
       "      <th>tripduration</th>\n",
       "      <th>start station id</th>\n",
       "      <th>start station latitude</th>\n",
       "      <th>start station longitude</th>\n",
       "      <th>end station id</th>\n",
       "      <th>end station latitude</th>\n",
       "      <th>end station longitude</th>\n",
       "      <th>bikeid</th>\n",
       "      <th>birth year</th>\n",
       "      <th>gender</th>\n",
       "    </tr>\n",
       "  </thead>\n",
       "  <tbody>\n",
       "    <tr>\n",
       "      <th>count</th>\n",
       "      <td>46499.000000</td>\n",
       "      <td>46499.000000</td>\n",
       "      <td>46499.000000</td>\n",
       "      <td>46499.000000</td>\n",
       "      <td>46499.000000</td>\n",
       "      <td>46499.000000</td>\n",
       "      <td>46499.000000</td>\n",
       "      <td>46499.000000</td>\n",
       "      <td>46499.000000</td>\n",
       "      <td>43153.000000</td>\n",
       "      <td>46499.000000</td>\n",
       "    </tr>\n",
       "    <tr>\n",
       "      <th>mean</th>\n",
       "      <td>13916.227295</td>\n",
       "      <td>715.084798</td>\n",
       "      <td>3215.613239</td>\n",
       "      <td>40.722421</td>\n",
       "      <td>-74.046228</td>\n",
       "      <td>3211.618035</td>\n",
       "      <td>40.721933</td>\n",
       "      <td>-74.045666</td>\n",
       "      <td>27427.386159</td>\n",
       "      <td>1979.990499</td>\n",
       "      <td>1.131358</td>\n",
       "    </tr>\n",
       "    <tr>\n",
       "      <th>std</th>\n",
       "      <td>9647.854965</td>\n",
       "      <td>5234.918972</td>\n",
       "      <td>34.065026</td>\n",
       "      <td>0.007813</td>\n",
       "      <td>0.010655</td>\n",
       "      <td>73.619242</td>\n",
       "      <td>0.007600</td>\n",
       "      <td>0.010763</td>\n",
       "      <td>2029.749429</td>\n",
       "      <td>10.013404</td>\n",
       "      <td>0.515360</td>\n",
       "    </tr>\n",
       "    <tr>\n",
       "      <th>min</th>\n",
       "      <td>0.000000</td>\n",
       "      <td>61.000000</td>\n",
       "      <td>3183.000000</td>\n",
       "      <td>40.692640</td>\n",
       "      <td>-74.096937</td>\n",
       "      <td>152.000000</td>\n",
       "      <td>40.692640</td>\n",
       "      <td>-74.096937</td>\n",
       "      <td>14529.000000</td>\n",
       "      <td>1887.000000</td>\n",
       "      <td>0.000000</td>\n",
       "    </tr>\n",
       "    <tr>\n",
       "      <th>25%</th>\n",
       "      <td>5812.000000</td>\n",
       "      <td>238.000000</td>\n",
       "      <td>3187.000000</td>\n",
       "      <td>40.716540</td>\n",
       "      <td>-74.050389</td>\n",
       "      <td>3186.000000</td>\n",
       "      <td>40.716540</td>\n",
       "      <td>-74.049968</td>\n",
       "      <td>26184.000000</td>\n",
       "      <td>1975.000000</td>\n",
       "      <td>1.000000</td>\n",
       "    </tr>\n",
       "    <tr>\n",
       "      <th>50%</th>\n",
       "      <td>11624.000000</td>\n",
       "      <td>360.000000</td>\n",
       "      <td>3203.000000</td>\n",
       "      <td>40.721124</td>\n",
       "      <td>-74.044247</td>\n",
       "      <td>3202.000000</td>\n",
       "      <td>40.719586</td>\n",
       "      <td>-74.043117</td>\n",
       "      <td>26305.000000</td>\n",
       "      <td>1982.000000</td>\n",
       "      <td>1.000000</td>\n",
       "    </tr>\n",
       "    <tr>\n",
       "      <th>75%</th>\n",
       "      <td>21947.500000</td>\n",
       "      <td>621.000000</td>\n",
       "      <td>3225.000000</td>\n",
       "      <td>40.727224</td>\n",
       "      <td>-74.038526</td>\n",
       "      <td>3214.000000</td>\n",
       "      <td>40.727224</td>\n",
       "      <td>-74.038526</td>\n",
       "      <td>29468.000000</td>\n",
       "      <td>1987.000000</td>\n",
       "      <td>1.000000</td>\n",
       "    </tr>\n",
       "    <tr>\n",
       "      <th>max</th>\n",
       "      <td>33572.000000</td>\n",
       "      <td>802101.000000</td>\n",
       "      <td>3281.000000</td>\n",
       "      <td>40.752559</td>\n",
       "      <td>-74.032108</td>\n",
       "      <td>3474.000000</td>\n",
       "      <td>40.777507</td>\n",
       "      <td>-73.967510</td>\n",
       "      <td>29682.000000</td>\n",
       "      <td>2001.000000</td>\n",
       "      <td>2.000000</td>\n",
       "    </tr>\n",
       "  </tbody>\n",
       "</table>\n",
       "</div>"
      ],
      "text/plain": [
       "              index   tripduration  start station id  start station latitude  \\\n",
       "count  46499.000000   46499.000000      46499.000000            46499.000000   \n",
       "mean   13916.227295     715.084798       3215.613239               40.722421   \n",
       "std     9647.854965    5234.918972         34.065026                0.007813   \n",
       "min        0.000000      61.000000       3183.000000               40.692640   \n",
       "25%     5812.000000     238.000000       3187.000000               40.716540   \n",
       "50%    11624.000000     360.000000       3203.000000               40.721124   \n",
       "75%    21947.500000     621.000000       3225.000000               40.727224   \n",
       "max    33572.000000  802101.000000       3281.000000               40.752559   \n",
       "\n",
       "       start station longitude  end station id  end station latitude  \\\n",
       "count             46499.000000    46499.000000          46499.000000   \n",
       "mean                -74.046228     3211.618035             40.721933   \n",
       "std                   0.010655       73.619242              0.007600   \n",
       "min                 -74.096937      152.000000             40.692640   \n",
       "25%                 -74.050389     3186.000000             40.716540   \n",
       "50%                 -74.044247     3202.000000             40.719586   \n",
       "75%                 -74.038526     3214.000000             40.727224   \n",
       "max                 -74.032108     3474.000000             40.777507   \n",
       "\n",
       "       end station longitude        bikeid    birth year        gender  \n",
       "count           46499.000000  46499.000000  43153.000000  46499.000000  \n",
       "mean              -74.045666  27427.386159   1979.990499      1.131358  \n",
       "std                 0.010763   2029.749429     10.013404      0.515360  \n",
       "min               -74.096937  14529.000000   1887.000000      0.000000  \n",
       "25%               -74.049968  26184.000000   1975.000000      1.000000  \n",
       "50%               -74.043117  26305.000000   1982.000000      1.000000  \n",
       "75%               -74.038526  29468.000000   1987.000000      1.000000  \n",
       "max               -73.967510  29682.000000   2001.000000      2.000000  "
      ]
     },
     "execution_count": 7,
     "metadata": {},
     "output_type": "execute_result"
    }
   ],
   "source": [
    "# check abnormality, such as NaN and 0 value\n",
    "# if the min value contains 0, drop 0 value\n",
    "# if the count does not match with other variables, drop NaN\n",
    "df.describe()"
   ]
  },
  {
   "cell_type": "code",
   "execution_count": 8,
   "metadata": {},
   "outputs": [
    {
     "data": {
      "text/html": [
       "<div>\n",
       "<style>\n",
       "    .dataframe thead tr:only-child th {\n",
       "        text-align: right;\n",
       "    }\n",
       "\n",
       "    .dataframe thead th {\n",
       "        text-align: left;\n",
       "    }\n",
       "\n",
       "    .dataframe tbody tr th {\n",
       "        vertical-align: top;\n",
       "    }\n",
       "</style>\n",
       "<table border=\"1\" class=\"dataframe\">\n",
       "  <thead>\n",
       "    <tr style=\"text-align: right;\">\n",
       "      <th></th>\n",
       "      <th>index</th>\n",
       "      <th>tripduration</th>\n",
       "      <th>start station id</th>\n",
       "      <th>start station latitude</th>\n",
       "      <th>start station longitude</th>\n",
       "      <th>end station id</th>\n",
       "      <th>end station latitude</th>\n",
       "      <th>end station longitude</th>\n",
       "      <th>bikeid</th>\n",
       "      <th>birth year</th>\n",
       "      <th>gender</th>\n",
       "    </tr>\n",
       "  </thead>\n",
       "  <tbody>\n",
       "    <tr>\n",
       "      <th>count</th>\n",
       "      <td>42957.000000</td>\n",
       "      <td>42957.000000</td>\n",
       "      <td>42957.000000</td>\n",
       "      <td>42957.000000</td>\n",
       "      <td>42957.000000</td>\n",
       "      <td>42957.000000</td>\n",
       "      <td>42957.000000</td>\n",
       "      <td>42957.000000</td>\n",
       "      <td>42957.000000</td>\n",
       "      <td>42957.000000</td>\n",
       "      <td>42957.000000</td>\n",
       "    </tr>\n",
       "    <tr>\n",
       "      <th>mean</th>\n",
       "      <td>13873.243686</td>\n",
       "      <td>583.679284</td>\n",
       "      <td>3215.793491</td>\n",
       "      <td>40.722571</td>\n",
       "      <td>-74.046377</td>\n",
       "      <td>3212.141746</td>\n",
       "      <td>40.722049</td>\n",
       "      <td>-74.045813</td>\n",
       "      <td>27388.054939</td>\n",
       "      <td>1980.014456</td>\n",
       "      <td>1.224038</td>\n",
       "    </tr>\n",
       "    <tr>\n",
       "      <th>std</th>\n",
       "      <td>9572.246517</td>\n",
       "      <td>4343.365905</td>\n",
       "      <td>34.140643</td>\n",
       "      <td>0.007793</td>\n",
       "      <td>0.010604</td>\n",
       "      <td>69.655500</td>\n",
       "      <td>0.007551</td>\n",
       "      <td>0.010727</td>\n",
       "      <td>2037.990605</td>\n",
       "      <td>9.922544</td>\n",
       "      <td>0.416952</td>\n",
       "    </tr>\n",
       "    <tr>\n",
       "      <th>min</th>\n",
       "      <td>1.000000</td>\n",
       "      <td>61.000000</td>\n",
       "      <td>3183.000000</td>\n",
       "      <td>40.692640</td>\n",
       "      <td>-74.096937</td>\n",
       "      <td>152.000000</td>\n",
       "      <td>40.692640</td>\n",
       "      <td>-74.096937</td>\n",
       "      <td>14529.000000</td>\n",
       "      <td>1923.000000</td>\n",
       "      <td>1.000000</td>\n",
       "    </tr>\n",
       "    <tr>\n",
       "      <th>25%</th>\n",
       "      <td>5830.000000</td>\n",
       "      <td>235.000000</td>\n",
       "      <td>3187.000000</td>\n",
       "      <td>40.717733</td>\n",
       "      <td>-74.050389</td>\n",
       "      <td>3186.000000</td>\n",
       "      <td>40.716540</td>\n",
       "      <td>-74.049968</td>\n",
       "      <td>26180.000000</td>\n",
       "      <td>1975.000000</td>\n",
       "      <td>1.000000</td>\n",
       "    </tr>\n",
       "    <tr>\n",
       "      <th>50%</th>\n",
       "      <td>11574.000000</td>\n",
       "      <td>347.000000</td>\n",
       "      <td>3203.000000</td>\n",
       "      <td>40.721525</td>\n",
       "      <td>-74.044247</td>\n",
       "      <td>3202.000000</td>\n",
       "      <td>40.719586</td>\n",
       "      <td>-74.043117</td>\n",
       "      <td>26300.000000</td>\n",
       "      <td>1982.000000</td>\n",
       "      <td>1.000000</td>\n",
       "    </tr>\n",
       "    <tr>\n",
       "      <th>75%</th>\n",
       "      <td>21759.000000</td>\n",
       "      <td>579.000000</td>\n",
       "      <td>3225.000000</td>\n",
       "      <td>40.727224</td>\n",
       "      <td>-74.038526</td>\n",
       "      <td>3215.000000</td>\n",
       "      <td>40.727224</td>\n",
       "      <td>-74.038526</td>\n",
       "      <td>29466.000000</td>\n",
       "      <td>1987.000000</td>\n",
       "      <td>1.000000</td>\n",
       "    </tr>\n",
       "    <tr>\n",
       "      <th>max</th>\n",
       "      <td>33572.000000</td>\n",
       "      <td>802101.000000</td>\n",
       "      <td>3281.000000</td>\n",
       "      <td>40.752559</td>\n",
       "      <td>-74.032108</td>\n",
       "      <td>3474.000000</td>\n",
       "      <td>40.777507</td>\n",
       "      <td>-73.967510</td>\n",
       "      <td>29682.000000</td>\n",
       "      <td>2001.000000</td>\n",
       "      <td>2.000000</td>\n",
       "    </tr>\n",
       "  </tbody>\n",
       "</table>\n",
       "</div>"
      ],
      "text/plain": [
       "              index   tripduration  start station id  start station latitude  \\\n",
       "count  42957.000000   42957.000000      42957.000000            42957.000000   \n",
       "mean   13873.243686     583.679284       3215.793491               40.722571   \n",
       "std     9572.246517    4343.365905         34.140643                0.007793   \n",
       "min        1.000000      61.000000       3183.000000               40.692640   \n",
       "25%     5830.000000     235.000000       3187.000000               40.717733   \n",
       "50%    11574.000000     347.000000       3203.000000               40.721525   \n",
       "75%    21759.000000     579.000000       3225.000000               40.727224   \n",
       "max    33572.000000  802101.000000       3281.000000               40.752559   \n",
       "\n",
       "       start station longitude  end station id  end station latitude  \\\n",
       "count             42957.000000    42957.000000          42957.000000   \n",
       "mean                -74.046377     3212.141746             40.722049   \n",
       "std                   0.010604       69.655500              0.007551   \n",
       "min                 -74.096937      152.000000             40.692640   \n",
       "25%                 -74.050389     3186.000000             40.716540   \n",
       "50%                 -74.044247     3202.000000             40.719586   \n",
       "75%                 -74.038526     3215.000000             40.727224   \n",
       "max                 -74.032108     3474.000000             40.777507   \n",
       "\n",
       "       end station longitude        bikeid    birth year        gender  \n",
       "count           42957.000000  42957.000000  42957.000000  42957.000000  \n",
       "mean              -74.045813  27388.054939   1980.014456      1.224038  \n",
       "std                 0.010727   2037.990605      9.922544      0.416952  \n",
       "min               -74.096937  14529.000000   1923.000000      1.000000  \n",
       "25%               -74.049968  26180.000000   1975.000000      1.000000  \n",
       "50%               -74.043117  26300.000000   1982.000000      1.000000  \n",
       "75%               -74.038526  29466.000000   1987.000000      1.000000  \n",
       "max               -73.967510  29682.000000   2001.000000      2.000000  "
      ]
     },
     "execution_count": 8,
     "metadata": {},
     "output_type": "execute_result"
    }
   ],
   "source": [
    "# each variable counts do not match = drop NaN\n",
    "# there is 0 value = drop 0\n",
    "df = df.dropna()\n",
    "df = df[df!=0]\n",
    "df = df.dropna()\n",
    "df.describe()"
   ]
  },
  {
   "cell_type": "code",
   "execution_count": 9,
   "metadata": {
    "run_control": {
     "frozen": false,
     "read_only": false
    },
    "scrolled": true
   },
   "outputs": [
    {
     "data": {
      "text/plain": [
       "Index(['index', 'tripduration', 'starttime', 'stoptime', 'start station id',\n",
       "       'start station name', 'start station latitude',\n",
       "       'start station longitude', 'end station id', 'end station name',\n",
       "       'end station latitude', 'end station longitude', 'bikeid', 'usertype',\n",
       "       'birth year', 'gender', 'date'],\n",
       "      dtype='object')"
      ]
     },
     "execution_count": 9,
     "metadata": {},
     "output_type": "execute_result"
    }
   ],
   "source": [
    "df.columns"
   ]
  },
  {
   "cell_type": "code",
   "execution_count": 10,
   "metadata": {
    "ExecuteTime": {
     "end_time": "2017-10-05T16:51:52.357332",
     "start_time": "2017-10-05T16:51:52.017199"
    },
    "collapsed": true,
    "run_control": {
     "frozen": false,
     "read_only": false
    }
   },
   "outputs": [],
   "source": [
    "#df is the dataframe where the content of the csv file is stored\n",
    "df['ageM'] = 2017 - df['birth year'][(df['usertype'] == 'Subscriber') & (df['gender'] == 1)]\n",
    "df['ageF'] = 2017 - df['birth year'][(df['usertype'] == 'Subscriber') & (df['gender'] == 2)]"
   ]
  },
  {
   "cell_type": "code",
   "execution_count": 11,
   "metadata": {},
   "outputs": [
    {
     "data": {
      "text/html": [
       "<div>\n",
       "<style>\n",
       "    .dataframe thead tr:only-child th {\n",
       "        text-align: right;\n",
       "    }\n",
       "\n",
       "    .dataframe thead th {\n",
       "        text-align: left;\n",
       "    }\n",
       "\n",
       "    .dataframe tbody tr th {\n",
       "        vertical-align: top;\n",
       "    }\n",
       "</style>\n",
       "<table border=\"1\" class=\"dataframe\">\n",
       "  <thead>\n",
       "    <tr style=\"text-align: right;\">\n",
       "      <th></th>\n",
       "      <th>index</th>\n",
       "      <th>tripduration</th>\n",
       "      <th>start station id</th>\n",
       "      <th>start station latitude</th>\n",
       "      <th>start station longitude</th>\n",
       "      <th>end station id</th>\n",
       "      <th>end station latitude</th>\n",
       "      <th>end station longitude</th>\n",
       "      <th>bikeid</th>\n",
       "      <th>birth year</th>\n",
       "      <th>gender</th>\n",
       "      <th>ageM</th>\n",
       "      <th>ageF</th>\n",
       "    </tr>\n",
       "  </thead>\n",
       "  <tbody>\n",
       "    <tr>\n",
       "      <th>count</th>\n",
       "      <td>42957.000000</td>\n",
       "      <td>42957.000000</td>\n",
       "      <td>42957.000000</td>\n",
       "      <td>42957.000000</td>\n",
       "      <td>42957.000000</td>\n",
       "      <td>42957.000000</td>\n",
       "      <td>42957.000000</td>\n",
       "      <td>42957.000000</td>\n",
       "      <td>42957.000000</td>\n",
       "      <td>42957.000000</td>\n",
       "      <td>42957.000000</td>\n",
       "      <td>33096.000000</td>\n",
       "      <td>9451.000000</td>\n",
       "    </tr>\n",
       "    <tr>\n",
       "      <th>mean</th>\n",
       "      <td>13873.243686</td>\n",
       "      <td>583.679284</td>\n",
       "      <td>3215.793491</td>\n",
       "      <td>40.722571</td>\n",
       "      <td>-74.046377</td>\n",
       "      <td>3212.141746</td>\n",
       "      <td>40.722049</td>\n",
       "      <td>-74.045813</td>\n",
       "      <td>27388.054939</td>\n",
       "      <td>1980.014456</td>\n",
       "      <td>1.224038</td>\n",
       "      <td>37.385485</td>\n",
       "      <td>35.735584</td>\n",
       "    </tr>\n",
       "    <tr>\n",
       "      <th>std</th>\n",
       "      <td>9572.246517</td>\n",
       "      <td>4343.365905</td>\n",
       "      <td>34.140643</td>\n",
       "      <td>0.007793</td>\n",
       "      <td>0.010604</td>\n",
       "      <td>69.655500</td>\n",
       "      <td>0.007551</td>\n",
       "      <td>0.010727</td>\n",
       "      <td>2037.990605</td>\n",
       "      <td>9.922544</td>\n",
       "      <td>0.416952</td>\n",
       "      <td>9.794652</td>\n",
       "      <td>10.314218</td>\n",
       "    </tr>\n",
       "    <tr>\n",
       "      <th>min</th>\n",
       "      <td>1.000000</td>\n",
       "      <td>61.000000</td>\n",
       "      <td>3183.000000</td>\n",
       "      <td>40.692640</td>\n",
       "      <td>-74.096937</td>\n",
       "      <td>152.000000</td>\n",
       "      <td>40.692640</td>\n",
       "      <td>-74.096937</td>\n",
       "      <td>14529.000000</td>\n",
       "      <td>1923.000000</td>\n",
       "      <td>1.000000</td>\n",
       "      <td>16.000000</td>\n",
       "      <td>19.000000</td>\n",
       "    </tr>\n",
       "    <tr>\n",
       "      <th>25%</th>\n",
       "      <td>5830.000000</td>\n",
       "      <td>235.000000</td>\n",
       "      <td>3187.000000</td>\n",
       "      <td>40.717733</td>\n",
       "      <td>-74.050389</td>\n",
       "      <td>3186.000000</td>\n",
       "      <td>40.716540</td>\n",
       "      <td>-74.049968</td>\n",
       "      <td>26180.000000</td>\n",
       "      <td>1975.000000</td>\n",
       "      <td>1.000000</td>\n",
       "      <td>30.000000</td>\n",
       "      <td>29.000000</td>\n",
       "    </tr>\n",
       "    <tr>\n",
       "      <th>50%</th>\n",
       "      <td>11574.000000</td>\n",
       "      <td>347.000000</td>\n",
       "      <td>3203.000000</td>\n",
       "      <td>40.721525</td>\n",
       "      <td>-74.044247</td>\n",
       "      <td>3202.000000</td>\n",
       "      <td>40.719586</td>\n",
       "      <td>-74.043117</td>\n",
       "      <td>26300.000000</td>\n",
       "      <td>1982.000000</td>\n",
       "      <td>1.000000</td>\n",
       "      <td>35.000000</td>\n",
       "      <td>32.000000</td>\n",
       "    </tr>\n",
       "    <tr>\n",
       "      <th>75%</th>\n",
       "      <td>21759.000000</td>\n",
       "      <td>579.000000</td>\n",
       "      <td>3225.000000</td>\n",
       "      <td>40.727224</td>\n",
       "      <td>-74.038526</td>\n",
       "      <td>3215.000000</td>\n",
       "      <td>40.727224</td>\n",
       "      <td>-74.038526</td>\n",
       "      <td>29466.000000</td>\n",
       "      <td>1987.000000</td>\n",
       "      <td>1.000000</td>\n",
       "      <td>43.000000</td>\n",
       "      <td>40.000000</td>\n",
       "    </tr>\n",
       "    <tr>\n",
       "      <th>max</th>\n",
       "      <td>33572.000000</td>\n",
       "      <td>802101.000000</td>\n",
       "      <td>3281.000000</td>\n",
       "      <td>40.752559</td>\n",
       "      <td>-74.032108</td>\n",
       "      <td>3474.000000</td>\n",
       "      <td>40.777507</td>\n",
       "      <td>-73.967510</td>\n",
       "      <td>29682.000000</td>\n",
       "      <td>2001.000000</td>\n",
       "      <td>2.000000</td>\n",
       "      <td>94.000000</td>\n",
       "      <td>86.000000</td>\n",
       "    </tr>\n",
       "  </tbody>\n",
       "</table>\n",
       "</div>"
      ],
      "text/plain": [
       "              index   tripduration  start station id  start station latitude  \\\n",
       "count  42957.000000   42957.000000      42957.000000            42957.000000   \n",
       "mean   13873.243686     583.679284       3215.793491               40.722571   \n",
       "std     9572.246517    4343.365905         34.140643                0.007793   \n",
       "min        1.000000      61.000000       3183.000000               40.692640   \n",
       "25%     5830.000000     235.000000       3187.000000               40.717733   \n",
       "50%    11574.000000     347.000000       3203.000000               40.721525   \n",
       "75%    21759.000000     579.000000       3225.000000               40.727224   \n",
       "max    33572.000000  802101.000000       3281.000000               40.752559   \n",
       "\n",
       "       start station longitude  end station id  end station latitude  \\\n",
       "count             42957.000000    42957.000000          42957.000000   \n",
       "mean                -74.046377     3212.141746             40.722049   \n",
       "std                   0.010604       69.655500              0.007551   \n",
       "min                 -74.096937      152.000000             40.692640   \n",
       "25%                 -74.050389     3186.000000             40.716540   \n",
       "50%                 -74.044247     3202.000000             40.719586   \n",
       "75%                 -74.038526     3215.000000             40.727224   \n",
       "max                 -74.032108     3474.000000             40.777507   \n",
       "\n",
       "       end station longitude        bikeid    birth year        gender  \\\n",
       "count           42957.000000  42957.000000  42957.000000  42957.000000   \n",
       "mean              -74.045813  27388.054939   1980.014456      1.224038   \n",
       "std                 0.010727   2037.990605      9.922544      0.416952   \n",
       "min               -74.096937  14529.000000   1923.000000      1.000000   \n",
       "25%               -74.049968  26180.000000   1975.000000      1.000000   \n",
       "50%               -74.043117  26300.000000   1982.000000      1.000000   \n",
       "75%               -74.038526  29466.000000   1987.000000      1.000000   \n",
       "max               -73.967510  29682.000000   2001.000000      2.000000   \n",
       "\n",
       "               ageM         ageF  \n",
       "count  33096.000000  9451.000000  \n",
       "mean      37.385485    35.735584  \n",
       "std        9.794652    10.314218  \n",
       "min       16.000000    19.000000  \n",
       "25%       30.000000    29.000000  \n",
       "50%       35.000000    32.000000  \n",
       "75%       43.000000    40.000000  \n",
       "max       94.000000    86.000000  "
      ]
     },
     "execution_count": 11,
     "metadata": {},
     "output_type": "execute_result"
    }
   ],
   "source": [
    "df.describe()"
   ]
  },
  {
   "cell_type": "code",
   "execution_count": 12,
   "metadata": {
    "collapsed": true
   },
   "outputs": [],
   "source": [
    "#dropping some data I no longer need\n",
    "df = df.drop(['index', 'starttime', 'stoptime', 'start station name', 'end station name', 'usertype'], axis=1)"
   ]
  },
  {
   "cell_type": "code",
   "execution_count": 13,
   "metadata": {
    "ExecuteTime": {
     "end_time": "2017-10-05T16:55:03.392271",
     "start_time": "2017-10-05T16:55:02.902521"
    },
    "run_control": {
     "frozen": false,
     "read_only": false
    }
   },
   "outputs": [
    {
     "data": {
      "text/html": [
       "<div>\n",
       "<style>\n",
       "    .dataframe thead tr:only-child th {\n",
       "        text-align: right;\n",
       "    }\n",
       "\n",
       "    .dataframe thead th {\n",
       "        text-align: left;\n",
       "    }\n",
       "\n",
       "    .dataframe tbody tr th {\n",
       "        vertical-align: top;\n",
       "    }\n",
       "</style>\n",
       "<table border=\"1\" class=\"dataframe\">\n",
       "  <thead>\n",
       "    <tr style=\"text-align: right;\">\n",
       "      <th></th>\n",
       "      <th>tripduration</th>\n",
       "      <th>start station id</th>\n",
       "      <th>start station latitude</th>\n",
       "      <th>start station longitude</th>\n",
       "      <th>end station id</th>\n",
       "      <th>end station latitude</th>\n",
       "      <th>end station longitude</th>\n",
       "      <th>bikeid</th>\n",
       "      <th>birth year</th>\n",
       "      <th>gender</th>\n",
       "      <th>ageM</th>\n",
       "      <th>ageF</th>\n",
       "    </tr>\n",
       "  </thead>\n",
       "  <tbody>\n",
       "    <tr>\n",
       "      <th>count</th>\n",
       "      <td>42957.000000</td>\n",
       "      <td>42957.000000</td>\n",
       "      <td>42957.000000</td>\n",
       "      <td>42957.000000</td>\n",
       "      <td>42957.000000</td>\n",
       "      <td>42957.000000</td>\n",
       "      <td>42957.000000</td>\n",
       "      <td>42957.000000</td>\n",
       "      <td>42957.000000</td>\n",
       "      <td>42957.000000</td>\n",
       "      <td>33096.000000</td>\n",
       "      <td>9451.000000</td>\n",
       "    </tr>\n",
       "    <tr>\n",
       "      <th>mean</th>\n",
       "      <td>583.679284</td>\n",
       "      <td>3215.793491</td>\n",
       "      <td>40.722571</td>\n",
       "      <td>-74.046377</td>\n",
       "      <td>3212.141746</td>\n",
       "      <td>40.722049</td>\n",
       "      <td>-74.045813</td>\n",
       "      <td>27388.054939</td>\n",
       "      <td>1980.014456</td>\n",
       "      <td>1.224038</td>\n",
       "      <td>37.385485</td>\n",
       "      <td>35.735584</td>\n",
       "    </tr>\n",
       "    <tr>\n",
       "      <th>std</th>\n",
       "      <td>4343.365905</td>\n",
       "      <td>34.140643</td>\n",
       "      <td>0.007793</td>\n",
       "      <td>0.010604</td>\n",
       "      <td>69.655500</td>\n",
       "      <td>0.007551</td>\n",
       "      <td>0.010727</td>\n",
       "      <td>2037.990605</td>\n",
       "      <td>9.922544</td>\n",
       "      <td>0.416952</td>\n",
       "      <td>9.794652</td>\n",
       "      <td>10.314218</td>\n",
       "    </tr>\n",
       "    <tr>\n",
       "      <th>min</th>\n",
       "      <td>61.000000</td>\n",
       "      <td>3183.000000</td>\n",
       "      <td>40.692640</td>\n",
       "      <td>-74.096937</td>\n",
       "      <td>152.000000</td>\n",
       "      <td>40.692640</td>\n",
       "      <td>-74.096937</td>\n",
       "      <td>14529.000000</td>\n",
       "      <td>1923.000000</td>\n",
       "      <td>1.000000</td>\n",
       "      <td>16.000000</td>\n",
       "      <td>19.000000</td>\n",
       "    </tr>\n",
       "    <tr>\n",
       "      <th>25%</th>\n",
       "      <td>235.000000</td>\n",
       "      <td>3187.000000</td>\n",
       "      <td>40.717733</td>\n",
       "      <td>-74.050389</td>\n",
       "      <td>3186.000000</td>\n",
       "      <td>40.716540</td>\n",
       "      <td>-74.049968</td>\n",
       "      <td>26180.000000</td>\n",
       "      <td>1975.000000</td>\n",
       "      <td>1.000000</td>\n",
       "      <td>30.000000</td>\n",
       "      <td>29.000000</td>\n",
       "    </tr>\n",
       "    <tr>\n",
       "      <th>50%</th>\n",
       "      <td>347.000000</td>\n",
       "      <td>3203.000000</td>\n",
       "      <td>40.721525</td>\n",
       "      <td>-74.044247</td>\n",
       "      <td>3202.000000</td>\n",
       "      <td>40.719586</td>\n",
       "      <td>-74.043117</td>\n",
       "      <td>26300.000000</td>\n",
       "      <td>1982.000000</td>\n",
       "      <td>1.000000</td>\n",
       "      <td>35.000000</td>\n",
       "      <td>32.000000</td>\n",
       "    </tr>\n",
       "    <tr>\n",
       "      <th>75%</th>\n",
       "      <td>579.000000</td>\n",
       "      <td>3225.000000</td>\n",
       "      <td>40.727224</td>\n",
       "      <td>-74.038526</td>\n",
       "      <td>3215.000000</td>\n",
       "      <td>40.727224</td>\n",
       "      <td>-74.038526</td>\n",
       "      <td>29466.000000</td>\n",
       "      <td>1987.000000</td>\n",
       "      <td>1.000000</td>\n",
       "      <td>43.000000</td>\n",
       "      <td>40.000000</td>\n",
       "    </tr>\n",
       "    <tr>\n",
       "      <th>max</th>\n",
       "      <td>802101.000000</td>\n",
       "      <td>3281.000000</td>\n",
       "      <td>40.752559</td>\n",
       "      <td>-74.032108</td>\n",
       "      <td>3474.000000</td>\n",
       "      <td>40.777507</td>\n",
       "      <td>-73.967510</td>\n",
       "      <td>29682.000000</td>\n",
       "      <td>2001.000000</td>\n",
       "      <td>2.000000</td>\n",
       "      <td>94.000000</td>\n",
       "      <td>86.000000</td>\n",
       "    </tr>\n",
       "  </tbody>\n",
       "</table>\n",
       "</div>"
      ],
      "text/plain": [
       "        tripduration  start station id  start station latitude  \\\n",
       "count   42957.000000      42957.000000            42957.000000   \n",
       "mean      583.679284       3215.793491               40.722571   \n",
       "std      4343.365905         34.140643                0.007793   \n",
       "min        61.000000       3183.000000               40.692640   \n",
       "25%       235.000000       3187.000000               40.717733   \n",
       "50%       347.000000       3203.000000               40.721525   \n",
       "75%       579.000000       3225.000000               40.727224   \n",
       "max    802101.000000       3281.000000               40.752559   \n",
       "\n",
       "       start station longitude  end station id  end station latitude  \\\n",
       "count             42957.000000    42957.000000          42957.000000   \n",
       "mean                -74.046377     3212.141746             40.722049   \n",
       "std                   0.010604       69.655500              0.007551   \n",
       "min                 -74.096937      152.000000             40.692640   \n",
       "25%                 -74.050389     3186.000000             40.716540   \n",
       "50%                 -74.044247     3202.000000             40.719586   \n",
       "75%                 -74.038526     3215.000000             40.727224   \n",
       "max                 -74.032108     3474.000000             40.777507   \n",
       "\n",
       "       end station longitude        bikeid    birth year        gender  \\\n",
       "count           42957.000000  42957.000000  42957.000000  42957.000000   \n",
       "mean              -74.045813  27388.054939   1980.014456      1.224038   \n",
       "std                 0.010727   2037.990605      9.922544      0.416952   \n",
       "min               -74.096937  14529.000000   1923.000000      1.000000   \n",
       "25%               -74.049968  26180.000000   1975.000000      1.000000   \n",
       "50%               -74.043117  26300.000000   1982.000000      1.000000   \n",
       "75%               -74.038526  29466.000000   1987.000000      1.000000   \n",
       "max               -73.967510  29682.000000   2001.000000      2.000000   \n",
       "\n",
       "               ageM         ageF  \n",
       "count  33096.000000  9451.000000  \n",
       "mean      37.385485    35.735584  \n",
       "std        9.794652    10.314218  \n",
       "min       16.000000    19.000000  \n",
       "25%       30.000000    29.000000  \n",
       "50%       35.000000    32.000000  \n",
       "75%       43.000000    40.000000  \n",
       "max       94.000000    86.000000  "
      ]
     },
     "execution_count": 13,
     "metadata": {},
     "output_type": "execute_result"
    }
   ],
   "source": [
    "#your df should look something like this\n",
    "# look at these data carefully... you may see someinteresting values!\n",
    "df.describe()"
   ]
  },
  {
   "cell_type": "code",
   "execution_count": 14,
   "metadata": {
    "ExecuteTime": {
     "end_time": "2017-10-05T16:55:05.649685",
     "start_time": "2017-10-05T16:55:05.635796"
    },
    "collapsed": true,
    "run_control": {
     "frozen": false,
     "read_only": false
    }
   },
   "outputs": [],
   "source": [
    "# dropping NaN values\n",
    "df['ageM'].dropna(inplace= True)\n",
    "df['ageF'].dropna(inplace= True)"
   ]
  },
  {
   "cell_type": "code",
   "execution_count": 15,
   "metadata": {
    "ExecuteTime": {
     "end_time": "2017-10-05T16:55:21.602238",
     "start_time": "2017-10-05T16:55:20.487384"
    },
    "run_control": {
     "frozen": false,
     "read_only": false
    }
   },
   "outputs": [
    {
     "data": {
      "image/png": "[encoded data removed]",
      "text/plain": [
       "<matplotlib.figure.Figure at 0x10cdffe48>"
      ]
     },
     "metadata": {},
     "output_type": "display_data"
    },
    {
     "data": {
      "image/png": "[encoded data removed]",
      "text/plain": [
       "<matplotlib.figure.Figure at 0x1174e2208>"
      ]
     },
     "metadata": {},
     "output_type": "display_data"
    }
   ],
   "source": [
    "# plotting histogramswith pandas is a bitdifferent than with pylab\n",
    "# this is a VERY USEFUL syntaxfor you to knonw!\n",
    "bins = np.arange(10, 99, 5)\n",
    "axM = df.ageM.groupby(pd.cut(df.ageM, bins)).agg([count_nonzero]).plot(kind='bar', \n",
    "                                                                legend=False, color='m')\n",
    "axM.set_title(\"male riders\", fontsize=15)\n",
    "axF = df.ageF.groupby(pd.cut(df.ageF, bins)).agg([count_nonzero]).plot(kind='bar',\n",
    "                                                                legend=False, color='c')\n",
    "axF.set_title(\"female riders\", fontsize=15);\n"
   ]
  },
  {
   "cell_type": "markdown",
   "metadata": {
    "run_control": {
     "frozen": false,
     "read_only": false
    }
   },
   "source": [
    "**Figure 1: histogrammed distribution of riders' ages by gender **"
   ]
  },
  {
   "cell_type": "markdown",
   "metadata": {
    "run_control": {
     "frozen": false,
     "read_only": false
    }
   },
   "source": [
    "this is how the cumulative distributions look like.  Notice that i am normalizing them! if i want to reat an observed distribution like a probablility distribution i have to normalize it"
   ]
  },
  {
   "cell_type": "code",
   "execution_count": 16,
   "metadata": {
    "run_control": {
     "frozen": false,
     "read_only": false
    },
    "scrolled": false
   },
   "outputs": [
    {
     "name": "stdout",
     "output_type": "stream",
     "text": [
      "          count_nonzero\n",
      "ageM                   \n",
      "(10, 15]            NaN\n",
      "(15, 20]       0.001102\n",
      "(20, 25]       0.015286\n",
      "(25, 30]       0.082915\n",
      "(30, 35]       0.102832\n",
      "(35, 40]       0.060241\n",
      "(40, 45]       0.045135\n",
      "(45, 50]       0.024317\n",
      "(50, 55]       0.006208\n",
      "(55, 60]       0.003054\n",
      "(60, 65]       0.005278\n",
      "(65, 70]       0.008102\n",
      "(70, 75]            NaN\n",
      "(75, 80]       0.006893\n",
      "(80, 85]            NaN\n",
      "(85, 90]            NaN\n",
      "(90, 95]            NaN\n"
     ]
    },
    {
     "name": "stderr",
     "output_type": "stream",
     "text": [
      "/Applications/anaconda/lib/python3.6/site-packages/ipykernel_launcher.py:9: RuntimeWarning: invalid value encountered in sqrt\n",
      "  if __name__ == '__main__':\n"
     ]
    },
    {
     "data": {
      "text/plain": [
       "<matplotlib.legend.Legend at 0x119349ef0>"
      ]
     },
     "execution_count": 16,
     "metadata": {},
     "output_type": "execute_result"
    },
    {
     "data": {
      "image/png": "[encoded data removed]",
      "text/plain": [
       "<matplotlib.figure.Figure at 0x1190c6908>"
      ]
     },
     "metadata": {},
     "output_type": "display_data"
    }
   ],
   "source": [
    "csM=df.ageM.groupby(pd.cut(df.ageM, bins)).agg([count_nonzero]).cumsum()\n",
    "\n",
    "csF=df.ageF.groupby(pd.cut(df.ageF, bins)).agg([count_nonzero]).cumsum()\n",
    "\n",
    "print (np.abs(csM / csM.max()-csF / csF.max()))\n",
    "\n",
    "pl.plot(bins[:-1] + 5, csM / csM.max(), label = \"M\")\n",
    "pl.plot(bins[:-1] + 5, csF / csF.max(), label = \"F\")\n",
    "pl.plot(bins[:-1] + 5, np.sqrt(csF / csF.max() - csM / csM.max())**2, 'k-',\n",
    "        label = \"difference\")\n",
    "pl.xlabel(\"Age\", fontsize=15)\n",
    "pl.ylabel(\"Normalized Cumulative Number\", fontsize=15)\n",
    "pl.legend()"
   ]
  },
  {
   "cell_type": "markdown",
   "metadata": {
    "run_control": {
     "frozen": false,
     "read_only": false
    }
   },
   "source": [
    "** Figure 2: the cumulative distribution of CitiBike riders' ages by gender**"
   ]
  },
  {
   "cell_type": "markdown",
   "metadata": {},
   "source": [
    "### Null Hypothesis\n",
    "\n",
    "Null Hypothesis : There is no statistical difference in the age distribution of male and female riders\n",
    "\n",
    "$H_0:$ $Distribution$<sub>$male$</sub>$  = Distribution$<sub>$female$</sub>\n",
    "\n",
    "$H_1:$ $Distribution$<sub>$male$</sub> $\\neq Distribution$<sub>$female$</sub>\n",
    "\n",
    "$\\alpha = 0.05$"
   ]
  },
  {
   "cell_type": "markdown",
   "metadata": {
    "collapsed": true,
    "run_control": {
     "frozen": false,
     "read_only": false
    }
   },
   "source": [
    "# KS tests to compare 2 samples\n",
    "\n",
    "http://docs.scipy.org/doc/scipy-0.15.1/reference/generated/scipy.stats.ks_2samp.html\n",
    "\n",
    "the KS test in scipy returns the p-value BUT make sure you understand what the NULL is! read the documentation carefully! what is the null hypothesis that you can/cannot reject?"
   ]
  },
  {
   "cell_type": "code",
   "execution_count": 17,
   "metadata": {
    "ExecuteTime": {
     "end_time": "2017-10-05T16:58:13.968035",
     "start_time": "2017-10-05T16:58:13.899033"
    },
    "run_control": {
     "frozen": false,
     "read_only": false
    }
   },
   "outputs": [
    {
     "name": "stdout",
     "output_type": "stream",
     "text": [
      "Ks_2sampResult(statistic=0.15439627321430716, pvalue=4.4658022586182943e-153)\n"
     ]
    }
   ],
   "source": [
    "ks = scipy.stats.ks_2samp(df.ageM, df.ageF)\n",
    "print (ks)"
   ]
  },
  {
   "cell_type": "markdown",
   "metadata": {
    "run_control": {
     "frozen": false,
     "read_only": false
    }
   },
   "source": [
    "**  FILL IN THE CELL BELOW!**"
   ]
  },
  {
   "cell_type": "markdown",
   "metadata": {
    "run_control": {
     "frozen": false,
     "read_only": false
    }
   },
   "source": [
    "The scipy.stats KS test already tells me the significance and the p-value. \n",
    "\n",
    "The next few cells are here just to show you how you would obtain the same result by hand, but they are **not required**. \n",
    "\n",
    "Remember: the Null hypothesis is rejected if \n",
    "\n",
    "$D_KS(n1,n2) > c(\\alpha) \\sqrt{\\frac{(n1 + n2)}{n1n2}}$\n",
    "\n",
    "(see class notes) where $c(\\alpha$) is the inverse of the KS distribution, and you do not have to know how to get that cause there are tables that list critical values!! \n",
    "\n",
    "http://www.real-statistics.com/tests-normality-and-symmetry/statistical-tests-normality-symmetry/kolmogorov-smirnov-test/kolmogorov-distribution/\n",
    "\n",
    "But also this result depends in your choice of binning through, and thustheresultyou get by hand may not be exactly the same as the one the KS returns. Either way: this is how you would calculate the KS statistics by hand."
   ]
  },
  {
   "cell_type": "markdown",
   "metadata": {
    "ExecuteTime": {
     "end_time": "2017-10-05T16:58:33.858841",
     "start_time": "2017-10-05T16:58:33.850240"
    },
    "run_control": {
     "frozen": false,
     "read_only": false
    }
   },
   "source": [
    "Critical value\n",
    "![](https://raw.githubusercontent.com/fedhere/PUI2017_fb55/master/Lab4_fb55/ks2sample_table.png)"
   ]
  },
  {
   "cell_type": "markdown",
   "metadata": {},
   "source": [
    "Significance level\n",
    " \n",
    "$\\alpha$ $= 0.05$\n",
    "\n",
    "$c($$\\alpha) = 1.36$"
   ]
  },
  {
   "cell_type": "code",
   "execution_count": 18,
   "metadata": {
    "ExecuteTime": {
     "end_time": "2017-10-05T16:58:24.751556",
     "start_time": "2017-10-05T16:58:24.747653"
    },
    "run_control": {
     "frozen": false,
     "read_only": false
    }
   },
   "outputs": [
    {
     "name": "stdout",
     "output_type": "stream",
     "text": [
      "Ks_2sampResult(statistic=0.15439627321430716, pvalue=4.4658022586182943e-153) \n",
      "\n",
      "Null hypothesis is rejected\n"
     ]
    }
   ],
   "source": [
    "ks = scipy.stats.ks_2samp(df.ageM, df.ageF)\n",
    "print (ks,'\\n')\n",
    "       \n",
    "reject = 1.36*np.sqrt((len(df.ageM)+len(df.ageF))/(len(df.ageM)*len(df.ageF)))\n",
    "\n",
    "if ks[0] > reject:\n",
    "    print(\"Null hypothesis is rejected\")\n",
    "else:\n",
    "    print(\"Null hypothesis is NOT rejected\")"
   ]
  },
  {
   "cell_type": "markdown",
   "metadata": {
    "run_control": {
     "frozen": false,
     "read_only": false
    }
   },
   "source": [
    "# Now retest using a test for correlation. \n",
    "### 1 ride every of 200"
   ]
  },
  {
   "cell_type": "code",
   "execution_count": 19,
   "metadata": {
    "collapsed": true
   },
   "outputs": [],
   "source": [
    "# slicing sample\n",
    "ageM_sample = df.ageM[np.arange(0,len(df.ageM),200)]\n",
    "ageF_sample = df.ageF[np.arange(0,len(df.ageF),200)]"
   ]
  },
  {
   "cell_type": "code",
   "execution_count": 20,
   "metadata": {},
   "outputs": [
    {
     "name": "stdout",
     "output_type": "stream",
     "text": [
      "Ks_2sampResult(statistic=0.15439627321430716, pvalue=4.4658022586182943e-153) \n",
      "\n",
      "Null hypothesis is NOT rejected\n"
     ]
    }
   ],
   "source": [
    "ks = scipy.stats.ks_2samp(df.ageM, df.ageF)\n",
    "print (ks,'\\n')\n",
    "       \n",
    "reject = 1.36*np.sqrt((len(ageM_sample)+len(ageF_sample))/(len(ageM_sample)*len(ageF_sample)))\n",
    "\n",
    "if ks[0] > reject:\n",
    "    print(\"Null hypothesis is rejected\")\n",
    "else:\n",
    "    print(\"Null hypothesis is NOT rejected\")"
   ]
  },
  {
   "cell_type": "markdown",
   "metadata": {
    "run_control": {
     "frozen": false,
     "read_only": false
    }
   },
   "source": [
    "# Pearson's  test for correlation\n",
    "\n",
    "** notice that the Pearson's is a pairwise test: the samples need to be **\n",
    " a. the same size\n",
    " b. sorted! (how??)\n",
    "    \n",
    "http://docs.scipy.org/doc/scipy/reference/generated/scipy.stats.pearsonr.html#scipy.stats.pearsonr\n",
    "\n"
   ]
  },
  {
   "cell_type": "code",
   "execution_count": 21,
   "metadata": {
    "ExecuteTime": {
     "end_time": "2017-10-05T17:05:04.485128",
     "start_time": "2017-10-05T17:05:04.480928"
    },
    "run_control": {
     "frozen": false,
     "read_only": false
    },
    "scrolled": false
   },
   "outputs": [
    {
     "name": "stdout",
     "output_type": "stream",
     "text": [
      "F : 9451\n",
      "M : 33096\n"
     ]
    }
   ],
   "source": [
    "# check size\n",
    "print('F : {}\\nM : {}'.format(len(df.ageF), len(df.ageM)))"
   ]
  },
  {
   "cell_type": "code",
   "execution_count": 22,
   "metadata": {
    "collapsed": true
   },
   "outputs": [],
   "source": [
    "# Because the ageF has fewer data, thus size of ageF is chosen\n",
    "# arrange new data frame for ageM\n",
    "ageM = df['ageM'].copy()\n",
    "ageM.index = range(len(ageM))\n",
    "# creating number of len(ageF) sample for ageM based on ageM range\n",
    "sample = np.linspace(1,len(ageM)-1,len(df.ageF)).astype(int)\n",
    "ageM = ageM[sample]\n",
    "ageM.sort_values(inplace = True)\n",
    "#sort ageF\n",
    "ageF = df['ageF'].copy()\n",
    "ageF.sort_values(inplace = True)"
   ]
  },
  {
   "cell_type": "code",
   "execution_count": 23,
   "metadata": {
    "scrolled": true
   },
   "outputs": [
    {
     "name": "stdout",
     "output_type": "stream",
     "text": [
      "F : 9451\n",
      "M : 9451\n"
     ]
    }
   ],
   "source": [
    "# check size again\n",
    "print('F : {}\\nM : {}'.format(len(ageF), len(ageM)))"
   ]
  },
  {
   "cell_type": "code",
   "execution_count": 24,
   "metadata": {},
   "outputs": [
    {
     "name": "stdout",
     "output_type": "stream",
     "text": [
      "Result for R Pearson's test for correlation \n",
      "r pearson = 0.9786 \n",
      "p value = 0.0000\n",
      "\n",
      "Null hypothesis is rejected\n"
     ]
    }
   ],
   "source": [
    "# running r pearson correlation\n",
    "r = scipy.stats.pearsonr(ageM,ageF)\n",
    "print(\"Result for R Pearson's test for correlation \\nr pearson = {:.4f} \\np value = {:.4f}\\n\".format(r[0], r[1]))\n",
    "\n",
    "if r[1] < 0.05:\n",
    "    print(\"Null hypothesis is rejected\")\n",
    "else:\n",
    "    print(\"Null hypothesis is NOT rejected\")"
   ]
  },
  {
   "cell_type": "markdown",
   "metadata": {},
   "source": [
    "R pearson correlation is close to 1, therefore there is strong correlation between male age distribution and female age distribution. Moreover $p$<sub>$value$</sub>$ < \\alpha$, which means the result is statistically significant and H<sub>0</sub> is rejected.  "
   ]
  },
  {
   "cell_type": "markdown",
   "metadata": {
    "run_control": {
     "frozen": false,
     "read_only": false
    }
   },
   "source": [
    "# Spearman's  test for correlation\n",
    "\n",
    "http://docs.scipy.org/doc/scipy/reference/generated/scipy.stats.spearmanr.html#scipy.stats.spearmanr"
   ]
  },
  {
   "cell_type": "code",
   "execution_count": 25,
   "metadata": {
    "ExecuteTime": {
     "end_time": "2017-10-05T17:05:09.530148",
     "start_time": "2017-10-05T17:05:09.525214"
    },
    "run_control": {
     "frozen": false,
     "read_only": false
    }
   },
   "outputs": [
    {
     "name": "stdout",
     "output_type": "stream",
     "text": [
      "Result for Spearman's test for correlation \n",
      "Correlation = 0.9978 \n",
      "p value = 0.0000\n",
      "\n",
      "Null hypothesis is rejected\n"
     ]
    }
   ],
   "source": [
    "spearman = scipy.stats.spearmanr(ageM,ageF)\n",
    "print(\"Result for Spearman's test for correlation \\nCorrelation = {:.4f} \\np value = {:.4f}\\n\".format(spearman[0], spearman[1]))\n",
    "\n",
    "if spearman[1] < 0.05:\n",
    "    print(\"Null hypothesis is rejected\")\n",
    "else:\n",
    "    print(\"Null hypothesis is NOT rejected\")"
   ]
  },
  {
   "cell_type": "markdown",
   "metadata": {},
   "source": [
    "Spearman's correlation coefficient is close to 1, therefore there is strong correlation between male age distribution and female age distribution. Moreover result of $p$<sub>$value$</sub>$ < \\alpha$, which means the result is statistically significant and H<sub>0</sub> is rejected.  "
   ]
  },
  {
   "cell_type": "markdown",
   "metadata": {
    "run_control": {
     "frozen": false,
     "read_only": false
    }
   },
   "source": [
    "** please comment on the numbers that you get in the light of the scipy manual: what is rerutned? what does it mean??**"
   ]
  },
  {
   "cell_type": "code",
   "execution_count": 26,
   "metadata": {},
   "outputs": [
    {
     "name": "stdout",
     "output_type": "stream",
     "text": [
      "KS : Ks_2sampResult(statistic=0.15439627321430716, pvalue=4.4658022586182943e-153)\n",
      "R Pearson : (0.97859659585372694, 0.0)\n",
      "Spearman : SpearmanrResult(correlation=0.9977909862296962, pvalue=0.0)\n"
     ]
    }
   ],
   "source": [
    "print(\"KS : {}\\nR Pearson : {}\\nSpearman : {}\".format(ks,r,spearman))"
   ]
  },
  {
   "cell_type": "markdown",
   "metadata": {
    "collapsed": true,
    "run_control": {
     "frozen": false,
     "read_only": false
    }
   },
   "source": [
    "The number of on scipy test for correlation returned 2 index, the first one is the correlation coefficient for R pearson test and Spearman test while KS return KS statistics for two side test. The second index, is the p value of the statistics."
   ]
  },
  {
   "cell_type": "markdown",
   "metadata": {
    "run_control": {
     "frozen": false,
     "read_only": false
    }
   },
   "source": [
    "## Trip duration of bikers that ride during the day vs night\n",
    "\n",
    "**Null Hypothesis** : There is no statistical difference in bikers that ride during the day and the night\n",
    "\n",
    "> $H_0: Duration$<sub>$day$</sub> $= Duration$<sub>$night$</sub>\n",
    "\n",
    "> $H_1: Duration$<sub>$day$</sub> $\\neq Duration$<sub>$night$</sub>\n",
    "\n",
    "> $\\alpha = 0.05 $"
   ]
  },
  {
   "cell_type": "code",
   "execution_count": 27,
   "metadata": {},
   "outputs": [
    {
     "data": {
      "text/plain": [
       "Index(['tripduration', 'start station id', 'start station latitude',\n",
       "       'start station longitude', 'end station id', 'end station latitude',\n",
       "       'end station longitude', 'bikeid', 'birth year', 'gender', 'date',\n",
       "       'ageM', 'ageF'],\n",
       "      dtype='object')"
      ]
     },
     "execution_count": 27,
     "metadata": {},
     "output_type": "execute_result"
    }
   ],
   "source": [
    "# new data frame\n",
    "df2 = df.copy()\n",
    "df2.columns"
   ]
  },
  {
   "cell_type": "code",
   "execution_count": 28,
   "metadata": {},
   "outputs": [
    {
     "data": {
      "text/html": [
       "<div>\n",
       "<style>\n",
       "    .dataframe thead tr:only-child th {\n",
       "        text-align: right;\n",
       "    }\n",
       "\n",
       "    .dataframe thead th {\n",
       "        text-align: left;\n",
       "    }\n",
       "\n",
       "    .dataframe tbody tr th {\n",
       "        vertical-align: top;\n",
       "    }\n",
       "</style>\n",
       "<table border=\"1\" class=\"dataframe\">\n",
       "  <thead>\n",
       "    <tr style=\"text-align: right;\">\n",
       "      <th></th>\n",
       "      <th>tripduration</th>\n",
       "      <th>date</th>\n",
       "    </tr>\n",
       "  </thead>\n",
       "  <tbody>\n",
       "    <tr>\n",
       "      <th>1</th>\n",
       "      <td>439</td>\n",
       "      <td>2017-07-01 00:02:35</td>\n",
       "    </tr>\n",
       "    <tr>\n",
       "      <th>2</th>\n",
       "      <td>186</td>\n",
       "      <td>2017-07-01 00:04:33</td>\n",
       "    </tr>\n",
       "    <tr>\n",
       "      <th>3</th>\n",
       "      <td>442</td>\n",
       "      <td>2017-07-01 00:05:53</td>\n",
       "    </tr>\n",
       "  </tbody>\n",
       "</table>\n",
       "</div>"
      ],
      "text/plain": [
       "   tripduration                date\n",
       "1           439 2017-07-01 00:02:35\n",
       "2           186 2017-07-01 00:04:33\n",
       "3           442 2017-07-01 00:05:53"
      ]
     },
     "execution_count": 28,
     "metadata": {},
     "output_type": "execute_result"
    }
   ],
   "source": [
    "# drop unnecessary columns\n",
    "df2 = df2.drop(['start station id', 'start station latitude',\n",
    "       'start station longitude', 'end station id', 'end station latitude',\n",
    "       'end station longitude', 'bikeid', 'birth year', 'gender', 'ageM', 'ageF'], axis=1)\n",
    "df2.head(3)"
   ]
  },
  {
   "cell_type": "code",
   "execution_count": 29,
   "metadata": {
    "scrolled": true
   },
   "outputs": [
    {
     "data": {
      "text/html": [
       "<div>\n",
       "<style>\n",
       "    .dataframe thead tr:only-child th {\n",
       "        text-align: right;\n",
       "    }\n",
       "\n",
       "    .dataframe thead th {\n",
       "        text-align: left;\n",
       "    }\n",
       "\n",
       "    .dataframe tbody tr th {\n",
       "        vertical-align: top;\n",
       "    }\n",
       "</style>\n",
       "<table border=\"1\" class=\"dataframe\">\n",
       "  <thead>\n",
       "    <tr style=\"text-align: right;\">\n",
       "      <th></th>\n",
       "      <th>tripduration</th>\n",
       "      <th>date</th>\n",
       "      <th>hour</th>\n",
       "      <th>DN</th>\n",
       "    </tr>\n",
       "  </thead>\n",
       "  <tbody>\n",
       "    <tr>\n",
       "      <th>1</th>\n",
       "      <td>439</td>\n",
       "      <td>2017-07-01 00:02:35</td>\n",
       "      <td>0</td>\n",
       "      <td>N</td>\n",
       "    </tr>\n",
       "    <tr>\n",
       "      <th>2</th>\n",
       "      <td>186</td>\n",
       "      <td>2017-07-01 00:04:33</td>\n",
       "      <td>0</td>\n",
       "      <td>N</td>\n",
       "    </tr>\n",
       "    <tr>\n",
       "      <th>3</th>\n",
       "      <td>442</td>\n",
       "      <td>2017-07-01 00:05:53</td>\n",
       "      <td>0</td>\n",
       "      <td>N</td>\n",
       "    </tr>\n",
       "  </tbody>\n",
       "</table>\n",
       "</div>"
      ],
      "text/plain": [
       "   tripduration                date  hour DN\n",
       "1           439 2017-07-01 00:02:35     0  N\n",
       "2           186 2017-07-01 00:04:33     0  N\n",
       "3           442 2017-07-01 00:05:53     0  N"
      ]
     },
     "execution_count": 29,
     "metadata": {},
     "output_type": "execute_result"
    }
   ],
   "source": [
    "# convert to datetime format\n",
    "df2[\"date\"] = pd.to_datetime(df2[\"date\"],format=\"%m/%d/%Y %H:%M:%S\")\n",
    "df2[\"hour\"] = df2.date.dt.hour\n",
    "# create new clumn for day or night\n",
    "def daynight(hour):\n",
    "    if (hour >= 6 and hour < 18):\n",
    "        return \"D\"\n",
    "    else:\n",
    "        return \"N\"\n",
    "df2[\"DN\"] = df2[\"hour\"].apply(daynight)\n",
    "df2.head(3)"
   ]
  },
  {
   "cell_type": "code",
   "execution_count": 30,
   "metadata": {},
   "outputs": [
    {
     "data": {
      "text/html": [
       "<div>\n",
       "<style>\n",
       "    .dataframe thead tr:only-child th {\n",
       "        text-align: right;\n",
       "    }\n",
       "\n",
       "    .dataframe thead th {\n",
       "        text-align: left;\n",
       "    }\n",
       "\n",
       "    .dataframe tbody tr th {\n",
       "        vertical-align: top;\n",
       "    }\n",
       "</style>\n",
       "<table border=\"1\" class=\"dataframe\">\n",
       "  <thead>\n",
       "    <tr style=\"text-align: right;\">\n",
       "      <th></th>\n",
       "      <th>tripduration</th>\n",
       "      <th>date</th>\n",
       "      <th>hour</th>\n",
       "      <th>DN</th>\n",
       "      <th>day</th>\n",
       "      <th>night</th>\n",
       "    </tr>\n",
       "  </thead>\n",
       "  <tbody>\n",
       "    <tr>\n",
       "      <th>1</th>\n",
       "      <td>439</td>\n",
       "      <td>2017-07-01 00:02:35</td>\n",
       "      <td>0</td>\n",
       "      <td>N</td>\n",
       "      <td>NaN</td>\n",
       "      <td>N</td>\n",
       "    </tr>\n",
       "    <tr>\n",
       "      <th>2</th>\n",
       "      <td>186</td>\n",
       "      <td>2017-07-01 00:04:33</td>\n",
       "      <td>0</td>\n",
       "      <td>N</td>\n",
       "      <td>NaN</td>\n",
       "      <td>N</td>\n",
       "    </tr>\n",
       "    <tr>\n",
       "      <th>3</th>\n",
       "      <td>442</td>\n",
       "      <td>2017-07-01 00:05:53</td>\n",
       "      <td>0</td>\n",
       "      <td>N</td>\n",
       "      <td>NaN</td>\n",
       "      <td>N</td>\n",
       "    </tr>\n",
       "  </tbody>\n",
       "</table>\n",
       "</div>"
      ],
      "text/plain": [
       "   tripduration                date  hour DN  day night\n",
       "1           439 2017-07-01 00:02:35     0  N  NaN     N\n",
       "2           186 2017-07-01 00:04:33     0  N  NaN     N\n",
       "3           442 2017-07-01 00:05:53     0  N  NaN     N"
      ]
     },
     "execution_count": 30,
     "metadata": {},
     "output_type": "execute_result"
    }
   ],
   "source": [
    "df2['day'] = df2[\"DN\"][(df2[\"DN\"] == \"D\")]\n",
    "df2['night'] = df2[\"DN\"][(df2[\"DN\"] == \"N\")]\n",
    "df2.head(3)"
   ]
  },
  {
   "cell_type": "code",
   "execution_count": 31,
   "metadata": {},
   "outputs": [
    {
     "data": {
      "text/plain": [
       "count     42957.000000\n",
       "mean        583.679284\n",
       "std        4343.365905\n",
       "min          61.000000\n",
       "25%         235.000000\n",
       "50%         347.000000\n",
       "75%         579.000000\n",
       "max      802101.000000\n",
       "Name: tripduration, dtype: float64"
      ]
     },
     "execution_count": 31,
     "metadata": {},
     "output_type": "execute_result"
    }
   ],
   "source": [
    "df2['tripduration'].describe()"
   ]
  },
  {
   "cell_type": "code",
   "execution_count": 32,
   "metadata": {},
   "outputs": [
    {
     "data": {
      "text/html": [
       "<div>\n",
       "<style>\n",
       "    .dataframe thead tr:only-child th {\n",
       "        text-align: right;\n",
       "    }\n",
       "\n",
       "    .dataframe thead th {\n",
       "        text-align: left;\n",
       "    }\n",
       "\n",
       "    .dataframe tbody tr th {\n",
       "        vertical-align: top;\n",
       "    }\n",
       "</style>\n",
       "<table border=\"1\" class=\"dataframe\">\n",
       "  <thead>\n",
       "    <tr style=\"text-align: right;\">\n",
       "      <th></th>\n",
       "      <th>tripduration</th>\n",
       "      <th>date</th>\n",
       "      <th>hour</th>\n",
       "      <th>DN</th>\n",
       "      <th>day</th>\n",
       "      <th>night</th>\n",
       "      <th>tripDay</th>\n",
       "      <th>tripNight</th>\n",
       "    </tr>\n",
       "  </thead>\n",
       "  <tbody>\n",
       "    <tr>\n",
       "      <th>1</th>\n",
       "      <td>439</td>\n",
       "      <td>2017-07-01 00:02:35</td>\n",
       "      <td>0</td>\n",
       "      <td>N</td>\n",
       "      <td>NaN</td>\n",
       "      <td>N</td>\n",
       "      <td>NaN</td>\n",
       "      <td>439.0</td>\n",
       "    </tr>\n",
       "    <tr>\n",
       "      <th>2</th>\n",
       "      <td>186</td>\n",
       "      <td>2017-07-01 00:04:33</td>\n",
       "      <td>0</td>\n",
       "      <td>N</td>\n",
       "      <td>NaN</td>\n",
       "      <td>N</td>\n",
       "      <td>NaN</td>\n",
       "      <td>186.0</td>\n",
       "    </tr>\n",
       "    <tr>\n",
       "      <th>3</th>\n",
       "      <td>442</td>\n",
       "      <td>2017-07-01 00:05:53</td>\n",
       "      <td>0</td>\n",
       "      <td>N</td>\n",
       "      <td>NaN</td>\n",
       "      <td>N</td>\n",
       "      <td>NaN</td>\n",
       "      <td>442.0</td>\n",
       "    </tr>\n",
       "    <tr>\n",
       "      <th>4</th>\n",
       "      <td>170</td>\n",
       "      <td>2017-07-01 00:07:54</td>\n",
       "      <td>0</td>\n",
       "      <td>N</td>\n",
       "      <td>NaN</td>\n",
       "      <td>N</td>\n",
       "      <td>NaN</td>\n",
       "      <td>170.0</td>\n",
       "    </tr>\n",
       "    <tr>\n",
       "      <th>5</th>\n",
       "      <td>189</td>\n",
       "      <td>2017-07-01 00:08:06</td>\n",
       "      <td>0</td>\n",
       "      <td>N</td>\n",
       "      <td>NaN</td>\n",
       "      <td>N</td>\n",
       "      <td>NaN</td>\n",
       "      <td>189.0</td>\n",
       "    </tr>\n",
       "  </tbody>\n",
       "</table>\n",
       "</div>"
      ],
      "text/plain": [
       "   tripduration                date  hour DN  day night  tripDay  tripNight\n",
       "1           439 2017-07-01 00:02:35     0  N  NaN     N      NaN      439.0\n",
       "2           186 2017-07-01 00:04:33     0  N  NaN     N      NaN      186.0\n",
       "3           442 2017-07-01 00:05:53     0  N  NaN     N      NaN      442.0\n",
       "4           170 2017-07-01 00:07:54     0  N  NaN     N      NaN      170.0\n",
       "5           189 2017-07-01 00:08:06     0  N  NaN     N      NaN      189.0"
      ]
     },
     "execution_count": 32,
     "metadata": {},
     "output_type": "execute_result"
    }
   ],
   "source": [
    "# get trip\n",
    "df2['tripDay'] = df2['tripduration'][(df2['DN'] == \"D\")]\n",
    "df2['tripNight'] = df2['tripduration'][(df2['DN'] == \"N\")]\n",
    "df2.head()"
   ]
  },
  {
   "cell_type": "code",
   "execution_count": 33,
   "metadata": {
    "collapsed": true
   },
   "outputs": [],
   "source": [
    "# dropping NaN values\n",
    "df2['tripDay'].dropna(inplace= True)\n",
    "df2['tripNight'].dropna(inplace= True)"
   ]
  },
  {
   "cell_type": "code",
   "execution_count": 34,
   "metadata": {},
   "outputs": [
    {
     "data": {
      "text/plain": [
       "<matplotlib.text.Text at 0x1197dfc50>"
      ]
     },
     "execution_count": 34,
     "metadata": {},
     "output_type": "execute_result"
    },
    {
     "data": {
      "image/png": "[encoded data removed]",
      "text/plain": [
       "<matplotlib.figure.Figure at 0x118c9b5c0>"
      ]
     },
     "metadata": {},
     "output_type": "display_data"
    },
    {
     "data": {
      "image/png": "[encoded data removed]",
      "text/plain": [
       "<matplotlib.figure.Figure at 0x1197269b0>"
      ]
     },
     "metadata": {},
     "output_type": "display_data"
    }
   ],
   "source": [
    "bins = np.arange(60, 1600, 40)\n",
    "axD = df2.tripDay.groupby(pd.cut(df2.tripDay, bins)).agg([np.count_nonzero]).plot(kind='bar', \n",
    "                                                                legend=False, figsize=(20,7), color='m')\n",
    "axD.set_title(\"Day trip\", fontsize=20)\n",
    "axN = df2.tripNight.groupby(pd.cut(df2.tripNight, bins)).agg([np.count_nonzero]).plot(kind='bar',\n",
    "                                                                legend=False, figsize=(20,7), color='c')\n",
    "axN.set_title(\"Night trip\", fontsize=20)"
   ]
  },
  {
   "cell_type": "markdown",
   "metadata": {
    "collapsed": true
   },
   "source": [
    "**Figure 3: histogrammed distribution of trip duration by day/night**"
   ]
  },
  {
   "cell_type": "code",
   "execution_count": 35,
   "metadata": {},
   "outputs": [
    {
     "name": "stdout",
     "output_type": "stream",
     "text": [
      "              count_nonzero\n",
      "tripDay                    \n",
      "(60, 100]          0.000163\n",
      "(100, 140]         0.007170\n",
      "(140, 180]         0.018629\n",
      "(180, 220]         0.027231\n",
      "(220, 260]         0.030387\n",
      "(260, 300]         0.023735\n",
      "(300, 340]         0.021060\n",
      "(340, 380]         0.014237\n",
      "(380, 420]         0.007054\n",
      "(420, 460]         0.002555\n",
      "(460, 500]         0.003142\n",
      "(500, 540]         0.000888\n",
      "(540, 580]         0.001457\n",
      "(580, 620]         0.003908\n",
      "(620, 660]         0.001269\n",
      "(660, 700]         0.003043\n",
      "(700, 740]         0.004174\n",
      "(740, 780]         0.006027\n",
      "(780, 820]         0.006330\n",
      "(820, 860]         0.009099\n",
      "(860, 900]         0.009651\n",
      "(900, 940]         0.009369\n",
      "(940, 980]         0.009686\n",
      "(980, 1020]        0.008922\n",
      "(1020, 1060]       0.009582\n",
      "(1060, 1100]       0.006957\n",
      "(1100, 1140]       0.004957\n",
      "(1140, 1180]       0.003989\n",
      "(1180, 1220]       0.003505\n",
      "(1220, 1260]       0.001558\n",
      "(1260, 1300]       0.000644\n",
      "(1300, 1340]       0.000536\n",
      "(1340, 1380]       0.000261\n",
      "(1380, 1420]       0.000842\n",
      "(1420, 1460]       0.000103\n",
      "(1460, 1500]       0.000092\n",
      "(1500, 1540]       0.000487\n",
      "(1540, 1580]       0.000000\n"
     ]
    },
    {
     "name": "stderr",
     "output_type": "stream",
     "text": [
      "/Applications/anaconda/lib/python3.6/site-packages/ipykernel_launcher.py:9: RuntimeWarning: invalid value encountered in sqrt\n",
      "  if __name__ == '__main__':\n"
     ]
    },
    {
     "data": {
      "text/plain": [
       "<matplotlib.legend.Legend at 0x11a5f26d8>"
      ]
     },
     "execution_count": 35,
     "metadata": {},
     "output_type": "execute_result"
    },
    {
     "data": {
      "image/png": "[encoded data removed]",
      "text/plain": [
       "<matplotlib.figure.Figure at 0x119842160>"
      ]
     },
     "metadata": {},
     "output_type": "display_data"
    }
   ],
   "source": [
    "csD=df2.tripDay.groupby(pd.cut(df2.tripDay, bins)).agg([count_nonzero]).cumsum()\n",
    "\n",
    "csN=df2.tripNight.groupby(pd.cut(df2.tripNight, bins)).agg([count_nonzero]).cumsum()\n",
    "\n",
    "print (np.abs(csD / csD.max()-csN / csN.max()))\n",
    "\n",
    "pl.plot(bins[:-1] + 5, csD / csD.max(), label = \"Day\")\n",
    "pl.plot(bins[:-1] + 5, csN / csN.max(), label = \"Night\")\n",
    "pl.plot(bins[:-1] + 5, np.sqrt(csN / csN.max() - csD / csD.max())**2, 'k-',\n",
    "        label = \"difference\")\n",
    "pl.xlabel(\"Trip Duration\")\n",
    "pl.ylabel(\"Normalized Cumulative Number\")\n",
    "pl.grid()\n",
    "pl.legend()"
   ]
  },
  {
   "cell_type": "markdown",
   "metadata": {},
   "source": [
    "**Figure 4. the cumulative distribution of CitiBike riders' trip duration by day/night**"
   ]
  },
  {
   "cell_type": "markdown",
   "metadata": {},
   "source": [
    "## KS tests to compare 2 samples"
   ]
  },
  {
   "cell_type": "code",
   "execution_count": 36,
   "metadata": {},
   "outputs": [
    {
     "name": "stdout",
     "output_type": "stream",
     "text": [
      "KS test correlation result\n",
      " Ks_2sampResult(statistic=0.15439627321430716, pvalue=4.4658022586182943e-153) \n",
      "\n",
      "Null hypothesis is rejected\n"
     ]
    }
   ],
   "source": [
    "ks = scipy.stats.ks_2samp(df.ageM, df.ageF)\n",
    "print ('KS test correlation result\\n',ks,'\\n')\n",
    "       \n",
    "reject = 1.36*np.sqrt((len(df.ageM)+len(df.ageF))/(len(df.ageM)*len(df.ageF)))\n",
    "\n",
    "if ks[0] > reject:\n",
    "    print(\"Null hypothesis is rejected\")\n",
    "else:\n",
    "    print(\"Null hypothesis is NOT rejected\")"
   ]
  },
  {
   "cell_type": "markdown",
   "metadata": {},
   "source": [
    "## Pearson's  test for correlation"
   ]
  },
  {
   "cell_type": "code",
   "execution_count": 37,
   "metadata": {
    "ExecuteTime": {
     "end_time": "2017-10-05T17:05:04.485128",
     "start_time": "2017-10-05T17:05:04.480928"
    },
    "run_control": {
     "frozen": false,
     "read_only": false
    },
    "scrolled": false
   },
   "outputs": [
    {
     "name": "stdout",
     "output_type": "stream",
     "text": [
      "Day : 28765\n",
      "Night : 14192\n"
     ]
    }
   ],
   "source": [
    "# check size\n",
    "print('Day : {}\\nNight : {}'.format(len(df2.tripDay), len(df2.tripNight)))"
   ]
  },
  {
   "cell_type": "code",
   "execution_count": 38,
   "metadata": {},
   "outputs": [],
   "source": [
    "# Because the tripNight has fewer data, thus size of tripNight is chosen\n",
    "# arrange new data frame for tripDay\n",
    "tripDay = df2['tripDay'].copy()\n",
    "tripDay.index = range(len(tripDay))\n",
    "# creating number of len(ageF) sample for ageM based on ageM range\n",
    "sample2 = np.linspace(1,len(tripDay)-1,len(df2.tripNight)).astype(int)\n",
    "tripDay = tripDay[sample2]\n",
    "tripDay.sort_values(inplace = True)\n",
    "#sort ageF\n",
    "tripNight = df2['tripNight'].copy()\n",
    "tripNight.sort_values(inplace = True)"
   ]
  },
  {
   "cell_type": "code",
   "execution_count": 39,
   "metadata": {
    "scrolled": true
   },
   "outputs": [
    {
     "name": "stdout",
     "output_type": "stream",
     "text": [
      "Day : 14192\n",
      "Night : 14192\n"
     ]
    }
   ],
   "source": [
    "# check size again\n",
    "print('Day : {}\\nNight : {}'.format(len(tripDay), len(tripNight)))"
   ]
  },
  {
   "cell_type": "code",
   "execution_count": 40,
   "metadata": {},
   "outputs": [
    {
     "name": "stdout",
     "output_type": "stream",
     "text": [
      "Result for R Pearson's test for correlation \n",
      "r pearson = 0.7215 \n",
      "p value = 0.0000\n",
      "\n",
      "Null hypothesis is rejected\n"
     ]
    }
   ],
   "source": [
    "# running r pearson correlation\n",
    "r = scipy.stats.pearsonr(tripDay,tripNight)\n",
    "print(\"Result for R Pearson's test for correlation \\nr pearson = {:.4f} \\np value = {:.4f}\\n\".format(r[0], r[1]))\n",
    "\n",
    "if r[1] < 0.05:\n",
    "    print(\"Null hypothesis is rejected\")\n",
    "else:\n",
    "    print(\"Null hypothesis is NOT rejected\")"
   ]
  },
  {
   "cell_type": "markdown",
   "metadata": {},
   "source": [
    "R pearson correlation is close to 1, therefore there is strong correlation between trip day distribution and trip night distribution. Moreover $p$<sub>$value$</sub>$ < \\alpha$, which means the result is statistically significant and H<sub>0</sub> is rejected, which is there is difference between day trip and night trip.  "
   ]
  },
  {
   "cell_type": "markdown",
   "metadata": {
    "run_control": {
     "frozen": false,
     "read_only": false
    }
   },
   "source": [
    "# Spearman's  test for correlation\n",
    "\n",
    "http://docs.scipy.org/doc/scipy/reference/generated/scipy.stats.spearmanr.html#scipy.stats.spearmanr"
   ]
  },
  {
   "cell_type": "code",
   "execution_count": 41,
   "metadata": {
    "ExecuteTime": {
     "end_time": "2017-10-05T17:05:09.530148",
     "start_time": "2017-10-05T17:05:09.525214"
    },
    "run_control": {
     "frozen": false,
     "read_only": false
    }
   },
   "outputs": [
    {
     "name": "stdout",
     "output_type": "stream",
     "text": [
      "Result for Spearman's test for correlation \n",
      "Correlation = 1.0000 \n",
      "p value = 0.0000\n",
      "\n",
      "Null hypothesis is rejected\n"
     ]
    }
   ],
   "source": [
    "spearman = scipy.stats.spearmanr(tripDay,tripNight)\n",
    "print(\"Result for Spearman's test for correlation \\nCorrelation = {:.4f} \\np value = {:.4f}\\n\".format(spearman[0], spearman[1]))\n",
    "\n",
    "if spearman[1] < 0.05:\n",
    "    print(\"Null hypothesis is rejected\")\n",
    "else:\n",
    "    print(\"Null hypothesis is NOT rejected\")"
   ]
  },
  {
   "cell_type": "markdown",
   "metadata": {},
   "source": [
    "Spearman's correlation coefficient is 1, therefore there is strong correlation between trip day distribution and trip night distribution. Moreover $p$<sub>$value$</sub>$ < \\alpha$, which means the result is statistically significant and H<sub>0</sub> is rejected, which is there is difference between day trip and night trip."
   ]
  },
  {
   "cell_type": "markdown",
   "metadata": {
    "run_control": {
     "frozen": false,
     "read_only": false
    }
   },
   "source": [
    "** please comment on the numbers that you get in the light of the scipy manual: what is rerutned? what does it mean??**"
   ]
  },
  {
   "cell_type": "code",
   "execution_count": 42,
   "metadata": {},
   "outputs": [
    {
     "name": "stdout",
     "output_type": "stream",
     "text": [
      "KS : Ks_2sampResult(statistic=0.15439627321430716, pvalue=4.4658022586182943e-153)\n",
      "R Pearson : (0.72145555546248841, 0.0)\n",
      "Spearman : SpearmanrResult(correlation=0.99999705376950521, pvalue=0.0)\n"
     ]
    }
   ],
   "source": [
    "print(\"KS : {}\\nR Pearson : {}\\nSpearman : {}\".format(ks,r,spearman))"
   ]
  },
  {
   "cell_type": "markdown",
   "metadata": {
    "collapsed": true,
    "run_control": {
     "frozen": false,
     "read_only": false
    }
   },
   "source": [
    "The number of on scipy test for correlation returned 2 index, the first one is the correlation coefficient for R pearson test and Spearman test while KS return KS statistics for two side test. The second index, is the p value of the statistics."
   ]
  }
 ],
 "metadata": {
  "anaconda-cloud": {},
  "kernelspec": {
   "display_name": "Python 3",
   "language": "python",
   "name": "python3"
  },
  "language_info": {
   "codemirror_mode": {
    "name": "ipython",
    "version": 3
   },
   "file_extension": ".py",
   "mimetype": "text/x-python",
   "name": "python",
   "nbconvert_exporter": "python",
   "pygments_lexer": "ipython3",
   "version": "3.6.1"
  },
  "latex_envs": {
   "LaTeX_envs_menu_present": true,
   "bibliofile": "biblio.bib",
   "cite_by": "apalike",
   "current_citInitial": 1,
   "eqLabelWithNumbers": true,
   "eqNumInitial": 1,
   "hotkeys": {
    "equation": "Ctrl-E",
    "itemize": "Ctrl-I"
   },
   "labels_anchors": false,
   "latex_user_defs": false,
   "report_style_numbering": false,
   "user_envs_cfg": false
  },
  "toc": {
   "colors": {
    "hover_highlight": "#DAA520",
    "running_highlight": "#FF0000",
    "selected_highlight": "#FFD700"
   },
   "moveMenuLeft": true,
   "nav_menu": {
    "height": "135px",
    "width": "251px"
   },
   "navigate_menu": true,
   "number_sections": true,
   "sideBar": true,
   "threshold": 4,
   "toc_cell": false,
   "toc_section_display": "block",
   "toc_window_display": false
  }
 },
 "nbformat": 4,
 "nbformat_minor": 1
}
