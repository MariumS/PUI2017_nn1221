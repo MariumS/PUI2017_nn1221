{
 "cells": [
  {
   "cell_type": "markdown",
   "metadata": {},
   "source": [
    "## Homework 5 Assignment 1\n",
    "### Nina Nurrahmawati\n",
    "\n",
    "Generate N samples from a distribution of your choice, but not a Gaussian with a chosen mean μ and standard deviation σ: N(μ, σ) and calculate the mean of each sample (all samples should have the same size n).\n",
    "\n",
    "Assess the validity of the Z-test: If the samples are drawn from the distribution you are testing the z-values you calculate should follow a N(0,1) distribution (a Gaussian with mean 0 and standard deviation 1). Show that the distribution of z -statistics (find the formula in a statistics book or in last week’s slides) that you calculated (one for each sample) is indeed consistent with N(0,1).\n",
    "\n",
    "Grading:\n",
    "\n",
    "\n",
    "- plot your original distribution\n",
    "- plot at least one of the samples\n",
    "- plot the distribution of z statistics\n",
    "- fit the z-statistics with a gaussian model and assess the goodness of fit with a simple test (AD or KS).\n",
    "- find the best fit values for the model parameters (mean and standard deviation) by minimizing the model chi square.\n",
    "- plots need have caption, axis labels, etx and comment your figures and test results appropriately (to demonstrate your understanding)."
   ]
  },
  {
   "cell_type": "code",
   "execution_count": 1,
   "metadata": {},
   "outputs": [
    {
     "name": "stdout",
     "output_type": "stream",
     "text": [
      "Populating the interactive namespace from numpy and matplotlib\n"
     ]
    }
   ],
   "source": [
    "# import all necessary libraries\n",
    "from __future__ import print_function\n",
    "\n",
    "import pandas as pd\n",
    "import numpy as np\n",
    "import pylab as pl\n",
    "import seaborn  \n",
    "%pylab inline\n",
    "import scipy as sp\n",
    "from scipy import stats\n",
    "from scipy.stats import norm"
   ]
  },
  {
   "cell_type": "code",
   "execution_count": 2,
   "metadata": {
    "collapsed": true
   },
   "outputs": [],
   "source": [
    "# generate seeds\n",
    "np.random.seed(777)"
   ]
  },
  {
   "cell_type": "code",
   "execution_count": 3,
   "metadata": {},
   "outputs": [],
   "source": [
    "# decice population\n",
    "Nsamples = 100\n",
    "nit = 1000\n",
    "mymean = 500.\n",
    "mystddev = np.sqrt(mymean)\n",
    "myDmeans = np.zeros(nit)"
   ]
  },
  {
   "cell_type": "markdown",
   "metadata": {},
   "source": [
    "plot your original distribution"
   ]
  },
  {
   "cell_type": "code",
   "execution_count": 4,
   "metadata": {
    "scrolled": true
   },
   "outputs": [
    {
     "data": {
      "text/plain": [
       "<matplotlib.text.Text at 0x11a27cda0>"
      ]
     },
     "execution_count": 4,
     "metadata": {},
     "output_type": "execute_result"
    },
    {
     "data": {
      "image/png": "[encoded data removed]",
      "text/plain": [
       "<matplotlib.figure.Figure at 0x116f49c88>"
      ]
     },
     "metadata": {},
     "output_type": "display_data"
    }
   ],
   "source": [
    "# histogram original distribution\n",
    "pl.hist(np.random.poisson(mymean, size=nit), color='y', alpha=0.5, bins=30)\n",
    "pl.title('Original Distribution', fontsize=18)\n",
    "pl.xlabel('Means', fontsize = 14)\n",
    "pl.ylabel('N', fontsize = 14)"
   ]
  },
  {
   "cell_type": "markdown",
   "metadata": {},
   "source": [
    "#### Figure 1. Plot of original distributions"
   ]
  },
  {
   "cell_type": "markdown",
   "metadata": {},
   "source": [
    "plot at least one of the samples"
   ]
  },
  {
   "cell_type": "code",
   "execution_count": 5,
   "metadata": {
    "scrolled": false
   },
   "outputs": [
    {
     "data": {
      "text/plain": [
       "<matplotlib.text.Text at 0x11a485d30>"
      ]
     },
     "execution_count": 5,
     "metadata": {},
     "output_type": "execute_result"
    },
    {
     "data": {
      "image/png": "[encoded data removed]",
      "text/plain": [
       "<matplotlib.figure.Figure at 0x10e1c97b8>"
      ]
     },
     "metadata": {},
     "output_type": "display_data"
    }
   ],
   "source": [
    "# histogram poisson distribution\n",
    "for i in range(nit):\n",
    "    mydistrib = sp.stats.poisson.rvs(mu=mymean, size=Nsamples)\n",
    "    myDmeans[i] = mydistrib.mean()\n",
    "mypoisson = myDmeans\n",
    "pl.hist(mypoisson, color='m', alpha=0.5, bins=30)\n",
    "pl.title('Poisson Distribution', fontsize=18)\n",
    "pl.xlabel('Sample Means', fontsize = 14)\n",
    "pl.ylabel('N', fontsize = 14)"
   ]
  },
  {
   "cell_type": "markdown",
   "metadata": {},
   "source": [
    "#### Figure 2. Plot of poisson distributions"
   ]
  },
  {
   "cell_type": "markdown",
   "metadata": {},
   "source": [
    "plot the distribution of z statistics"
   ]
  },
  {
   "cell_type": "code",
   "execution_count": 6,
   "metadata": {},
   "outputs": [],
   "source": [
    "# z statistics\n",
    "zs = (mymean - myDmeans) * np.sqrt(Nsamples) / mystddev"
   ]
  },
  {
   "cell_type": "code",
   "execution_count": 7,
   "metadata": {
    "scrolled": true
   },
   "outputs": [
    {
     "data": {
      "text/plain": [
       "<matplotlib.text.Text at 0x11a662240>"
      ]
     },
     "execution_count": 7,
     "metadata": {},
     "output_type": "execute_result"
    },
    {
     "data": {
      "image/png": "[encoded data removed]",
      "text/plain": [
       "<matplotlib.figure.Figure at 0x11a3a6390>"
      ]
     },
     "metadata": {},
     "output_type": "display_data"
    }
   ],
   "source": [
    "# plot\n",
    "pl.hist(zs, color='k', alpha=0.5, bins=30)\n",
    "pl.title('Z Statistics', fontsize=18)\n",
    "pl.xlabel('Z statistics', fontsize = 14)\n",
    "pl.ylabel('N', fontsize = 14)"
   ]
  },
  {
   "cell_type": "markdown",
   "metadata": {},
   "source": [
    "#### Figure 3. Plot of Z statistics distributions"
   ]
  },
  {
   "cell_type": "markdown",
   "metadata": {},
   "source": [
    "fit the z-statistics with a gaussian model and assess the goodness of fit with a simple test (AD or KS)."
   ]
  },
  {
   "cell_type": "code",
   "execution_count": 8,
   "metadata": {
    "scrolled": true
   },
   "outputs": [
    {
     "data": {
      "image/png": "[encoded data removed]",
      "text/plain": [
       "<matplotlib.figure.Figure at 0x11a76f780>"
      ]
     },
     "metadata": {},
     "output_type": "display_data"
    }
   ],
   "source": [
    "mu, std = norm.fit(zs)\n",
    "xmin, xmax = pl.xlim()\n",
    "x = np.linspace(min(zs), max(zs), 100)\n",
    "p = norm.pdf(x, mu, std)\n",
    "\n",
    "pl.hist(zs, color='c', bins=30, alpha=0.5, normed=True)\n",
    "pl.plot(x, p, 'k', linewidth=2)\n",
    "pl.xlabel('Z statistics', fontsize = 15)\n",
    "pl.ylabel('N', fontsize = 15)\n",
    "pl.title('Gaussian curve fit for Z Statistics', fontsize = 18)\n",
    "    \n",
    "plt.show()"
   ]
  },
  {
   "cell_type": "markdown",
   "metadata": {},
   "source": [
    "#### Figure 4. Plot of Z statistics distributions fitted with Gaussian curve"
   ]
  },
  {
   "cell_type": "markdown",
   "metadata": {
    "collapsed": true
   },
   "source": [
    "$H_0$ : Distribution of Z statistics = Normal Distribution\n",
    "\n",
    "$\\alpha$ : 0.05\n",
    "\n",
    "$$Critical$$$$value$$\n",
    "![](https://raw.githubusercontent.com/fedhere/PUI2017_fb55/master/Lab4_fb55/ks2sample_table.png)"
   ]
  },
  {
   "cell_type": "code",
   "execution_count": 9,
   "metadata": {},
   "outputs": [
    {
     "name": "stdout",
     "output_type": "stream",
     "text": [
      "KS Statistics : 0.0312898630615247 \n",
      "P Value : 0.2764242216488886\n"
     ]
    }
   ],
   "source": [
    "# KS test\n",
    "KStest = sp.stats.kstest(zs, 'norm')\n",
    "print (\"KS Statistics : {} \\nP Value : {}\".format(KStest[0],KStest[1]))"
   ]
  },
  {
   "cell_type": "code",
   "execution_count": 10,
   "metadata": {},
   "outputs": [
    {
     "name": "stdout",
     "output_type": "stream",
     "text": [
      "Null hypothesis is NOT rejected. \n",
      "Distribution of Z statistic is equal to Normal Distribution.\n"
     ]
    }
   ],
   "source": [
    "if KStest[1] < 0.05:\n",
    "    print(\"Null hypothesis is rejected. \\nDistribution of Z statistic is not equal to Normal Distribution.\")\n",
    "else:\n",
    "    print(\"Null hypothesis is NOT rejected. \\nDistribution of Z statistic is equal to Normal Distribution.\")"
   ]
  },
  {
   "cell_type": "code",
   "execution_count": null,
   "metadata": {
    "collapsed": true
   },
   "outputs": [],
   "source": []
  }
 ],
 "metadata": {
  "kernelspec": {
   "display_name": "Python 3",
   "language": "python",
   "name": "python3"
  },
  "language_info": {
   "codemirror_mode": {
    "name": "ipython",
    "version": 3
   },
   "file_extension": ".py",
   "mimetype": "text/x-python",
   "name": "python",
   "nbconvert_exporter": "python",
   "pygments_lexer": "ipython3",
   "version": "3.6.1"
  }
 },
 "nbformat": 4,
 "nbformat_minor": 2
}
