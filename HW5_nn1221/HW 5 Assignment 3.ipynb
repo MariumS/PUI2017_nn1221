{
 "cells": [
  {
   "cell_type": "markdown",
   "metadata": {
    "toc": "true"
   },
   "source": [
    "# Table of Contents\n",
    " <p><div class=\"lev1 toc-item\"><a href=\"#DATA:\" data-toc-modified-id=\"DATA:-1\"><span class=\"toc-item-num\">1&nbsp;&nbsp;</span>DATA:</a></div><div class=\"lev1 toc-item\"><a href=\"#exploration\" data-toc-modified-id=\"exploration-2\"><span class=\"toc-item-num\">2&nbsp;&nbsp;</span>exploration</a></div><div class=\"lev2 toc-item\"><a href=\"#plot-mass-shooting-vs-gdp-in-absolute-numbers,-and-per-person.-Show-the-errorbars-(y-errors)\" data-toc-modified-id=\"plot-mass-shooting-vs-gdp-in-absolute-numbers,-and-per-person.-Show-the-errorbars-(y-errors)-21\"><span class=\"toc-item-num\">2.1&nbsp;&nbsp;</span>plot mass shooting vs gdp in absolute numbers, and per person. Show the errorbars (y errors)</a></div><div class=\"lev2 toc-item\"><a href=\"#plot-the-average-number-of-civilian-fire-arms-per-person\" data-toc-modified-id=\"plot-the-average-number-of-civilian-fire-arms-per-person-22\"><span class=\"toc-item-num\">2.2&nbsp;&nbsp;</span>plot the average number of civilian fire arms per person</a></div><div class=\"lev2 toc-item\"><a href=\"#plot-the-average-number-of-homicide-by-fire-arms-per-person\" data-toc-modified-id=\"plot-the-average-number-of-homicide-by-fire-arms-per-person-23\"><span class=\"toc-item-num\">2.3&nbsp;&nbsp;</span>plot the average number of homicide by fire arms per person</a></div><div class=\"lev2 toc-item\"><a href=\"#plot-the-number-of--homicides-by-fire-arm-against-the-number-of-civilian-firearms.-plot-the--US-in-a-different-color\" data-toc-modified-id=\"plot-the-number-of--homicides-by-fire-arm-against-the-number-of-civilian-firearms.-plot-the--US-in-a-different-color-24\"><span class=\"toc-item-num\">2.4&nbsp;&nbsp;</span>plot the number of  homicides by fire arm against the number of civilian firearms. plot the  US in a different color</a></div><div class=\"lev2 toc-item\"><a href=\"#plot-the-number-of--mass-shootings-against-the-number-of-civilian-firearms.-plot-the--US-in-a-different-color\" data-toc-modified-id=\"plot-the-number-of--mass-shootings-against-the-number-of-civilian-firearms.-plot-the--US-in-a-different-color-25\"><span class=\"toc-item-num\">2.5&nbsp;&nbsp;</span>plot the number of  mass shootings against the number of civilian firearms. plot the  US in a different color</a></div><div class=\"lev1 toc-item\"><a href=\"#Modeling\" data-toc-modified-id=\"Modeling-3\"><span class=\"toc-item-num\">3&nbsp;&nbsp;</span>Modeling</a></div><div class=\"lev2 toc-item\"><a href=\"#fit-a-line-to-the-Number-of-mass-shootings--per-person-as-a-function-of-Average-total-all-civilian-firearms-per-person.\" data-toc-modified-id=\"fit-a-line-to-the-Number-of-mass-shootings--per-person-as-a-function-of-Average-total-all-civilian-firearms-per-person.-31\"><span class=\"toc-item-num\">3.1&nbsp;&nbsp;</span>fit a line to the Number of mass shootings  per person as a function of Average total all civilian firearms per person.</a></div><div class=\"lev2 toc-item\"><a href=\"#Extra-credit:-calculate-the-confidence-interval-by-hand-and-also-plot-them\" data-toc-modified-id=\"Extra-credit:-calculate-the-confidence-interval-by-hand-and-also-plot-them-32\"><span class=\"toc-item-num\">3.2&nbsp;&nbsp;</span>Extra credit: calculate the confidence interval by hand and also plot them</a></div><div class=\"lev2 toc-item\"><a href=\"#Use-the-stsatsmodels.gaphics-package-to-plot-the-influence-plot.\" data-toc-modified-id=\"Use-the-stsatsmodels.gaphics-package-to-plot-the-influence-plot.-33\"><span class=\"toc-item-num\">3.3&nbsp;&nbsp;</span>Use the stsatsmodels.gaphics package to plot the influence plot.</a></div><div class=\"lev2 toc-item\"><a href=\"#Extra-credit:-calculate-from-scratch-the-stanrdardized-residuals-and-the-H-leverage-for-the-WLS-model-and-discuss-if-there-are-any-differences\" data-toc-modified-id=\"Extra-credit:-calculate-from-scratch-the-stanrdardized-residuals-and-the-H-leverage-for-the-WLS-model-and-discuss-if-there-are-any-differences-34\"><span class=\"toc-item-num\">3.4&nbsp;&nbsp;</span>Extra credit: calculate from scratch the stanrdardized residuals and the H leverage for the WLS model and discuss if there are any differences</a></div><div class=\"lev2 toc-item\"><a href=\"#Discuss-your-findings\" data-toc-modified-id=\"Discuss-your-findings-35\"><span class=\"toc-item-num\">3.5&nbsp;&nbsp;</span>Discuss your findings</a></div>"
   ]
  },
  {
   "cell_type": "markdown",
   "metadata": {},
   "source": [
    "**regression exercise**\n",
    "\n",
    "**written by Federica B Bianco CUSP 2017**\n",
    "\n",
    "**for PUI lecture on models and linear regression**"
   ]
  },
  {
   "cell_type": "markdown",
   "metadata": {},
   "source": [
    "**investigate linear relationships between fire arm possession, homicides by fire arms, and mass shootings for different countries, considering also the country GDP**"
   ]
  },
  {
   "cell_type": "markdown",
   "metadata": {},
   "source": [
    "# DATA: \n",
    "\n",
    "The Guardian firearms murders and ownership data. The relevans sheet is uploaded in the github repository as a csv file. Download it from there. Note: this dataset is from 2012.\n",
    "\n",
    "**Extra credit**: download directly from google docs with a google API\n",
    "\n",
    "https://docs.google.com/spreadsheets/d/1chqUZHuY6cXYrRYkuE0uwXisGaYvr7durZHJhpLGycs/edit#gid=0\n",
    "\n",
    "Number of mass shootings: find the link here https://datawrapper.dwcdn.net/pvLFI/4/\n",
    "\n",
    "The world population by country find the download link here :\n",
    "https://data.worldbank.org/indicator/SP.POP.TOTL\n",
    "\n",
    "Remember that all read or downloads have to me reproducible.\n",
    "\n",
    "Merge all datasets. After throwing away the irrelevant data it should look something like this (I renamed the GDP and the population as gdp\" and \"pop\")\n",
    "\n",
    "Throughout, when I ask you to include errors in plots or models, use Poisson statistics: the error is the square root of the number you are considering (e.g. this country has N fire arms +/- square root of N, or this country has Np [= N/population +/- (square root of N) / population] fire arms per person)."
   ]
  },
  {
   "cell_type": "code",
   "execution_count": 135,
   "metadata": {
    "scrolled": true
   },
   "outputs": [
    {
     "name": "stdout",
     "output_type": "stream",
     "text": [
      "Populating the interactive namespace from numpy and matplotlib\n"
     ]
    },
    {
     "name": "stderr",
     "output_type": "stream",
     "text": [
      "/Applications/anaconda/lib/python3.6/site-packages/IPython/core/magics/pylab.py:161: UserWarning: pylab import has clobbered these variables: ['plt']\n",
      "`%matplotlib` prevents importing * from pylab and numpy\n",
      "  \"\\n`%matplotlib` prevents importing * from pylab and numpy\"\n"
     ]
    }
   ],
   "source": [
    "from __future__  import print_function, division\n",
    "import pylab as pl\n",
    "import pandas as pd\n",
    "import numpy as np\n",
    "import os\n",
    "from urllib.request import urlopen\n",
    "import matplotlib.pylab as plt\n",
    "%pylab inline\n",
    "import scipy.stats\n",
    "import seaborn as sns\n",
    "import statsmodels.formula.api as smf\n",
    "import statsmodels.api as sm"
   ]
  },
  {
   "cell_type": "code",
   "execution_count": 184,
   "metadata": {
    "collapsed": true
   },
   "outputs": [],
   "source": [
    "# download data\n",
    "data1 = pd.read_csv('https://raw.githubusercontent.com/fedhere/PUI2017_fb55/master/HW5_fb55/World%20firearms%20murders%20and%20ownership%20-%20Sheet%201.csv', encoding='latin1')\n",
    "data2 = pd.read_csv('https://raw.githubusercontent.com/ninanrh/PUI2017_nn1221/master/HW5_nn1221/data-pvLFI.csv', encoding='latin1')\n",
    "pop = pd.read_csv('https://raw.githubusercontent.com/ninanrh/PUI2017_nn1221/master/HW5_nn1221/API_SP.POP.TOTL_DS2_en_csv_v2.csv', encoding='latin1')\n",
    "gdp = pd.read_csv('https://raw.githubusercontent.com/ninanrh/PUI2017_nn1221/master/HW5_nn1221/API_NY.GDP.MKTP.CD_DS2_en_csv_v2.csv', encoding='latin1')"
   ]
  },
  {
   "cell_type": "code",
   "execution_count": 185,
   "metadata": {},
   "outputs": [
    {
     "data": {
      "text/html": [
       "<div>\n",
       "<style>\n",
       "    .dataframe thead tr:only-child th {\n",
       "        text-align: right;\n",
       "    }\n",
       "\n",
       "    .dataframe thead th {\n",
       "        text-align: left;\n",
       "    }\n",
       "\n",
       "    .dataframe tbody tr th {\n",
       "        vertical-align: top;\n",
       "    }\n",
       "</style>\n",
       "<table border=\"1\" class=\"dataframe\">\n",
       "  <thead>\n",
       "    <tr style=\"text-align: right;\">\n",
       "      <th></th>\n",
       "      <th>Country/Territory</th>\n",
       "      <th>Number of homicides by firearm</th>\n",
       "      <th>Average total all civilian firearms</th>\n",
       "    </tr>\n",
       "  </thead>\n",
       "  <tbody>\n",
       "    <tr>\n",
       "      <th>0</th>\n",
       "      <td>Albania</td>\n",
       "      <td>56.0</td>\n",
       "      <td>270000.0</td>\n",
       "    </tr>\n",
       "    <tr>\n",
       "      <th>1</th>\n",
       "      <td>Algeria</td>\n",
       "      <td>20.0</td>\n",
       "      <td>1900000.0</td>\n",
       "    </tr>\n",
       "    <tr>\n",
       "      <th>2</th>\n",
       "      <td>Angola</td>\n",
       "      <td>NaN</td>\n",
       "      <td>2800000.0</td>\n",
       "    </tr>\n",
       "  </tbody>\n",
       "</table>\n",
       "</div>"
      ],
      "text/plain": [
       "  Country/Territory  Number of homicides by firearm  \\\n",
       "0           Albania                            56.0   \n",
       "1           Algeria                            20.0   \n",
       "2            Angola                             NaN   \n",
       "\n",
       "   Average total all civilian firearms  \n",
       "0                             270000.0  \n",
       "1                            1900000.0  \n",
       "2                            2800000.0  "
      ]
     },
     "execution_count": 185,
     "metadata": {},
     "output_type": "execute_result"
    }
   ],
   "source": [
    "data1 = data1.drop(['ISO code', 'Source', '% of homicides by firearm',\n",
    "       'Homicide by firearm rate per 100,000 pop', 'Rank by rate of ownership',\n",
    "       'Average firearms per 100 people'], axis=1)\n",
    "data1.head(3)"
   ]
  },
  {
   "cell_type": "code",
   "execution_count": 186,
   "metadata": {},
   "outputs": [
    {
     "data": {
      "text/html": [
       "<div>\n",
       "<style>\n",
       "    .dataframe thead tr:only-child th {\n",
       "        text-align: right;\n",
       "    }\n",
       "\n",
       "    .dataframe thead th {\n",
       "        text-align: left;\n",
       "    }\n",
       "\n",
       "    .dataframe tbody tr th {\n",
       "        vertical-align: top;\n",
       "    }\n",
       "</style>\n",
       "<table border=\"1\" class=\"dataframe\">\n",
       "  <thead>\n",
       "    <tr style=\"text-align: right;\">\n",
       "      <th></th>\n",
       "      <th>Country Name</th>\n",
       "      <th>2012</th>\n",
       "    </tr>\n",
       "  </thead>\n",
       "  <tbody>\n",
       "    <tr>\n",
       "      <th>0</th>\n",
       "      <td>Aruba</td>\n",
       "      <td>102577.0</td>\n",
       "    </tr>\n",
       "    <tr>\n",
       "      <th>1</th>\n",
       "      <td>Afghanistan</td>\n",
       "      <td>30696958.0</td>\n",
       "    </tr>\n",
       "    <tr>\n",
       "      <th>2</th>\n",
       "      <td>Angola</td>\n",
       "      <td>25096150.0</td>\n",
       "    </tr>\n",
       "  </tbody>\n",
       "</table>\n",
       "</div>"
      ],
      "text/plain": [
       "  Country Name        2012\n",
       "0        Aruba    102577.0\n",
       "1  Afghanistan  30696958.0\n",
       "2       Angola  25096150.0"
      ]
     },
     "execution_count": 186,
     "metadata": {},
     "output_type": "execute_result"
    }
   ],
   "source": [
    "pop = pop[['Country Name','2012']]\n",
    "pop.head(3)"
   ]
  },
  {
   "cell_type": "code",
   "execution_count": 187,
   "metadata": {},
   "outputs": [
    {
     "data": {
      "text/html": [
       "<div>\n",
       "<style>\n",
       "    .dataframe thead tr:only-child th {\n",
       "        text-align: right;\n",
       "    }\n",
       "\n",
       "    .dataframe thead th {\n",
       "        text-align: left;\n",
       "    }\n",
       "\n",
       "    .dataframe tbody tr th {\n",
       "        vertical-align: top;\n",
       "    }\n",
       "</style>\n",
       "<table border=\"1\" class=\"dataframe\">\n",
       "  <thead>\n",
       "    <tr style=\"text-align: right;\">\n",
       "      <th></th>\n",
       "      <th>Country Name</th>\n",
       "      <th>2012</th>\n",
       "    </tr>\n",
       "  </thead>\n",
       "  <tbody>\n",
       "    <tr>\n",
       "      <th>0</th>\n",
       "      <td>Aruba</td>\n",
       "      <td>NaN</td>\n",
       "    </tr>\n",
       "    <tr>\n",
       "      <th>1</th>\n",
       "      <td>Afghanistan</td>\n",
       "      <td>2.053654e+10</td>\n",
       "    </tr>\n",
       "    <tr>\n",
       "      <th>2</th>\n",
       "      <td>Angola</td>\n",
       "      <td>1.153984e+11</td>\n",
       "    </tr>\n",
       "  </tbody>\n",
       "</table>\n",
       "</div>"
      ],
      "text/plain": [
       "  Country Name          2012\n",
       "0        Aruba           NaN\n",
       "1  Afghanistan  2.053654e+10\n",
       "2       Angola  1.153984e+11"
      ]
     },
     "execution_count": 187,
     "metadata": {},
     "output_type": "execute_result"
    }
   ],
   "source": [
    "gdp = gdp[['Country Name','2012']]\n",
    "gdp.head(3)"
   ]
  },
  {
   "cell_type": "code",
   "execution_count": 188,
   "metadata": {},
   "outputs": [
    {
     "data": {
      "text/html": [
       "<div>\n",
       "<style>\n",
       "    .dataframe thead tr:only-child th {\n",
       "        text-align: right;\n",
       "    }\n",
       "\n",
       "    .dataframe thead th {\n",
       "        text-align: left;\n",
       "    }\n",
       "\n",
       "    .dataframe tbody tr th {\n",
       "        vertical-align: top;\n",
       "    }\n",
       "</style>\n",
       "<table border=\"1\" class=\"dataframe\">\n",
       "  <thead>\n",
       "    <tr style=\"text-align: right;\">\n",
       "      <th></th>\n",
       "      <th>Country/Territory</th>\n",
       "      <th>Number of homicides by firearm</th>\n",
       "      <th>Average total all civilian firearms</th>\n",
       "      <th>Country</th>\n",
       "      <th>Guns/100 inhabitants</th>\n",
       "      <th>Number of mass shootings</th>\n",
       "    </tr>\n",
       "  </thead>\n",
       "  <tbody>\n",
       "    <tr>\n",
       "      <th>0</th>\n",
       "      <td>Australia</td>\n",
       "      <td>30.0</td>\n",
       "      <td>3050000.0</td>\n",
       "      <td>Australia</td>\n",
       "      <td>15.0</td>\n",
       "      <td>4</td>\n",
       "    </tr>\n",
       "    <tr>\n",
       "      <th>1</th>\n",
       "      <td>Austria</td>\n",
       "      <td>18.0</td>\n",
       "      <td>2500000.0</td>\n",
       "      <td>Austria</td>\n",
       "      <td>30.4</td>\n",
       "      <td>1</td>\n",
       "    </tr>\n",
       "    <tr>\n",
       "      <th>2</th>\n",
       "      <td>Canada</td>\n",
       "      <td>173.0</td>\n",
       "      <td>9950000.0</td>\n",
       "      <td>Canada</td>\n",
       "      <td>30.8</td>\n",
       "      <td>4</td>\n",
       "    </tr>\n",
       "  </tbody>\n",
       "</table>\n",
       "</div>"
      ],
      "text/plain": [
       "  Country/Territory  Number of homicides by firearm  \\\n",
       "0         Australia                            30.0   \n",
       "1           Austria                            18.0   \n",
       "2            Canada                           173.0   \n",
       "\n",
       "   Average total all civilian firearms    Country  Guns/100 inhabitants  \\\n",
       "0                            3050000.0  Australia                  15.0   \n",
       "1                            2500000.0    Austria                  30.4   \n",
       "2                            9950000.0     Canada                  30.8   \n",
       "\n",
       "   Number of mass shootings  \n",
       "0                         4  \n",
       "1                         1  \n",
       "2                         4  "
      ]
     },
     "execution_count": 188,
     "metadata": {},
     "output_type": "execute_result"
    }
   ],
   "source": [
    "# merge data1 and data2\n",
    "merge1 = pd.merge(data1, data2, left_on='Country/Territory', right_on='Country', how='inner')\n",
    "merge1.head(3)"
   ]
  },
  {
   "cell_type": "code",
   "execution_count": 189,
   "metadata": {
    "scrolled": true
   },
   "outputs": [
    {
     "data": {
      "text/html": [
       "<div>\n",
       "<style>\n",
       "    .dataframe thead tr:only-child th {\n",
       "        text-align: right;\n",
       "    }\n",
       "\n",
       "    .dataframe thead th {\n",
       "        text-align: left;\n",
       "    }\n",
       "\n",
       "    .dataframe tbody tr th {\n",
       "        vertical-align: top;\n",
       "    }\n",
       "</style>\n",
       "<table border=\"1\" class=\"dataframe\">\n",
       "  <thead>\n",
       "    <tr style=\"text-align: right;\">\n",
       "      <th></th>\n",
       "      <th>Country</th>\n",
       "      <th>pop</th>\n",
       "      <th>gdp</th>\n",
       "    </tr>\n",
       "  </thead>\n",
       "  <tbody>\n",
       "    <tr>\n",
       "      <th>0</th>\n",
       "      <td>Aruba</td>\n",
       "      <td>102577.0</td>\n",
       "      <td>NaN</td>\n",
       "    </tr>\n",
       "    <tr>\n",
       "      <th>1</th>\n",
       "      <td>Afghanistan</td>\n",
       "      <td>30696958.0</td>\n",
       "      <td>2.053654e+10</td>\n",
       "    </tr>\n",
       "    <tr>\n",
       "      <th>2</th>\n",
       "      <td>Angola</td>\n",
       "      <td>25096150.0</td>\n",
       "      <td>1.153984e+11</td>\n",
       "    </tr>\n",
       "  </tbody>\n",
       "</table>\n",
       "</div>"
      ],
      "text/plain": [
       "       Country         pop           gdp\n",
       "0        Aruba    102577.0           NaN\n",
       "1  Afghanistan  30696958.0  2.053654e+10\n",
       "2       Angola  25096150.0  1.153984e+11"
      ]
     },
     "execution_count": 189,
     "metadata": {},
     "output_type": "execute_result"
    }
   ],
   "source": [
    "# merge gdp and pop\n",
    "merge2 = pd.merge(pop, gdp, on='Country Name', how='inner')\n",
    "merge2.columns = ['Country', 'pop', 'gdp']\n",
    "merge2.head(3)"
   ]
  },
  {
   "cell_type": "code",
   "execution_count": 190,
   "metadata": {
    "collapsed": true
   },
   "outputs": [],
   "source": [
    "df_ = merge1.merge(merge2, on='Country', how='inner')"
   ]
  },
  {
   "cell_type": "code",
   "execution_count": 191,
   "metadata": {},
   "outputs": [
    {
     "data": {
      "text/html": [
       "<div>\n",
       "<style>\n",
       "    .dataframe thead tr:only-child th {\n",
       "        text-align: right;\n",
       "    }\n",
       "\n",
       "    .dataframe thead th {\n",
       "        text-align: left;\n",
       "    }\n",
       "\n",
       "    .dataframe tbody tr th {\n",
       "        vertical-align: top;\n",
       "    }\n",
       "</style>\n",
       "<table border=\"1\" class=\"dataframe\">\n",
       "  <thead>\n",
       "    <tr style=\"text-align: right;\">\n",
       "      <th></th>\n",
       "      <th>Country/Territory</th>\n",
       "      <th>Number of homicides by firearm</th>\n",
       "      <th>Average total all civilian firearms</th>\n",
       "      <th>Country</th>\n",
       "      <th>Guns/100 inhabitants</th>\n",
       "      <th>Number of mass shootings</th>\n",
       "      <th>pop</th>\n",
       "      <th>gdp</th>\n",
       "    </tr>\n",
       "  </thead>\n",
       "  <tbody>\n",
       "    <tr>\n",
       "      <th>0</th>\n",
       "      <td>Australia</td>\n",
       "      <td>30.0</td>\n",
       "      <td>3050000.0</td>\n",
       "      <td>Australia</td>\n",
       "      <td>15.0</td>\n",
       "      <td>4</td>\n",
       "      <td>22728254.0</td>\n",
       "      <td>1.538194e+12</td>\n",
       "    </tr>\n",
       "    <tr>\n",
       "      <th>1</th>\n",
       "      <td>Austria</td>\n",
       "      <td>18.0</td>\n",
       "      <td>2500000.0</td>\n",
       "      <td>Austria</td>\n",
       "      <td>30.4</td>\n",
       "      <td>1</td>\n",
       "      <td>8429991.0</td>\n",
       "      <td>4.074516e+11</td>\n",
       "    </tr>\n",
       "    <tr>\n",
       "      <th>2</th>\n",
       "      <td>Canada</td>\n",
       "      <td>173.0</td>\n",
       "      <td>9950000.0</td>\n",
       "      <td>Canada</td>\n",
       "      <td>30.8</td>\n",
       "      <td>4</td>\n",
       "      <td>34750545.0</td>\n",
       "      <td>1.824289e+12</td>\n",
       "    </tr>\n",
       "    <tr>\n",
       "      <th>3</th>\n",
       "      <td>Denmark</td>\n",
       "      <td>15.0</td>\n",
       "      <td>650000.0</td>\n",
       "      <td>Denmark</td>\n",
       "      <td>12.0</td>\n",
       "      <td>0</td>\n",
       "      <td>5591572.0</td>\n",
       "      <td>3.271489e+11</td>\n",
       "    </tr>\n",
       "    <tr>\n",
       "      <th>4</th>\n",
       "      <td>Finland</td>\n",
       "      <td>24.0</td>\n",
       "      <td>2400000.0</td>\n",
       "      <td>Finland</td>\n",
       "      <td>45.3</td>\n",
       "      <td>2</td>\n",
       "      <td>5413971.0</td>\n",
       "      <td>2.567065e+11</td>\n",
       "    </tr>\n",
       "  </tbody>\n",
       "</table>\n",
       "</div>"
      ],
      "text/plain": [
       "  Country/Territory  Number of homicides by firearm  \\\n",
       "0         Australia                            30.0   \n",
       "1           Austria                            18.0   \n",
       "2            Canada                           173.0   \n",
       "3           Denmark                            15.0   \n",
       "4           Finland                            24.0   \n",
       "\n",
       "   Average total all civilian firearms    Country  Guns/100 inhabitants  \\\n",
       "0                            3050000.0  Australia                  15.0   \n",
       "1                            2500000.0    Austria                  30.4   \n",
       "2                            9950000.0     Canada                  30.8   \n",
       "3                             650000.0    Denmark                  12.0   \n",
       "4                            2400000.0    Finland                  45.3   \n",
       "\n",
       "   Number of mass shootings         pop           gdp  \n",
       "0                         4  22728254.0  1.538194e+12  \n",
       "1                         1   8429991.0  4.074516e+11  \n",
       "2                         4  34750545.0  1.824289e+12  \n",
       "3                         0   5591572.0  3.271489e+11  \n",
       "4                         2   5413971.0  2.567065e+11  "
      ]
     },
     "execution_count": 191,
     "metadata": {},
     "output_type": "execute_result"
    }
   ],
   "source": [
    "df_.head()"
   ]
  },
  {
   "cell_type": "markdown",
   "metadata": {},
   "source": [
    "# exploration\n",
    "\n",
    "## plot mass shooting vs gdp in absolute numbers, and per person. Show the errorbars (y errors)\n",
    "\n",
    "Use Poisson statistics for the errorbars on the number of mass shootings (optional: include errors on the population, also as Poisson statistics)\n",
    "\n",
    "Are there any points that look like they may be outilers?\n"
   ]
  },
  {
   "cell_type": "code",
   "execution_count": 192,
   "metadata": {
    "collapsed": true
   },
   "outputs": [],
   "source": [
    "df_['gdppercapita'] = df_['gdp'] / df_['pop']"
   ]
  },
  {
   "cell_type": "code",
   "execution_count": 193,
   "metadata": {
    "ExecuteTime": {
     "end_time": "2017-10-12T11:24:38.210994",
     "start_time": "2017-10-12T11:24:37.927232"
    }
   },
   "outputs": [
    {
     "name": "stdout",
     "output_type": "stream",
     "text": [
      "Number of mass shooting vs GDP, errors represent Poisson statistics.\n",
      "The datapoint to the top right of the plot is the USA, which has noth the highest GDP and the highest number of mass shootings\n"
     ]
    },
    {
     "data": {
      "image/png": "[encoded data removed]",
      "text/plain": [
       "<matplotlib.figure.Figure at 0x11deee080>"
      ]
     },
     "metadata": {},
     "output_type": "display_data"
    }
   ],
   "source": [
    "fig = pl.figure(figsize=(20,5)) \n",
    "\n",
    "# Mass Shooting vs GDP in Absolute Number\n",
    "ax = fig.add_subplot(121)\n",
    "scatter = ax.scatter(df_.gdp / 1e9, df_['Number of mass shootings'], color='c')\n",
    "ax.errorbar(df_.gdp / 1e9, df_['Number of mass shootings'], \n",
    "            yerr = np.sqrt(df_['Number of mass shootings'] * 1.0), fmt = '.', color='k')\n",
    "ax.set_xlabel(\"GDP (in billions)\")\n",
    "ax.set_ylabel(\"Number of mass shooting per person\")\n",
    "ax.set_ylim()\n",
    "\n",
    "# Mass Shooting vs GDP in Absolute Number\n",
    "ax2 = fig.add_subplot(122)\n",
    "ax2.errorbar(df_.gdppercapita / 1e3, df_['Number of mass shootings'], \n",
    "            yerr = np.sqrt(df_['Number of mass shootings'] * 1.0), fmt = '.', color='k')\n",
    "scatter2 = ax2.scatter(df_.gdppercapita / 1e3, df_['Number of mass shootings'], color='c')\n",
    "ax2.set_xlabel(\"GDP (per person in 1000)\")\n",
    "ax2.set_ylabel(\"Number of mass shooting per person\")\n",
    "ax2.set_ylim()\n",
    "\n",
    "print (\"Number of mass shooting vs GDP, \" + \n",
    "       \"errors represent Poisson statistics.\\n\" + \n",
    "       \"The datapoint to the top right of the plot is the USA, \" + \n",
    "       \"which has noth the highest GDP and the highest number of mass shootings\")"
   ]
  },
  {
   "cell_type": "markdown",
   "metadata": {},
   "source": [
    "#### Figure 1. Mass Shooting vs GDP (absolute and per capita)\n",
    "\n",
    "Both pictures show that USA has the highest shooting. USA also has the highest absolute GDP."
   ]
  },
  {
   "cell_type": "markdown",
   "metadata": {},
   "source": [
    "## plot the average number of civilian fire arms per person\n",
    "first without errors, then with errors. are there  points that look like outliers?"
   ]
  },
  {
   "cell_type": "code",
   "execution_count": 194,
   "metadata": {
    "ExecuteTime": {
     "end_time": "2017-10-12T07:17:52.778486",
     "start_time": "2017-10-12T07:17:52.768299"
    },
    "collapsed": true,
    "run_control": {
     "frozen": false,
     "read_only": false
    }
   },
   "outputs": [],
   "source": [
    "df_['shootingspp'] = df_[\"Number of mass shootings\"] / df_['pop'] * 1e3"
   ]
  },
  {
   "cell_type": "code",
   "execution_count": 195,
   "metadata": {
    "collapsed": true
   },
   "outputs": [],
   "source": [
    "df_['civfirecapita'] = df_[\"Average total all civilian firearms\"] / df_['pop'] * 1e3"
   ]
  },
  {
   "cell_type": "code",
   "execution_count": 196,
   "metadata": {
    "collapsed": true
   },
   "outputs": [],
   "source": [
    "# Set different dataframe for US\n",
    "US = df_[(df_['Country'] == 'United States')]"
   ]
  },
  {
   "cell_type": "code",
   "execution_count": 197,
   "metadata": {
    "scrolled": false
   },
   "outputs": [
    {
     "data": {
      "image/png": "[encoded data removed]",
      "text/plain": [
       "<matplotlib.figure.Figure at 0x11d5c5470>"
      ]
     },
     "metadata": {},
     "output_type": "display_data"
    },
    {
     "name": "stdout",
     "output_type": "stream",
     "text": [
      "Number of mass shooting vs GDP, errors represent Poisson statistics.\n",
      "The datapoint to the top right of the plot is the USA, which has noth the highest GDP and the highest number of mass shootings\n"
     ]
    }
   ],
   "source": [
    "fig = pl.figure(figsize=(25,5)) \n",
    "\n",
    "#with error\n",
    "ax = fig.add_subplot(141)\n",
    "scatter = ax.scatter(df_.gdp / 1e9, df_['shootingspp'], color='c')\n",
    "USscatter = ax.scatter(US.gdp / 1e9, US['shootingspp'], color='m')\n",
    "ax.errorbar(df_.gdp / 1e9, df_['shootingspp'], \n",
    "            yerr = np.sqrt(df_['shootingspp'] * 1.0), fmt = '.', color='k')\n",
    "ax.set_xlabel(\"GDP (in billions)\")\n",
    "ax.set_ylabel(\"Number of Mass Shooting per person\")\n",
    "ax.set_ylim()\n",
    "\n",
    "ax2 = fig.add_subplot(142)\n",
    "scatter2 = ax2.scatter(df_.gdppercapita / 1e3, df_['shootingspp'], color='c')\n",
    "USscatter2 = ax2.scatter(US.gdppercapita / 1e3, US['shootingspp'], color='m')\n",
    "ax2.errorbar(df_.gdppercapita / 1e3, df_['shootingspp'], \n",
    "            yerr = np.sqrt(df_['shootingspp'] * 1.0), fmt = '.', color='k')\n",
    "ax2.set_xlabel(\"GDP (per capita)\")\n",
    "ax2.set_ylabel(\"Number of Mass Shooting per person\")\n",
    "ax2.set_ylim()\n",
    "\n",
    "#without error\n",
    "ax3 = fig.add_subplot(143)\n",
    "scatter3 = ax3.scatter(df_.gdp / 1e9, df_['shootingspp'], color='c')\n",
    "USscatter3 = ax3.scatter(US.gdp / 1e9, US['shootingspp'], color='m')\n",
    "ax3.set_xlabel(\"GDP (in billions)\")\n",
    "ax3.set_ylabel(\"Number of Mass Shooting per person\")\n",
    "ax3.set_ylim()\n",
    "\n",
    "ax4 = fig.add_subplot(144)\n",
    "scatter4 = ax4.scatter(df_.gdppercapita / 1e3, df_['shootingspp'], color='c')\n",
    "USscatter4 = ax4.scatter(US.gdppercapita / 1e3, US['shootingspp'], color='m')\n",
    "ax4.set_xlabel(\"GDP (per capita)\")\n",
    "ax4.set_ylabel(\"Number of Mass Shooting per person\")\n",
    "ax4.set_ylim()\n",
    "\n",
    "pl.show()\n",
    "print (\"Number of mass shooting vs GDP, \" + \n",
    "       \"errors represent Poisson statistics.\\n\" + \n",
    "       \"The datapoint to the top right of the plot is the USA, \" + \n",
    "       \"which has noth the highest GDP and the highest number of mass shootings\")"
   ]
  },
  {
   "cell_type": "markdown",
   "metadata": {},
   "source": [
    "#### Figure 2. Mass Shooting per person vs GDP (absolute and per capita)\n",
    "\n",
    "Both pictures show that USA has the highest shooting percapita and has the highest absolute GDP."
   ]
  },
  {
   "cell_type": "code",
   "execution_count": 198,
   "metadata": {
    "scrolled": true
   },
   "outputs": [
    {
     "data": {
      "image/png": "[encoded data removed]",
      "text/plain": [
       "<matplotlib.figure.Figure at 0x11d5d0a90>"
      ]
     },
     "metadata": {},
     "output_type": "display_data"
    }
   ],
   "source": [
    "fig = pl.figure(figsize=(25,5)) \n",
    "\n",
    "#with error\n",
    "ax = fig.add_subplot(141)\n",
    "scatter = ax.scatter(df_.gdp / 1e9, df_['civfirecapita'], color='c')\n",
    "USscatter = ax.scatter(US.gdp / 1e9, US['civfirecapita'], color='m')\n",
    "ax.errorbar(df_.gdp / 1e9, df_['civfirecapita'], \n",
    "            yerr = np.sqrt(df_['civfirecapita'] * 1.0), fmt = '.', color='k')\n",
    "ax.set_xlabel(\"GDP (in billions)\")\n",
    "ax.set_ylabel(\"Average of Civilians Firearms per person\")\n",
    "ax.set_ylim()\n",
    "\n",
    "ax2 = fig.add_subplot(142)\n",
    "scatter2 = ax2.scatter(df_.gdppercapita / 1e3, df_['civfirecapita'], color='c')\n",
    "USscatter2 = ax2.scatter(US.gdppercapita / 1e3, US['civfirecapita'], color='m')\n",
    "ax2.errorbar(df_.gdppercapita / 1e3, df_['civfirecapita'], \n",
    "            yerr = np.sqrt(df_['civfirecapita'] * 1.0), fmt = '.', color='k')\n",
    "ax2.set_xlabel(\"GDP (per capita)\")\n",
    "ax2.set_ylabel(\"Average of Civilians Firearms per person\")\n",
    "ax2.set_ylim()\n",
    "\n",
    "#without error\n",
    "ax3 = fig.add_subplot(143)\n",
    "scatter3 = ax3.scatter(df_.gdp / 1e9, df_['civfirecapita'], color='c')\n",
    "USscatter3 = ax3.scatter(US.gdp / 1e9, US['civfirecapita'], color='m')\n",
    "ax3.set_xlabel(\"GDP (in billions)\")\n",
    "ax3.set_ylabel(\"Average of Civilians Firearms per person\")\n",
    "ax3.set_ylim()\n",
    "\n",
    "ax4 = fig.add_subplot(144)\n",
    "scatter4 = ax4.scatter(df_.gdppercapita / 1e3, df_['civfirecapita'], color='c')\n",
    "USscatter4 = ax4.scatter(US.gdppercapita / 1e3, US['civfirecapita'], color='m')\n",
    "ax4.set_xlabel(\"GDP (per capita)\")\n",
    "ax4.set_ylabel(\"Average of Civilians Firearms per person\")\n",
    "ax4.set_ylim()\n",
    "\n",
    "pl.show()"
   ]
  },
  {
   "cell_type": "markdown",
   "metadata": {},
   "source": [
    "#### Figure 2. Average Civilians Firearms per person vs GDP (absolute and per capita)\n",
    "\n",
    "All pictures show that USA has the highest civilian firearms percapita."
   ]
  },
  {
   "cell_type": "markdown",
   "metadata": {},
   "source": [
    "## plot the average number of homicide by fire arms per person\n",
    "first as a histogram\n",
    "\n",
    "then against the country GDP, with statistical errors. are there  points that look like outliers?"
   ]
  },
  {
   "cell_type": "code",
   "execution_count": 199,
   "metadata": {
    "ExecuteTime": {
     "end_time": "2017-10-12T07:53:17.910541",
     "start_time": "2017-10-12T07:53:17.506477"
    }
   },
   "outputs": [
    {
     "data": {
      "image/png": "[encoded data removed]",
      "text/plain": [
       "<matplotlib.figure.Figure at 0x11d712eb8>"
      ]
     },
     "metadata": {},
     "output_type": "display_data"
    }
   ],
   "source": [
    "fig, ax = plt.subplots()\n",
    "ax.hist(df_['Number of homicides by firearm'] / df_['pop'] * 1000, color='c')\n",
    "ax.set_xlabel('homicides by firearm per 1000 people');"
   ]
  },
  {
   "cell_type": "markdown",
   "metadata": {},
   "source": [
    "#### Figure 3. Homicides firearms\n",
    "\n",
    "There is one outlier indeed."
   ]
  },
  {
   "cell_type": "markdown",
   "metadata": {},
   "source": [
    "## plot the number of  homicides by fire arm against the number of civilian firearms. plot the  US in a different color\n",
    "with and without errorbars\n"
   ]
  },
  {
   "cell_type": "code",
   "execution_count": 200,
   "metadata": {
    "scrolled": true
   },
   "outputs": [
    {
     "data": {
      "image/png": "[encoded data removed]",
      "text/plain": [
       "<matplotlib.figure.Figure at 0x11e96ef28>"
      ]
     },
     "metadata": {},
     "output_type": "display_data"
    }
   ],
   "source": [
    "fig = pl.figure(figsize=(25,5)) \n",
    "\n",
    "#with error\n",
    "ax = fig.add_subplot(121)\n",
    "scatter = ax.scatter(df_['Number of homicides by firearm'], df_['Average total all civilian firearms'], color='c')\n",
    "USscatter = ax.scatter(US['Number of homicides by firearm'], US['Average total all civilian firearms'], color='m')\n",
    "ax.errorbar(df_['Number of homicides by firearm'], df_['Average total all civilian firearms'], \n",
    "            yerr = np.sqrt(df_['Average total all civilian firearms'] * 1.0), fmt = '.', color='k')\n",
    "ax.set_xlabel(\"Number of Homicides\")\n",
    "ax.set_ylabel(\"Average number of civilian fire arms per person\")\n",
    "ax.set_ylim()\n",
    "\n",
    "#without error\n",
    "ax2 = fig.add_subplot(122)\n",
    "scatter2 = ax2.scatter(df_['Number of homicides by firearm'], df_['Average total all civilian firearms'], color='c')\n",
    "USscatter2 = ax2.scatter(US['Number of homicides by firearm'], US['Average total all civilian firearms'], color='m')\n",
    "ax2.set_xlabel(\"Number of Homicides\")\n",
    "ax2.set_ylabel(\"Average number of civilian fire arms per person\")\n",
    "ax2.set_ylim()\n",
    "\n",
    "pl.show()"
   ]
  },
  {
   "cell_type": "markdown",
   "metadata": {},
   "source": [
    "#### Figure 4. Homicides firearms vs number of civilian firearms\n",
    "\n",
    "US has both highest average number of civilin firearms and number of homicides"
   ]
  },
  {
   "cell_type": "markdown",
   "metadata": {},
   "source": [
    "## plot the number of  mass shootings against the number of civilian firearms. plot the  US in a different color\n",
    "with and without errorbars\n"
   ]
  },
  {
   "cell_type": "code",
   "execution_count": 201,
   "metadata": {
    "scrolled": false
   },
   "outputs": [
    {
     "data": {
      "image/png": "[encoded data removed]",
      "text/plain": [
       "<matplotlib.figure.Figure at 0x11ecaf6d8>"
      ]
     },
     "metadata": {},
     "output_type": "display_data"
    }
   ],
   "source": [
    "fig = pl.figure(figsize=(25,5)) \n",
    "\n",
    "#with error\n",
    "ax = fig.add_subplot(121)\n",
    "scatter = ax.scatter(df_['Number of mass shootings'], df_['Average total all civilian firearms'], color='c')\n",
    "USscatter = ax.scatter(US['Number of mass shootings'], US['Average total all civilian firearms'], color='m')\n",
    "ax.errorbar(df_['Number of mass shootings'], df_['Average total all civilian firearms'], \n",
    "            yerr = np.sqrt(df_['Average total all civilian firearms'] * 1.0), fmt = '.', color='k')\n",
    "ax.set_xlabel('Number of mass shootings')\n",
    "ax.set_ylabel(\"Average number of civilian fire arms per person\")\n",
    "ax.set_ylim()\n",
    "\n",
    "#without error\n",
    "ax2 = fig.add_subplot(122)\n",
    "scatter2 = ax2.scatter(df_['Number of mass shootings'], df_['Average total all civilian firearms'], color='c')\n",
    "USscatter2 = ax2.scatter(US['Number of mass shootings'], US['Average total all civilian firearms'], color='m')\n",
    "ax2.set_xlabel('Number of mass shootings')\n",
    "ax2.set_ylabel(\"Average number of civilian fire arms per person\")\n",
    "ax2.set_ylim()\n",
    "\n",
    "pl.show()"
   ]
  },
  {
   "cell_type": "markdown",
   "metadata": {},
   "source": [
    "#### Figure 5. Mass Shooting vs number of civilian firearms\n",
    "\n",
    "US has both highest average number of civilin firearms and number of mass shooting"
   ]
  },
  {
   "cell_type": "markdown",
   "metadata": {},
   "source": [
    "# Modeling\n",
    "\n",
    "## fit a line to the Number of mass shootings  per person as a function of Average total all civilian firearms per person. \n",
    "Before you do it it is a good idea to make sure that both quantities are roughly of the same order of magnitude (unity). (You can simply divide by the order of magnitude of the mean of the sample to obtain this). Use\n",
    "\n",
    "    - statsmodels OLS\n",
    "    - statsmodels WLS\n",
    "    - seaborn\n",
    "    - choose one of\n",
    "        -- creating a function that calculates the residuals and minimizing that function\n",
    "        -- analytical solution http://mathworld.wolfram.com/LeastSquaresFitting.html\n",
    "        -- numpy.polyfit() - https://docs.scipy.org/doc/numpy-1.13.0/reference/generated/numpy.polyfit.html\n",
    "    \n",
    "\n",
    "WLS: that is the weighted square fit. The statsmodel package WLS function allows you to take the uncertainties of each data point into account when you fit your model. It takes the parameter weights, which is the inverse of your errors:\n",
    "weights = 1.0/df.yerror\n",
    "Notice that \n",
    "    a - sqrt(0) = 0\n",
    "    b - 1/0 = infinity\n",
    "    c - you cannot have weight that are infinity in your fit. Please come up with a solution and justify it.\n",
    "\n",
    "\n",
    "the latter three you can learn about in this example: https://github.com/fedhere/PUI2017_fb55/blob/master/Lab5_fb55/genderIncomeBias.ipynb\n",
    "Since we did not discuss these, I will add some notes to the repo in the afternoon.\n",
    "\n",
    "Use the seaborn python package built in regression function  to plot the regression confidence intervals. \n",
    "\n",
    "import seaborn  as sns\n",
    "sns.regplot(x=\"x\", y=\"y\", data=df);\n",
    "\n",
    "\n"
   ]
  },
  {
   "cell_type": "markdown",
   "metadata": {},
   "source": [
    "### 1. OLS"
   ]
  },
  {
   "cell_type": "code",
   "execution_count": 207,
   "metadata": {},
   "outputs": [
    {
     "data": {
      "text/html": [
       "<table class=\"simpletable\">\n",
       "<caption>OLS Regression Results</caption>\n",
       "<tr>\n",
       "  <th>Dep. Variable:</th>       <td>shootingspp</td>   <th>  R-squared:         </th> <td>   0.199</td>\n",
       "</tr>\n",
       "<tr>\n",
       "  <th>Model:</th>                   <td>OLS</td>       <th>  Adj. R-squared:    </th> <td>   0.159</td>\n",
       "</tr>\n",
       "<tr>\n",
       "  <th>Method:</th>             <td>Least Squares</td>  <th>  F-statistic:       </th> <td>   4.971</td>\n",
       "</tr>\n",
       "<tr>\n",
       "  <th>Date:</th>             <td>Tue, 17 Oct 2017</td> <th>  Prob (F-statistic):</th>  <td>0.0374</td> \n",
       "</tr>\n",
       "<tr>\n",
       "  <th>Time:</th>                 <td>23:55:47</td>     <th>  Log-Likelihood:    </th> <td>  163.40</td>\n",
       "</tr>\n",
       "<tr>\n",
       "  <th>No. Observations:</th>      <td>    22</td>      <th>  AIC:               </th> <td>  -322.8</td>\n",
       "</tr>\n",
       "<tr>\n",
       "  <th>Df Residuals:</th>          <td>    20</td>      <th>  BIC:               </th> <td>  -320.6</td>\n",
       "</tr>\n",
       "<tr>\n",
       "  <th>Df Model:</th>              <td>     1</td>      <th>                     </th>     <td> </td>   \n",
       "</tr>\n",
       "<tr>\n",
       "  <th>Covariance Type:</th>      <td>nonrobust</td>    <th>                     </th>     <td> </td>   \n",
       "</tr>\n",
       "</table>\n",
       "<table class=\"simpletable\">\n",
       "<tr>\n",
       "        <td></td>           <th>coef</th>     <th>std err</th>      <th>t</th>      <th>P>|t|</th>  <th>[0.025</th>    <th>0.975]</th>  \n",
       "</tr>\n",
       "<tr>\n",
       "  <th>Intercept</th>     <td> 3.149e-05</td> <td> 5.15e-05</td> <td>    0.612</td> <td> 0.548</td> <td>-7.59e-05</td> <td>    0.000</td>\n",
       "</tr>\n",
       "<tr>\n",
       "  <th>civfirecapita</th> <td> 3.911e-07</td> <td> 1.75e-07</td> <td>    2.230</td> <td> 0.037</td> <td> 2.52e-08</td> <td> 7.57e-07</td>\n",
       "</tr>\n",
       "</table>\n",
       "<table class=\"simpletable\">\n",
       "<tr>\n",
       "  <th>Omnibus:</th>       <td>34.840</td> <th>  Durbin-Watson:     </th> <td>   1.955</td>\n",
       "</tr>\n",
       "<tr>\n",
       "  <th>Prob(Omnibus):</th> <td> 0.000</td> <th>  Jarque-Bera (JB):  </th> <td>  88.018</td>\n",
       "</tr>\n",
       "<tr>\n",
       "  <th>Skew:</th>          <td> 2.733</td> <th>  Prob(JB):          </th> <td>7.71e-20</td>\n",
       "</tr>\n",
       "<tr>\n",
       "  <th>Kurtosis:</th>      <td>11.133</td> <th>  Cond. No.          </th> <td>    469.</td>\n",
       "</tr>\n",
       "</table>"
      ],
      "text/plain": [
       "<class 'statsmodels.iolib.summary.Summary'>\n",
       "\"\"\"\n",
       "                            OLS Regression Results                            \n",
       "==============================================================================\n",
       "Dep. Variable:            shootingspp   R-squared:                       0.199\n",
       "Model:                            OLS   Adj. R-squared:                  0.159\n",
       "Method:                 Least Squares   F-statistic:                     4.971\n",
       "Date:                Tue, 17 Oct 2017   Prob (F-statistic):             0.0374\n",
       "Time:                        23:55:47   Log-Likelihood:                 163.40\n",
       "No. Observations:                  22   AIC:                            -322.8\n",
       "Df Residuals:                      20   BIC:                            -320.6\n",
       "Df Model:                           1                                         \n",
       "Covariance Type:            nonrobust                                         \n",
       "=================================================================================\n",
       "                    coef    std err          t      P>|t|      [0.025      0.975]\n",
       "---------------------------------------------------------------------------------\n",
       "Intercept      3.149e-05   5.15e-05      0.612      0.548   -7.59e-05       0.000\n",
       "civfirecapita  3.911e-07   1.75e-07      2.230      0.037    2.52e-08    7.57e-07\n",
       "==============================================================================\n",
       "Omnibus:                       34.840   Durbin-Watson:                   1.955\n",
       "Prob(Omnibus):                  0.000   Jarque-Bera (JB):               88.018\n",
       "Skew:                           2.733   Prob(JB):                     7.71e-20\n",
       "Kurtosis:                      11.133   Cond. No.                         469.\n",
       "==============================================================================\n",
       "\n",
       "Warnings:\n",
       "[1] Standard Errors assume that the covariance matrix of the errors is correctly specified.\n",
       "\"\"\""
      ]
     },
     "execution_count": 207,
     "metadata": {},
     "output_type": "execute_result"
    }
   ],
   "source": [
    "lm = smf.ols(formula='shootingspp ~ civfirecapita', data=df_).fit()\n",
    "lm.summary()"
   ]
  },
  {
   "cell_type": "markdown",
   "metadata": {},
   "source": [
    "### 1. WLS"
   ]
  },
  {
   "cell_type": "code",
   "execution_count": 204,
   "metadata": {},
   "outputs": [
    {
     "data": {
      "text/html": [
       "<table class=\"simpletable\">\n",
       "<caption>WLS Regression Results</caption>\n",
       "<tr>\n",
       "  <th>Dep. Variable:</th>       <td>shootingspp</td>   <th>  R-squared:         </th> <td>   0.096</td>\n",
       "</tr>\n",
       "<tr>\n",
       "  <th>Model:</th>                   <td>WLS</td>       <th>  Adj. R-squared:    </th> <td>   0.051</td>\n",
       "</tr>\n",
       "<tr>\n",
       "  <th>Method:</th>             <td>Least Squares</td>  <th>  F-statistic:       </th> <td>   2.121</td>\n",
       "</tr>\n",
       "<tr>\n",
       "  <th>Date:</th>             <td>Tue, 17 Oct 2017</td> <th>  Prob (F-statistic):</th>  <td> 0.161</td> \n",
       "</tr>\n",
       "<tr>\n",
       "  <th>Time:</th>                 <td>23:54:45</td>     <th>  Log-Likelihood:    </th> <td>  155.10</td>\n",
       "</tr>\n",
       "<tr>\n",
       "  <th>No. Observations:</th>      <td>    22</td>      <th>  AIC:               </th> <td>  -306.2</td>\n",
       "</tr>\n",
       "<tr>\n",
       "  <th>Df Residuals:</th>          <td>    20</td>      <th>  BIC:               </th> <td>  -304.0</td>\n",
       "</tr>\n",
       "<tr>\n",
       "  <th>Df Model:</th>              <td>     1</td>      <th>                     </th>     <td> </td>   \n",
       "</tr>\n",
       "<tr>\n",
       "  <th>Covariance Type:</th>      <td>nonrobust</td>    <th>                     </th>     <td> </td>   \n",
       "</tr>\n",
       "</table>\n",
       "<table class=\"simpletable\">\n",
       "<tr>\n",
       "        <td></td>           <th>coef</th>     <th>std err</th>      <th>t</th>      <th>P>|t|</th>  <th>[0.025</th>    <th>0.975]</th>  \n",
       "</tr>\n",
       "<tr>\n",
       "  <th>Intercept</th>     <td> 4.016e-05</td> <td> 6.89e-05</td> <td>    0.583</td> <td> 0.567</td> <td>   -0.000</td> <td>    0.000</td>\n",
       "</tr>\n",
       "<tr>\n",
       "  <th>civfirecapita</th> <td> 4.009e-07</td> <td> 2.75e-07</td> <td>    1.457</td> <td> 0.161</td> <td>-1.73e-07</td> <td> 9.75e-07</td>\n",
       "</tr>\n",
       "</table>\n",
       "<table class=\"simpletable\">\n",
       "<tr>\n",
       "  <th>Omnibus:</th>       <td>46.597</td> <th>  Durbin-Watson:     </th> <td>   2.005</td>\n",
       "</tr>\n",
       "<tr>\n",
       "  <th>Prob(Omnibus):</th> <td> 0.000</td> <th>  Jarque-Bera (JB):  </th> <td> 196.496</td>\n",
       "</tr>\n",
       "<tr>\n",
       "  <th>Skew:</th>          <td> 3.573</td> <th>  Prob(JB):          </th> <td>2.15e-43</td>\n",
       "</tr>\n",
       "<tr>\n",
       "  <th>Kurtosis:</th>      <td>15.779</td> <th>  Cond. No.          </th> <td>    394.</td>\n",
       "</tr>\n",
       "</table>"
      ],
      "text/plain": [
       "<class 'statsmodels.iolib.summary.Summary'>\n",
       "\"\"\"\n",
       "                            WLS Regression Results                            \n",
       "==============================================================================\n",
       "Dep. Variable:            shootingspp   R-squared:                       0.096\n",
       "Model:                            WLS   Adj. R-squared:                  0.051\n",
       "Method:                 Least Squares   F-statistic:                     2.121\n",
       "Date:                Tue, 17 Oct 2017   Prob (F-statistic):              0.161\n",
       "Time:                        23:54:45   Log-Likelihood:                 155.10\n",
       "No. Observations:                  22   AIC:                            -306.2\n",
       "Df Residuals:                      20   BIC:                            -304.0\n",
       "Df Model:                           1                                         \n",
       "Covariance Type:            nonrobust                                         \n",
       "=================================================================================\n",
       "                    coef    std err          t      P>|t|      [0.025      0.975]\n",
       "---------------------------------------------------------------------------------\n",
       "Intercept      4.016e-05   6.89e-05      0.583      0.567      -0.000       0.000\n",
       "civfirecapita  4.009e-07   2.75e-07      1.457      0.161   -1.73e-07    9.75e-07\n",
       "==============================================================================\n",
       "Omnibus:                       46.597   Durbin-Watson:                   2.005\n",
       "Prob(Omnibus):                  0.000   Jarque-Bera (JB):              196.496\n",
       "Skew:                           3.573   Prob(JB):                     2.15e-43\n",
       "Kurtosis:                      15.779   Cond. No.                         394.\n",
       "==============================================================================\n",
       "\n",
       "Warnings:\n",
       "[1] Standard Errors assume that the covariance matrix of the errors is correctly specified.\n",
       "\"\"\""
      ]
     },
     "execution_count": 204,
     "metadata": {},
     "output_type": "execute_result"
    }
   ],
   "source": [
    "lm1 = smf.wls(formula='shootingspp ~ civfirecapita', data=df_, weights=abs(lm1.resid)).fit()\n",
    "lm1.summary()"
   ]
  },
  {
   "cell_type": "code",
   "execution_count": 209,
   "metadata": {
    "scrolled": true
   },
   "outputs": [
    {
     "data": {
      "text/plain": [
       "<matplotlib.text.Text at 0x11ee54470>"
      ]
     },
     "execution_count": 209,
     "metadata": {},
     "output_type": "execute_result"
    },
    {
     "data": {
      "image/png": "[encoded data removed]",
      "text/plain": [
       "<matplotlib.figure.Figure at 0x11e6ab940>"
      ]
     },
     "metadata": {},
     "output_type": "display_data"
    }
   ],
   "source": [
    "fig = pl.figure(figsize(20,20))\n",
    "\n",
    "ax1 = fig.add_subplot(221)\n",
    "ax1.scatter(df_['civfirecapita'], df_['shootingspp'], color='c')\n",
    "ax1.set_xlabel('Fire arms per capita')\n",
    "ax1.set_ylabel('Mass shootings percapita')\n",
    "\n",
    "ax2 = fig.add_subplot(222)\n",
    "ax2.scatter(df_['civfirecapita'], df_['shootingspp'], label='y', color='c')\n",
    "ax2.plot(df_['civfirecapita'], lm.predict(), 'r-', label='OLS fit')\n",
    "ax2.set_xlabel('Fire arms per capita')\n",
    "ax2.set_ylabel('Mass shootings percapita')\n",
    "ax2.legend()\n",
    "\n",
    "ax3 = fig.add_subplot(223)\n",
    "ax3.errorbar(df_['civfirecapita'], df_['shootingspp'],\n",
    "             yerr=np.sqrt(df_['shootingspp']), label='y', fmt='.', color='c')\n",
    "ax3.plot(df_['civfirecapita'], lm.predict(), 'r-', label='OLS fit')\n",
    "ax3.plot(df_['civfirecapita'], lm1.predict(), 'g-.', label='WLS fit')\n",
    "ax3.set_xlabel('Fire arms per capita')\n",
    "ax3.set_ylabel('Mass shootings percapita')\n",
    "ax3.legend()\n",
    "\n",
    "ax4 = fig.add_subplot(224)\n",
    "sns.regplot(x=df_['civfirecapita'], y=df_['shootingspp'], data=df_, color='c')\n",
    "ax4.set_xlabel('Fire arms per capita')\n",
    "ax4.set_ylabel('Mass shootings percapita')"
   ]
  },
  {
   "cell_type": "code",
   "execution_count": null,
   "metadata": {
    "collapsed": true
   },
   "outputs": [],
   "source": []
  }
 ],
 "metadata": {
  "anaconda-cloud": {},
  "kernelspec": {
   "display_name": "Python 3",
   "language": "python",
   "name": "python3"
  },
  "language_info": {
   "codemirror_mode": {
    "name": "ipython",
    "version": 3
   },
   "file_extension": ".py",
   "mimetype": "text/x-python",
   "name": "python",
   "nbconvert_exporter": "python",
   "pygments_lexer": "ipython3",
   "version": "3.6.1"
  },
  "latex_envs": {
   "LaTeX_envs_menu_present": true,
   "bibliofile": "biblio.bib",
   "cite_by": "apalike",
   "current_citInitial": 1,
   "eqLabelWithNumbers": true,
   "eqNumInitial": 1,
   "hotkeys": {
    "equation": "Ctrl-E",
    "itemize": "Ctrl-I"
   },
   "labels_anchors": false,
   "latex_user_defs": false,
   "report_style_numbering": false,
   "user_envs_cfg": false
  },
  "toc": {
   "colors": {
    "hover_highlight": "#DAA520",
    "running_highlight": "#FF0000",
    "selected_highlight": "#FFD700"
   },
   "moveMenuLeft": true,
   "nav_menu": {
    "height": "13px",
    "width": "251px"
   },
   "navigate_menu": true,
   "number_sections": true,
   "sideBar": true,
   "threshold": 4,
   "toc_cell": true,
   "toc_section_display": "block",
   "toc_window_display": true
  }
 },
 "nbformat": 4,
 "nbformat_minor": 1
}
